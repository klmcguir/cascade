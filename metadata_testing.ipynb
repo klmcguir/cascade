{
 "cells": [
  {
   "cell_type": "code",
   "execution_count": 1,
   "metadata": {},
   "outputs": [],
   "source": [
    "import os\n",
    "import flow"
   ]
  },
  {
   "cell_type": "code",
   "execution_count": 2,
   "metadata": {},
   "outputs": [
    {
     "name": "stdin",
     "output_type": "stream",
     "text": [
      "Enter mouse name:  OA27\n"
     ]
    },
    {
     "name": "stdout",
     "output_type": "stream",
     "text": [
      "OA27\n"
     ]
    }
   ],
   "source": [
    "mouse = raw_input(\"Enter mouse name: \")\n",
    "print(mouse)"
   ]
  },
  {
   "cell_type": "code",
   "execution_count": 3,
   "metadata": {},
   "outputs": [
    {
     "name": "stdin",
     "output_type": "stream",
     "text": [
      "Enter mouse name:  OA27\n"
     ]
    },
    {
     "name": "stdout",
     "output_type": "stream",
     "text": [
      "[2, 3]\n",
      "[2, 3]\n",
      "[1, 2]\n",
      "[2, 3, 4]\n",
      "[2, 3]\n",
      "[2, 3, 4]\n",
      "[2, 3, 4, 5]\n",
      "[4, 5, 6]\n",
      "[3, 4, 5, 6, 7]\n",
      "[2, 3, 4, 5]\n",
      "[2, 4, 5, 6]\n",
      "[3, 4, 5]\n",
      "[3, 4, 5, 6]\n",
      "[3, 4, 5]\n",
      "[3, 4, 5, 6]\n",
      "[2, 3, 4, 5, 6]\n",
      "[2, 3, 4, 5, 6]\n",
      "[2, 4, 5, 6]\n",
      "[2, 3, 4]\n",
      "[2, 3, 4, 5, 6]\n",
      "[2, 3, 4, 5]\n",
      "[5, 6]\n",
      "[1, 2]\n",
      "[1]\n",
      "[3, 4, 5, 6, 7]\n",
      "[2, 3, 4, 5, 6, 7]\n",
      "[2, 3, 4, 5, 6]\n",
      "[2, 3, 4, 5, 6]\n",
      "[2, 3, 4, 6]\n",
      "[2, 3, 5, 6]\n",
      "[2, 3, 5, 6, 7, 8]\n",
      "[3, 4, 5]\n",
      "[2, 3, 5, 6, 7]\n",
      "[2, 3, 4, 5, 6]\n",
      "[2, 3, 4, 6, 7]\n"
     ]
    }
   ],
   "source": [
    "# def metainput(mouse)\n",
    "# input is a mouse name \n",
    "# get your mouse data directory, check that it is a correctly formated dir\n",
    "mouse = raw_input(\"Enter mouse name: \")\n",
    "\n",
    "flow.metadata.add_mouse(mouse, tags='')\n",
    "data_dir = '/Users/kelly_mcguire/Documents/Data/data'\n",
    "mouse_dir = os.path.join(data_dir, mouse)\n",
    "dates = sorted(os.listdir(mouse_dir))\n",
    "# check that yor dir names are all digits \n",
    "dates = [s for s in dates if s.isdigit()]\n",
    "# check that yor dir names are dirs\n",
    "dates = [s for s in dates if os.path.isdir(os.path.join(mouse_dir, s))]\n",
    "\n",
    "# ask for unique date tags\n",
    "\n",
    "flow.metadata.add_date(mouse, dates)\n",
    "\n",
    "for i in dates:\n",
    "    simp_dir = sorted(os.listdir(os.path.join(mouse_dir, i)))\n",
    "    simp_dir = [s for s in simp_dir if s.endswith('.simpcell')]\n",
    "    run_nums = [int(s[-12:-9]) for s in simp_dir if s.endswith('.simpcell')]\n",
    "    print(run_nums)\n",
    "    \n",
    "    flow.metadata.add_run(mouse, dates, )\n",
    "#     print(simp_dir)\n",
    "\n",
    "# get all dates from folders\n",
    "# run_tags = ['hungry', 'sated', ]\n",
    "# run_codes = [1, 2 ]\n",
    "# input = int(raw_input(\"Enter mouse name: \") or \"42\")\n",
    "# print(input)"
   ]
  },
  {
   "cell_type": "code",
   "execution_count": 16,
   "metadata": {},
   "outputs": [],
   "source": [
    "flow.metadata.add_mouse('OA27')"
   ]
  },
  {
   "cell_type": "code",
   "execution_count": null,
   "metadata": {},
   "outputs": [],
   "source": []
  }
 ],
 "metadata": {
  "kernelspec": {
   "display_name": "Python 2",
   "language": "python",
   "name": "python2"
  },
  "language_info": {
   "codemirror_mode": {
    "name": "ipython",
    "version": 2
   },
   "file_extension": ".py",
   "mimetype": "text/x-python",
   "name": "python",
   "nbconvert_exporter": "python",
   "pygments_lexer": "ipython2",
   "version": "2.7.15"
  }
 },
 "nbformat": 4,
 "nbformat_minor": 2
}
