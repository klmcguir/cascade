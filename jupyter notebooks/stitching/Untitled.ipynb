{
 "cells": [
  {
   "cell_type": "code",
   "execution_count": 4,
   "metadata": {},
   "outputs": [],
   "source": [
    "import numpy as np\n",
    "import os\n",
    "import flow\n",
    "import pandas as pd\n",
    "from copy import deepcopy\n",
    "from cascade import tca\n",
    "from cascade import paths\n",
    "import matplotlib.pyplot as plt\n",
    "import seaborn as sns"
   ]
  },
  {
   "cell_type": "code",
   "execution_count": 37,
   "metadata": {},
   "outputs": [],
   "source": [
    "mouse='OA27'\n",
    "rank_num=10\n",
    "trace_type='zscore_day'\n",
    "method='ncp_bcd'\n",
    "cs=''\n",
    "warp=False\n",
    "word='convinced'\n",
    "group_word='supply'\n",
    "group_by='high_dprime_learning'\n",
    "exclude_reversal=True\n",
    "sim_thresh=0.2\n",
    "ratio_thresh=0.6"
   ]
  },
  {
   "cell_type": "code",
   "execution_count": 38,
   "metadata": {},
   "outputs": [],
   "source": [
    "# ------------------- GROUPDAY LOADING -------------------\n",
    "\n",
    "# groupday loader\n",
    "pars = {'trace_type': trace_type, 'cs': cs, 'warp': warp}\n",
    "group_pars = {'group_by': group_by}\n",
    "\n",
    "# load dir\n",
    "load_dir = paths.tca_path(\n",
    "    mouse, 'group', pars=pars, word=group_word, group_pars=group_pars)\n",
    "template_tensor_path = os.path.join(\n",
    "    load_dir, str(mouse) + '_' + str(group_by)\n",
    "    + '_group_decomp_' + str(trace_type) + '.npy')\n",
    "template_meta_path = os.path.join(\n",
    "    load_dir, str(mouse) + '_' + str(group_by)\n",
    "    + '_df_group_meta.pkl')\n",
    "template_ids_path = os.path.join(\n",
    "    load_dir, str(mouse) + '_' + str(group_by)\n",
    "    + '_group_ids_' + str(trace_type) + '.npy')\n",
    "\n",
    "# load your data\n",
    "template_ensemble = np.load(template_tensor_path)\n",
    "template_ensemble = template_ensemble.item()\n",
    "ids = np.load(template_ids_path)\n",
    "meta = pd.read_pickle(template_meta_path)\n",
    "\n",
    "# get trial metadata\n",
    "template_orientation = meta['orientation']\n",
    "template_trial_num = np.arange(0, len(template_orientation))\n",
    "template_condition = meta['condition']\n",
    "template_trialerror = meta['trialerror']\n",
    "template_hunger = deepcopy(meta['hunger'])\n",
    "template_speed = meta['speed']\n",
    "template_dates = meta.reset_index()['date']\n",
    "template_learning_state = meta['learning_state']\n",
    "\n",
    "# merge hunger and tag info for plotting hunger\n",
    "template_tags = meta['tag']\n",
    "template_hunger[template_tags == 'disengaged'] = 'disengaged'\n",
    "\n",
    "# calculate change indices for days and reversal/learning\n",
    "udays = {d: c for c, d in enumerate(np.unique(template_dates))}\n",
    "ndays = np.diff([udays[i] for i in template_dates])\n",
    "day_x = np.where(ndays)[0] + 0.5\n",
    "ustate = {d: c for c, d in enumerate(np.unique(template_learning_state))}\n",
    "nstate = np.diff([ustate[i] for i in template_learning_state])\n",
    "lstate_x = np.where(nstate)[0] + 0.5\n",
    "\n",
    "# sort neuron factors by component they belong to most\n",
    "template_sort_ensemble, template_my_sorts = tca._sortfactors(\n",
    "    template_ensemble[method])\n",
    "\n",
    "# put ids in correct order (k is 1 indexed)\n",
    "template_cell_ids = {}  # keys are rank\n",
    "for k in template_sort_ensemble.results.keys():\n",
    "    template_cell_ids[k] = ids[template_my_sorts[k-1]]\n",
    "\n",
    "# get template factors of interest\n",
    "template_factors = template_sort_ensemble.results[rank_num][0]\n",
    "template_cell_ids = template_cell_ids[rank_num]\n",
    "\n",
    "# ------------------- SINGLEDAY LOADING -------------------\n",
    "\n",
    "# pars for loading tca data\n",
    "pars = {'trace_type': trace_type, 'cs': cs, 'warp': warp}\n",
    "\n",
    "# create datesorter\n",
    "days = flow.DateSorter.frommeta(mice=[mouse], tags=None)\n",
    "\n",
    "conds_by_day = []\n",
    "oris_by_day = []\n",
    "trialerr_by_day = []\n",
    "neuron_ids_by_day = []\n",
    "neuron_clusters_by_day = []\n",
    "factors_by_day = []\n",
    "ndate = []\n",
    "# noise_corr_by_day = []\n",
    "\n",
    "# loop through days in FORWARD order\n",
    "for day1 in days:\n",
    "\n",
    "    # load dir\n",
    "    load_dir = paths.tca_path(mouse, 'single',\n",
    "                              pars=pars, word=word)\n",
    "    tensor_path = os.path.join(load_dir, str(day1.mouse)\n",
    "                               + '_' + str(day1.date)\n",
    "                               + '_single_decomp_'\n",
    "                               + str(trace_type) + '.npy')\n",
    "    input_tensor_path = os.path.join(load_dir, str(day1.mouse)\n",
    "                                     + '_' + str(day1.date)\n",
    "                                     + '_single_tensor_'\n",
    "                                     + str(trace_type) + '.npy')\n",
    "    input_ids_path = os.path.join(load_dir, str(day1.mouse)\n",
    "                                  + '_' + str(day1.date)\n",
    "                                  + '_single_ids_'\n",
    "                                  + str(trace_type) + '.npy')\n",
    "    meta_path = os.path.join(load_dir, str(day1.mouse)\n",
    "                             + '_' + str(day1.date)\n",
    "                             + '_df_single_meta.pkl')\n",
    "\n",
    "    # load your metadata, skip post reversal days\n",
    "    meta = pd.read_pickle(meta_path)\n",
    "    condition = meta['condition']\n",
    "    orientation = meta['orientation']\n",
    "    trialerror = meta['trialerror']\n",
    "    if exclude_reversal:\n",
    "        if 'reversal1' in meta['learning_state'].unique() \\\n",
    "        or 'reversal2' in meta['learning_state'].unique():\n",
    "            continue\n",
    "\n",
    "    # skip days that do not have minus, AND neutral\n",
    "    if 'minus' not in meta['condition'].unique() \\\n",
    "    or 'neutral' not in meta['condition'].unique() \\\n",
    "    or 'plus' not in meta['condition'].unique():\n",
    "        continue\n",
    "\n",
    "    # print\n",
    "    ndate.append(day1.date)\n",
    "\n",
    "    # load your data\n",
    "    ensemble = np.load(tensor_path)\n",
    "    ensemble = ensemble.item()\n",
    "    ids = np.load(input_ids_path)\n",
    "\n",
    "    # sort neuron factors by component they belong to most\n",
    "    sort_ensemble, my_sorts = tca._sortfactors(ensemble[method])\n",
    "\n",
    "    cell_ids = {}  # keys are rank\n",
    "    cell_clusters = {}\n",
    "    itr_num = 0  # use only best iteration of TCA, index 0\n",
    "    for k in sort_ensemble.results.keys():\n",
    "        # factors are already sorted, so these will define\n",
    "        # clusters, no need to sort again\n",
    "        factors = sort_ensemble.results[k][itr_num].factors[0]\n",
    "        max_fac = np.argmax(factors, axis=1)\n",
    "        cell_clusters[k] = max_fac\n",
    "        cell_ids[k] = ids[my_sorts[k-1]]\n",
    "\n",
    "    # get noise corr for each\n",
    "    # cs_noise = []\n",
    "    # for cs in ['0', '135', '270']:\n",
    "    #     cs_noise.append(pool.calc.correlations.noise(day1, cs))\n",
    "\n",
    "    # noise_corr_by_day.append(cs_noise)\n",
    "    neuron_ids_by_day.append(cell_ids[rank_num])\n",
    "    neuron_clusters_by_day.append(cell_clusters[rank_num])\n",
    "    factors_by_day.append(sort_ensemble.results[rank_num][0])\n",
    "    conds_by_day.append(condition)\n",
    "    oris_by_day.append(orientation)\n",
    "    trialerr_by_day.append(trialerror)\n",
    "\n",
    "# ------------------- CORRELATE -------------------\n",
    "\n",
    "# create similarity matrices for comparison of all neuron\n",
    "# factors weights between a pair of days\n",
    "noise_mat_by_day = []\n",
    "on_sim_mat_by_day = []\n",
    "off_sim_mat_by_day = []\n",
    "tuning_sim_mat_by_day = []\n",
    "noise_id = []\n",
    "cells_compared = []\n",
    "for i in range(len(factors_by_day)):\n",
    "\n",
    "    # always compare in the time-forward direction\n",
    "    ids1 = template_cell_ids\n",
    "    ids2 = neuron_ids_by_day[i]\n",
    "    ids1_bool = np.isin(ids1, ids2)\n",
    "    ids2_bool = np.isin(ids2, ids1)\n",
    "\n",
    "    # get sort order to match ids between days\n",
    "    ids1_sort = np.argsort(ids1[ids1_bool])\n",
    "    ids2_sort = np.argsort(ids2[ids2_bool])\n",
    "\n",
    "    # get neuron factor weight matrices for ids matched between days\n",
    "    ids1_weights = template_factors.factors[0][ids1_bool, :]\n",
    "    ids2_weights = factors_by_day[i].factors[0][ids2_bool, :]\n",
    "    cells_compared.append(np.shape(ids1_weights)[0])\n",
    "\n",
    "    # get noise corr only for cells included in comparison\n",
    "    # cs_noise = noise_corr_by_day[i]\n",
    "    # id_cs_noise = []\n",
    "    # cs_noise_bool = np.isin(np.arange(len(cs_noise[0]))+1, ids2)\n",
    "    # for cs in range(len(['0', '135', '270'])):\n",
    "    #     cs_bool = cs_noise[cs][cs_noise_bool, :][:, cs_noise_bool]\n",
    "    #     id_cs_noise.append(cs_bool)\n",
    "\n",
    "    on_corr = np.corrcoef(\n",
    "        ids1_weights[ids1_sort, :].T, y=ids2_weights[ids2_sort, :].T)\n",
    "    on_corr[np.isnan(on_corr)] = 0\n",
    "    on_sim_mat_by_day.append(deepcopy(on_corr[-rank_num:, 0:rank_num]))\n",
    "    # noise_mat_by_day.append(id_cs_noise)\n",
    "\n",
    "# ------------------- STITCH TOGETHER CORRELATION MAPS -------------------\n",
    "\n",
    "# find the best correlated factor and second-best correlated factor in the\n",
    "# groupday template for each singleday factor\n",
    "best_arg = np.zeros((len(on_sim_mat_by_day), rank_num))\n",
    "best_val = np.zeros((len(on_sim_mat_by_day), rank_num))\n",
    "second_best_arg = np.zeros((len(on_sim_mat_by_day), rank_num))\n",
    "second_best_val = np.zeros((len(on_sim_mat_by_day), rank_num))\n",
    "test_temp = []\n",
    "for c, sim_mat in enumerate(on_sim_mat_by_day):\n",
    "    y = np.argmax(sim_mat, axis=0)\n",
    "    y2 = np.argsort(sim_mat, axis=0)[-2]  # second best value\n",
    "    yv = np.max(sim_mat, axis=0)\n",
    "    yv2 = np.sort(sim_mat, axis=0)[-2]\n",
    "    best_arg[c, :] = y\n",
    "    best_val[c, :] = yv\n",
    "    second_best_arg[c, :] = y2\n",
    "    second_best_val[c, :] = yv2\n",
    "\n",
    "# ------------------- FILTER CORRELATION MAPS -------------------\n",
    "\n",
    "# create boolean matrices to remove bad matches from your best_arg factor\n",
    "# matches\n",
    "numer = second_best_val\n",
    "numer[numer < 0] = 0\n",
    "denom = best_val\n",
    "denom[denom < 0] = 0\n",
    "ratio = numer/denom  # 1 is bad, means the best corr and 2nd best are same\n",
    "bad_sim_bool = best_val < sim_thresh\n",
    "bad_ratio_bool = ratio > ratio_thresh\n",
    "\n",
    "# set matches that are poorly correlated or too similar to the next-best\n",
    "# match to -1\n",
    "factor_map = best_arg\n",
    "factor_map[bad_sim_bool] = -1"
   ]
  },
  {
   "cell_type": "code",
   "execution_count": 39,
   "metadata": {},
   "outputs": [
    {
     "data": {
      "text/plain": [
       "Text(0.5, 1.0, 'combo thresholded best similarity and ratio')"
      ]
     },
     "execution_count": 39,
     "metadata": {},
     "output_type": "execute_result"
    },
    {
     "data": {
      "image/png": "[encoded data removed]",
      "text/plain": [
       "<Figure size 432x288 with 2 Axes>"
      ]
     },
     "metadata": {
      "needs_background": "light"
     },
     "output_type": "display_data"
    },
    {
     "data": {
      "image/png": "[encoded data removed]",
      "text/plain": [
       "<Figure size 432x288 with 2 Axes>"
      ]
     },
     "metadata": {
      "needs_background": "light"
     },
     "output_type": "display_data"
    },
    {
     "data": {
      "image/png": "[encoded data removed]",
      "text/plain": [
       "<Figure size 432x288 with 2 Axes>"
      ]
     },
     "metadata": {
      "needs_background": "light"
     },
     "output_type": "display_data"
    },
    {
     "data": {
      "image/png": "[encoded data removed]",
      "text/plain": [
       "<Figure size 432x288 with 1 Axes>"
      ]
     },
     "metadata": {
      "needs_background": "light"
     },
     "output_type": "display_data"
    },
    {
     "data": {
      "image/png": "[encoded data removed]",
      "text/plain": [
       "<Figure size 432x288 with 1 Axes>"
      ]
     },
     "metadata": {
      "needs_background": "light"
     },
     "output_type": "display_data"
    },
    {
     "data": {
      "image/png": "[encoded data removed]",
      "text/plain": [
       "<Figure size 432x288 with 1 Axes>"
      ]
     },
     "metadata": {
      "needs_background": "light"
     },
     "output_type": "display_data"
    }
   ],
   "source": [
    "my_thresh = 0.5\n",
    "my_ratio_thresh = 0.9\n",
    "\n",
    "plt.figure()\n",
    "plt.imshow(best_val.T, aspect='auto',)# vmin=-1, vmax=1)\n",
    "plt.colorbar()\n",
    "plt.title('best similarity')\n",
    "\n",
    "plt.figure()\n",
    "plt.imshow(second_best_val.T, aspect='auto', vmin=0, vmax=1)\n",
    "plt.colorbar()\n",
    "plt.title('2nd best similarity')\n",
    "\n",
    "plt.figure()\n",
    "plt.imshow(ratio.T, aspect='auto')\n",
    "plt.colorbar()\n",
    "plt.title('(2nd best)/(best) similarity')\n",
    "\n",
    "plt.figure()\n",
    "plt.imshow(best_val.T > my_thresh, aspect='auto')\n",
    "# plt.colorbar()\n",
    "plt.title('thresholded best similarity >' + str(my_thresh))\n",
    "\n",
    "plt.figure()\n",
    "plt.imshow(ratio.T < my_ratio_thresh, aspect='auto')\n",
    "# plt.colorbar()\n",
    "plt.title('thresholded ratio >' + str(my_ratio_thresh))\n",
    "\n",
    "plt.figure()\n",
    "plt.imshow((best_val.T > my_thresh)*(ratio.T < my_ratio_thresh), aspect='auto')\n",
    "# plt.colorbar()\n",
    "plt.title('combo thresholded best similarity and ratio')\n"
   ]
  },
  {
   "cell_type": "code",
   "execution_count": 34,
   "metadata": {},
   "outputs": [
    {
     "data": {
      "text/plain": [
       "[<matplotlib.lines.Line2D at 0x1c290fd5c0>]"
      ]
     },
     "execution_count": 34,
     "metadata": {},
     "output_type": "execute_result"
    },
    {
     "data": {
      "image/png": "[encoded data removed]",
      "text/plain": [
       "<Figure size 432x288 with 1 Axes>"
      ]
     },
     "metadata": {
      "needs_background": "light"
     },
     "output_type": "display_data"
    }
   ],
   "source": [
    "plt.figure()\n",
    "plt.plot(np.mean(best_val, axis=1))"
   ]
  }
 ],
 "metadata": {
  "kernelspec": {
   "display_name": "Python 3",
   "language": "python",
   "name": "python3"
  },
  "language_info": {
   "codemirror_mode": {
    "name": "ipython",
    "version": 3
   },
   "file_extension": ".py",
   "mimetype": "text/x-python",
   "name": "python",
   "nbconvert_exporter": "python",
   "pygments_lexer": "ipython3",
   "version": "3.6.7"
  }
 },
 "nbformat": 4,
 "nbformat_minor": 2
}
