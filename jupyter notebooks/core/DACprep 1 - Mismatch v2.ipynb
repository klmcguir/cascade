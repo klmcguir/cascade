{
 "cells": [
  {
   "cell_type": "markdown",
   "metadata": {},
   "source": [
    "# New Mismatch - V2\n",
    "### Clean start on mismatch calculations with a few things in mind:\n",
    "1. Mismatch calculated for low speed. Mismatch calculated for high speed. \n",
    "    - May want to do this calculation only stimulus period so that “inhibition” is also included\n",
    "2. Mismatch trials \n",
    "    - Norm to maximum pre/post reversal \n",
    "    - Could do each trial or each run/day imaging session\n",
    "3. For offset cells, do heatmap with ensure delivery sort, and lick onset sort. Do trial do trial for a day L5\n",
    "    - Could go back for same cells L1 and look at Pavlovians "
   ]
  },
  {
   "cell_type": "code",
   "execution_count": 1,
   "metadata": {},
   "outputs": [],
   "source": [
    "%load_ext autoreload\n",
    "%autoreload 2\n",
    "import cascade as cas\n",
    "import flow\n",
    "import matplotlib.pyplot as plt\n",
    "import seaborn as sns\n",
    "import numpy as np\n",
    "import os\n",
    "import pandas as pd\n",
    "import warnings\n",
    "from cascade import utils\n",
    "from scipy.stats import pearsonr\n",
    "from copy import deepcopy"
   ]
  },
  {
   "cell_type": "code",
   "execution_count": 2,
   "metadata": {
    "scrolled": true
   },
   "outputs": [
    {
     "name": "stdout",
     "output_type": "stream",
     "text": [
      "Updated naive cs-ori pairings to match learning.\n",
      "     135 plus\n",
      "     270 minus\n",
      "     0 neutral\n",
      "Updated naive trialerror to match learning.\n",
      "Updated naive cs-ori pairings to match learning.\n",
      "     0 plus\n",
      "     270 minus\n",
      "     135 neutral\n",
      "Updated naive trialerror to match learning.\n",
      "Updated naive cs-ori pairings to match learning.\n",
      "     270 plus\n",
      "     0 minus\n",
      "     135 neutral\n",
      "Updated naive trialerror to match learning.\n",
      "Updated naive cs-ori pairings to match learning.\n",
      "     135 plus\n",
      "     0 minus\n",
      "     270 neutral\n",
      "Updated naive trialerror to match learning.\n",
      "Updated naive cs-ori pairings to match learning.\n",
      "     270 plus\n",
      "     135 minus\n",
      "     0 neutral\n",
      "Updated naive trialerror to match learning.\n",
      "Updated naive cs-ori pairings to match learning.\n",
      "     270 plus\n",
      "     135 minus\n",
      "     0 neutral\n",
      "Updated naive trialerror to match learning.\n",
      "Updated naive cs-ori pairings to match learning.\n",
      "     135 plus\n",
      "     0 minus\n",
      "     270 neutral\n",
      "Updated naive trialerror to match learning.\n",
      "Updated naive cs-ori pairings to match learning.\n",
      "     270 plus\n",
      "     135 minus\n",
      "     0 neutral\n",
      "Updated naive trialerror to match learning.\n",
      "Updated naive cs-ori pairings to match learning.\n",
      "     0 plus\n",
      "     270 minus\n",
      "     135 neutral\n",
      "Updated naive trialerror to match learning.\n",
      "Updated naive cs-ori pairings to match learning.\n",
      "     135 plus\n",
      "     0 minus\n",
      "     270 neutral\n",
      "Updated naive trialerror to match learning.\n",
      "Updated naive cs-ori pairings to match learning.\n",
      "     0 plus\n",
      "     270 minus\n",
      "     135 neutral\n",
      "Updated naive trialerror to match learning.\n",
      "Updated naive cs-ori pairings to match learning.\n",
      "     0 plus\n",
      "     270 minus\n",
      "     135 neutral\n",
      "Updated naive trialerror to match learning.\n"
     ]
    }
   ],
   "source": [
    "# set parameters\n",
    "mice = cas.lookups.mice['all12']\n",
    "# words = ['facilitate'] * len(mice)\n",
    "words = ['respondent' if s in 'OA27' else 'computation' for s in mice]\n",
    "group_by = 'all3'\n",
    "\n",
    "rank_level_sort = 15\n",
    "\n",
    "# mice = ['OA27']\n",
    "# words = ['bookmarks']\n",
    "\n",
    "# load in a full size tensor\n",
    "model_list = []\n",
    "tensor_list = []\n",
    "id_list = []\n",
    "bhv_list = []\n",
    "meta_list = []\n",
    "for mouse, word in zip(mice, words):\n",
    "    \n",
    "    # return   model, ids, tensor, meta, bhv\n",
    "    out = cas.load.load_all_groupday(mouse, word=word, with_model=True, group_by=group_by, nan_thresh=0.95)\n",
    "    sorted_model, sort_order = utils.sortfactors(out[0])\n",
    "    model_list.append(sorted_model)\n",
    "    tensor_list.append(out[2][sort_order[rank_level_sort - 1], :, :])\n",
    "    id_list.append(out[1][sort_order[rank_level_sort - 1]])\n",
    "    bhv_list.append(out[4])\n",
    "    meta_list.append(utils.add_stages_to_meta(out[3], 'parsed_11stage'))"
   ]
  }
 ],
 "metadata": {
  "kernelspec": {
   "display_name": "Python 3",
   "language": "python",
   "name": "python3"
  },
  "language_info": {
   "codemirror_mode": {
    "name": "ipython",
    "version": 3
   },
   "file_extension": ".py",
   "mimetype": "text/x-python",
   "name": "python",
   "nbconvert_exporter": "python",
   "pygments_lexer": "ipython3",
   "version": "3.6.12"
  }
 },
 "nbformat": 4,
 "nbformat_minor": 4
}
