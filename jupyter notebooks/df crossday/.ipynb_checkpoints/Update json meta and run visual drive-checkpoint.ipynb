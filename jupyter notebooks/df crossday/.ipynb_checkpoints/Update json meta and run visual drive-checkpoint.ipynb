{
 "cells": [
  {
   "cell_type": "markdown",
   "metadata": {},
   "source": [
    "import flow\n",
    "import pool\n",
    "import numpy as np"
   ]
  },
  {
   "cell_type": "code",
   "execution_count": null,
   "metadata": {},
   "outputs": [],
   "source": [
    "## update json metadata to include training for naive runs"
   ]
  },
  {
   "cell_type": "markdown",
   "metadata": {},
   "source": [
    "update = True\n",
    "mice=['OA27', 'OA26', 'OA67', 'CC175', 'VF226']\n",
    "# get all runs for an existing mouse\n",
    "runs = flow.metadata.RunSorter.frommeta(mice=mice)\n",
    "\n",
    "for run in runs:\n",
    "\n",
    "    # check for undesirable tags (runs where animal is not training)\n",
    "    tag_flag = [False for s in range(len(run.tags)) if run.tags[s] == 'sated'\n",
    "                or run.tags[s] == 'orientation_mapping'\n",
    "                or run.tags[s] == 'contrast'\n",
    "                or run.tags[s] == 'disengaged'\n",
    "                or run.tags[s] == 'retinotopy']\n",
    "\n",
    "    # check for undesirable run_type (where animal is not training)\n",
    "#     type_flag = run.run_type == 'naive'\n",
    "\n",
    "    # update metadata for all approved runs (tag_flag == empty)\n",
    "    # add current run_type to tags and make update run_type\n",
    "    if not tag_flag:\n",
    "        run_type = 'training'\n",
    "        flow.metadata.add_run(run.mouse, run.date, run.run, run_type,\n",
    "                              tags=None, overwrite=False, update=update)\n",
    "    else:\n",
    "        run_type = 'other'\n",
    "        flow.metadata.add_run(run.mouse, run.date, run.run, run_type,\n",
    "                              tags=None, overwrite=False, update=update)\n"
   ]
  },
  {
   "cell_type": "markdown",
   "metadata": {},
   "source": [
    "days = flow.metadata.DateSorter.frommeta(mice=['OA27', 'OA26', 'OA67', 'CC175', 'VF226'], tags=None)\n",
    "# print(days)\n",
    "css = ['plus', 'minus', 'neutral']\n",
    "for day in days:\n",
    "#     print(day)\n",
    "#     if not np.any([True for s in day.tags if s == 'naive']):\n",
    "    pool.calc.driven.visually(day, cs)\n",
    "    try:\n",
    "        for cs in css:\n",
    "            pool.calc.driven.visually(day, cs)\n",
    "    except:\n",
    "        print('Visual skipped: ' + str(day))\n",
    "        \n",
    "    try:\n",
    "        for cs in css:\n",
    "            pool.calc.driven.trial(day, cs)\n",
    "    except:\n",
    "        print('Trial skipped: ' + str(day))\n"
   ]
  },
  {
   "cell_type": "code",
   "execution_count": null,
   "metadata": {},
   "outputs": [],
   "source": []
  },
  {
   "cell_type": "code",
   "execution_count": 20,
   "metadata": {},
   "outputs": [
    {
     "name": "stdout",
     "output_type": "stream",
     "text": [
      "181 (266,)\n",
      "177 (241,)\n",
      "110 (152,)\n",
      "174 (216,)\n",
      "142 (202,)\n",
      "158 (234,)\n",
      "157 (250,)\n",
      "192 (209,)\n",
      "193 (223,)\n",
      "207 (252,)\n",
      "214 (241,)\n",
      "202 (239,)\n",
      "292 (325,)\n",
      "231 (273,)\n",
      "200 (237,)\n",
      "184 (215,)\n",
      "249 (282,)\n",
      "227 (253,)\n",
      "247 (281,)\n",
      "188 (216,)\n",
      "236 (262,)\n",
      "296 (318,)\n",
      "326 (352,)\n",
      "228 (268,)\n",
      "218 (258,)\n",
      "204 (243,)\n",
      "235 (269,)\n",
      "285 (313,)\n",
      "206 (236,)\n",
      "292 (307,)\n",
      "335 (367,)\n",
      "done.\n"
     ]
    }
   ],
   "source": [
    "days = flow.metadata.DateSorter.frommeta(mice=['OA27'], tags=None)\n",
    "drive_css = ['plus', 'minus', 'neutral']\n",
    "\n",
    "for c, day1 in enumerate(days, 0):\n",
    "    \n",
    "    try:\n",
    "        day2 = days[c+1]\n",
    "    except IndexError:\n",
    "        print('done.')\n",
    "        break\n",
    "    \n",
    "    if not np.any([True for s in day1.tags if s == 'naive']) and not np.any([True for s in day2.tags if s == 'naive']):\n",
    "        print([pool.calc.driven.visually(day1, cs) for cs in drive_css])\n",
    "        d1_drive = np.sum([pool.calc.driven.visually(day1, cs) for cs in drive_css], axis=0)\n",
    "        d2_drive = np.sum([pool.calc.driven.visually(day2, cs) for cs in drive_css], axis=0)\n",
    "        print(np.sum(d1_drive>0), np.shape(d1_drive))"
   ]
  },
  {
   "cell_type": "code",
   "execution_count": 2,
   "metadata": {},
   "outputs": [
    {
     "name": "stdout",
     "output_type": "stream",
     "text": [
      "{'0': 'orientation_0', '45': 'orientation_45', '90': 'orientation_90', '135': 'orientation_135', '180': 'orientation_180', '225': 'orientation_225', '270': 'orientation_270', '315': 'orientation_315'}\n"
     ]
    },
    {
     "data": {
      "text/plain": [
       "array([[[0.00000000e+00, 0.00000000e+00, 0.00000000e+00, ...,\n",
       "         0.00000000e+00, 0.00000000e+00, 0.00000000e+00],\n",
       "        [0.00000000e+00, 0.00000000e+00, 0.00000000e+00, ...,\n",
       "         0.00000000e+00, 3.56333317e-02, 5.40499157e-01],\n",
       "        [0.00000000e+00, 0.00000000e+00, 1.19499628e-01, ...,\n",
       "         0.00000000e+00, 0.00000000e+00, 0.00000000e+00],\n",
       "        ...,\n",
       "        [0.00000000e+00, 0.00000000e+00, 0.00000000e+00, ...,\n",
       "         0.00000000e+00, 0.00000000e+00, 0.00000000e+00],\n",
       "        [0.00000000e+00, 0.00000000e+00, 0.00000000e+00, ...,\n",
       "         0.00000000e+00, 0.00000000e+00, 0.00000000e+00],\n",
       "        [0.00000000e+00, 0.00000000e+00, 0.00000000e+00, ...,\n",
       "         0.00000000e+00, 0.00000000e+00, 0.00000000e+00]],\n",
       "\n",
       "       [[0.00000000e+00, 0.00000000e+00, 0.00000000e+00, ...,\n",
       "         0.00000000e+00, 0.00000000e+00, 0.00000000e+00],\n",
       "        [0.00000000e+00, 0.00000000e+00, 0.00000000e+00, ...,\n",
       "         5.12694675e-01, 4.56919586e-01, 0.00000000e+00],\n",
       "        [0.00000000e+00, 0.00000000e+00, 0.00000000e+00, ...,\n",
       "         0.00000000e+00, 0.00000000e+00, 0.00000000e+00],\n",
       "        ...,\n",
       "        [0.00000000e+00, 0.00000000e+00, 0.00000000e+00, ...,\n",
       "         0.00000000e+00, 0.00000000e+00, 0.00000000e+00],\n",
       "        [0.00000000e+00, 0.00000000e+00, 0.00000000e+00, ...,\n",
       "         0.00000000e+00, 0.00000000e+00, 0.00000000e+00],\n",
       "        [0.00000000e+00, 0.00000000e+00, 0.00000000e+00, ...,\n",
       "         0.00000000e+00, 0.00000000e+00, 0.00000000e+00]],\n",
       "\n",
       "       [[0.00000000e+00, 0.00000000e+00, 0.00000000e+00, ...,\n",
       "         0.00000000e+00, 0.00000000e+00, 0.00000000e+00],\n",
       "        [0.00000000e+00, 0.00000000e+00, 0.00000000e+00, ...,\n",
       "         0.00000000e+00, 0.00000000e+00, 0.00000000e+00],\n",
       "        [0.00000000e+00, 0.00000000e+00, 1.77123764e-01, ...,\n",
       "         0.00000000e+00, 0.00000000e+00, 1.65365461e-01],\n",
       "        ...,\n",
       "        [0.00000000e+00, 0.00000000e+00, 0.00000000e+00, ...,\n",
       "         0.00000000e+00, 0.00000000e+00, 0.00000000e+00],\n",
       "        [0.00000000e+00, 0.00000000e+00, 0.00000000e+00, ...,\n",
       "         0.00000000e+00, 0.00000000e+00, 0.00000000e+00],\n",
       "        [0.00000000e+00, 0.00000000e+00, 0.00000000e+00, ...,\n",
       "         0.00000000e+00, 0.00000000e+00, 0.00000000e+00]],\n",
       "\n",
       "       ...,\n",
       "\n",
       "       [[0.00000000e+00, 0.00000000e+00, 0.00000000e+00, ...,\n",
       "         0.00000000e+00, 0.00000000e+00, 0.00000000e+00],\n",
       "        [0.00000000e+00, 0.00000000e+00, 0.00000000e+00, ...,\n",
       "         0.00000000e+00, 1.17725873e-01, 0.00000000e+00],\n",
       "        [0.00000000e+00, 0.00000000e+00, 2.51613113e-05, ...,\n",
       "         0.00000000e+00, 0.00000000e+00, 0.00000000e+00],\n",
       "        ...,\n",
       "        [0.00000000e+00, 0.00000000e+00, 0.00000000e+00, ...,\n",
       "         0.00000000e+00, 0.00000000e+00, 0.00000000e+00],\n",
       "        [0.00000000e+00, 0.00000000e+00, 0.00000000e+00, ...,\n",
       "         0.00000000e+00, 0.00000000e+00, 0.00000000e+00],\n",
       "        [0.00000000e+00, 0.00000000e+00, 0.00000000e+00, ...,\n",
       "         0.00000000e+00, 0.00000000e+00, 0.00000000e+00]],\n",
       "\n",
       "       [[0.00000000e+00, 0.00000000e+00, 0.00000000e+00, ...,\n",
       "         0.00000000e+00, 0.00000000e+00, 0.00000000e+00],\n",
       "        [0.00000000e+00, 0.00000000e+00, 0.00000000e+00, ...,\n",
       "         0.00000000e+00, 0.00000000e+00, 0.00000000e+00],\n",
       "        [0.00000000e+00, 0.00000000e+00, 0.00000000e+00, ...,\n",
       "         0.00000000e+00, 0.00000000e+00, 0.00000000e+00],\n",
       "        ...,\n",
       "        [0.00000000e+00, 0.00000000e+00, 0.00000000e+00, ...,\n",
       "         0.00000000e+00, 0.00000000e+00, 0.00000000e+00],\n",
       "        [0.00000000e+00, 0.00000000e+00, 0.00000000e+00, ...,\n",
       "         0.00000000e+00, 0.00000000e+00, 0.00000000e+00],\n",
       "        [0.00000000e+00, 0.00000000e+00, 0.00000000e+00, ...,\n",
       "         6.24256677e-02, 0.00000000e+00, 0.00000000e+00]],\n",
       "\n",
       "       [[0.00000000e+00, 0.00000000e+00, 0.00000000e+00, ...,\n",
       "         0.00000000e+00, 0.00000000e+00, 0.00000000e+00],\n",
       "        [0.00000000e+00, 0.00000000e+00, 0.00000000e+00, ...,\n",
       "         0.00000000e+00, 2.24730864e-01, 0.00000000e+00],\n",
       "        [0.00000000e+00, 0.00000000e+00, 0.00000000e+00, ...,\n",
       "         0.00000000e+00, 9.62002323e-02, 0.00000000e+00],\n",
       "        ...,\n",
       "        [0.00000000e+00, 0.00000000e+00, 0.00000000e+00, ...,\n",
       "         0.00000000e+00, 0.00000000e+00, 0.00000000e+00],\n",
       "        [0.00000000e+00, 5.82891073e-02, 0.00000000e+00, ...,\n",
       "         0.00000000e+00, 0.00000000e+00, 0.00000000e+00],\n",
       "        [0.00000000e+00, 0.00000000e+00, 0.00000000e+00, ...,\n",
       "         0.00000000e+00, 0.00000000e+00, 0.00000000e+00]]])"
      ]
     },
     "execution_count": 2,
     "metadata": {},
     "output_type": "execute_result"
    }
   ],
   "source": [
    "mouse = 'OA27'\n",
    "trace_type = 'dff'\n",
    "start_time = -1\n",
    "end_time = 6\n",
    "downsample = True\n",
    "verbose = True\n",
    "\n",
    "# build your runs object\n",
    "dates = flow.metadata.DateSorter.frommeta(mice=[mouse])\n",
    "\n",
    "trial_list = []\n",
    "count = 1\n",
    "# loop through all days for a mouse, build and save pandas df\n",
    "for d in dates:\n",
    "\n",
    "    # loop through runs on a particular day\n",
    "    runs = d.runs()\n",
    "\n",
    "        # get your t2p object\n",
    "    t2p = runs[0].trace2p()\n",
    "    break\n",
    "    \n",
    "print(t2p.orientations)\n",
    "t2p.cstraces('0')"
   ]
  },
  {
   "cell_type": "code",
   "execution_count": 4,
   "metadata": {},
   "outputs": [
    {
     "data": {
      "text/plain": [
       "{'orientation_0': 17,\n",
       " 'orientation_45': 18,\n",
       " 'orientation_90': 19,\n",
       " 'orientation_135': 20,\n",
       " 'orientation_180': 21,\n",
       " 'orientation_225': 22,\n",
       " 'orientation_270': 23,\n",
       " 'orientation_315': 24}"
      ]
     },
     "execution_count": 4,
     "metadata": {},
     "output_type": "execute_result"
    }
   ],
   "source": [
    "t2p.codes"
   ]
  },
  {
   "cell_type": "code",
   "execution_count": 16,
   "metadata": {},
   "outputs": [
    {
     "data": {
      "text/plain": [
       "'orientation_90'"
      ]
     },
     "execution_count": 16,
     "metadata": {},
     "output_type": "execute_result"
    }
   ],
   "source": [
    "cs_lookup['90']"
   ]
  }
 ],
 "metadata": {
  "kernelspec": {
   "display_name": "Python 3",
   "language": "python",
   "name": "python3"
  },
  "language_info": {
   "codemirror_mode": {
    "name": "ipython",
    "version": 3
   },
   "file_extension": ".py",
   "mimetype": "text/x-python",
   "name": "python",
   "nbconvert_exporter": "python",
   "pygments_lexer": "ipython3",
   "version": "3.6.7"
  }
 },
 "nbformat": 4,
 "nbformat_minor": 2
}
