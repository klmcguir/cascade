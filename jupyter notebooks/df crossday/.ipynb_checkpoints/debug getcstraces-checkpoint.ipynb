{
 "cells": [
  {
   "cell_type": "code",
   "execution_count": 1,
   "metadata": {},
   "outputs": [],
   "source": [
    "import tensortools as tt\n",
    "import numpy as np\n",
    "import flow\n",
    "import pool\n",
    "import pandas as pd\n",
    "import os\n",
    "from cascade import utils\n",
    "from cascade.tca import _trialmetafromrun\n",
    "from copy import deepcopy"
   ]
  },
  {
   "cell_type": "markdown",
   "metadata": {},
   "source": [
    "#### Trying to figure out what passing cs='270' does not work"
   ]
  },
  {
   "cell_type": "raw",
   "metadata": {},
   "source": [
    "date"
   ]
  },
  {
   "cell_type": "code",
   "execution_count": 11,
   "metadata": {},
   "outputs": [],
   "source": [
    "mouse='OA27'\n",
    "cs=''\n",
    "trace_type='zscore_day'\n",
    "start_time=-1\n",
    "end_time=6\n",
    "downsample=True\n",
    "clean_artifacts=None\n",
    "thresh=17.5\n",
    "warp=False\n",
    "smooth=True\n",
    "smooth_win=5\n",
    "smooth_win_dec=3\n",
    "\n",
    "# outside of getcstraces\n",
    "exclude_tags=['disengaged', 'orientation_mapping', 'contrast', 'retinotopy']\n",
    "days = flow.metadata.DateSorter.frommeta(mice=[mouse], tags=tags)\n",
    "d1_runs = days[0].runs()\n",
    "# filter for only runs without certain tags\n",
    "d1_runs = [run for run in d1_runs if not any(np.isin(run.tags, exclude_tags))]\n",
    "run = d1_runs[0]\n",
    "\n",
    "t2p = run.trace2p()\n",
    "date = run.parent\n",
    "date.set_subset(run.cells)\n",
    "\n",
    "# z-score\n",
    "# if 'zscore' in trace_type.lower():\n",
    "\n",
    "#     # get dff for creation of alternative trace_types\n",
    "#     traces = t2p.trace('dff')\n",
    "\n",
    "#     # clean artifacts\n",
    "#     if clean_artifacts:\n",
    "#         nanpad = np.zeros(np.shape(traces))\n",
    "#         nanpad[np.abs(traces) > thresh] = 1\n",
    "#         print(np.sum(nanpad.flatten()))\n",
    "#         # dialate around threshold crossings\n",
    "#         for cell in range(np.shape(traces)[0]):\n",
    "#             nanpad[cell, :] = np.convolve(nanpad[cell, :], np.ones(3), mode='same')\n",
    "#         # clear with nans or interpolation\n",
    "#         if clean_artifacts.lower() == 'nan':\n",
    "#             traces[nanpad != 0] = np.nan\n",
    "#         elif clean_artifacts.lower() == 'interp':\n",
    "#             x = np.arange(0, np.shape(traces)[1])\n",
    "#             for cell in range(np.shape(traces)[0]):\n",
    "#                 # x = np.where(np.isfinite(run_traces[cell, :]))[0]\n",
    "#                 if np.nansum(nanpad[cell, :]) > 0:\n",
    "#                     blank = np.where(nanpad[cell, :] != 0)[0]\n",
    "#                     keep = np.where(nanpad[cell, :] == 0)[0]\n",
    "#                     traces[cell, blank] = np.interp(x[blank], x[keep],\n",
    "#                                                     traces[cell, keep])\n",
    "\n",
    "#     # z-score\n",
    "#     if 'zscore' in trace_type.lower():\n",
    "#         arti = False if clean_artifacts is None else True\n",
    "#         if trace_type.lower() == 'zscore_day':\n",
    "#             mu = pool.calc.zscore.mu(date, nan_artifacts=arti,\n",
    "#                                      thresh=thresh)\n",
    "#             sigma = pool.calc.zscore.sigma(date, nan_artifacts=arti,\n",
    "#                                            thresh=thresh)\n",
    "#         elif trace_type.lower() == 'zscore_iti':\n",
    "#             mu = pool.calc.zscore.iti_mu(date, window=4, nan_artifacts=arti,\n",
    "#                                          thresh=thresh)\n",
    "#             sigma = pool.calc.zscore.iti_sigma(date, window=4, nan_artifacts=arti,\n",
    "#                                                thresh=thresh)\n",
    "#         elif trace_type.lower() == 'zscore_run':\n",
    "#             mu = pool.calc.zscore.run_mu(run, nan_artifacts=arti,\n",
    "#                                          thresh=thresh)\n",
    "#             sigma = pool.calc.zscore.run_sigma(run, nan_artifacts=arti,\n",
    "#                                                thresh=thresh)\n",
    "#         else:\n",
    "#             print('WARNING: did not recognize z-scoring method.')\n",
    "#         traces = ((traces.T - mu)/sigma).T\n",
    "\n",
    "#     #\n",
    "#     if smooth:\n",
    "#         for cell in range(np.shape(traces)[0]):\n",
    "#             traces[cell, :] = np.convolve(traces[cell, :], np.ones(smooth_win,\n",
    "#                                           dtype=np.float64)/smooth_win, 'same')\n",
    "\n",
    "#     # add new trace type into t2p\n",
    "#     t2p.add_trace(trace_type, traces)\n",
    "\n",
    "# # trigger all trials around stimulus onsets\n",
    "# if warp:\n",
    "#     run_traces = t2p.warpcstraces(cs, start_s=start_time, end_s=end_time,\n",
    "#                                   trace_type=trace_type, cutoff_before_lick_ms=-1,\n",
    "#                                   errortrials=-1, baseline=(-1, 0),\n",
    "#                                   move_outcome_to=4, baseline_to_stimulus=True)\n",
    "# else:\n",
    "#     run_traces = t2p.cstraces(cs, start_s=start_time, end_s=end_time,\n",
    "#                               trace_type=trace_type, cutoff_before_lick_ms=-1,\n",
    "#                               errortrials=-1, baseline=(-1, 0),\n",
    "#                               baseline_to_stimulus=True)\n",
    "\n",
    "# # downsample all traces/timestamps to 15Hz if framerate is 31Hz\n",
    "# if (t2p.d['framerate'] > 30) and downsample:\n",
    "#     # make sure divisible by 2\n",
    "#     sz = np.shape(run_traces)  # dims: (cells, time, trials)\n",
    "#     if sz[1] % 2 == 1:\n",
    "#         run_traces = run_traces[:, :-1, :]\n",
    "#         sz = np.shape(run_traces)\n",
    "#     # downsample\n",
    "#     # ignore python and numpy divide by zero warnings\n",
    "#     with warnings.catch_warnings():\n",
    "#         warnings.simplefilter('ignore')\n",
    "#         with np.errstate(invalid='ignore', divide='ignore'):\n",
    "#             ds_traces = np.zeros((sz[0], int(sz[1]/2), sz[2]))\n",
    "#             for trial in range(sz[2]):\n",
    "#                 a = run_traces[:, :, trial].reshape(sz[0], int(sz[1]/2), 2)\n",
    "#                 if trace_type.lower() == 'deconvolved':\n",
    "#                     ds_traces[:, :, trial] = np.nanmax(a, axis=2)\n",
    "#                 else:\n",
    "#                     ds_traces[:, :, trial] = np.nanmean(a, axis=2)\n",
    "\n",
    "#     run_traces = ds_traces\n",
    "\n",
    "# # smooth deconvolved data\n",
    "# if smooth and (trace_type.lower() == 'deconvolved'):\n",
    "#     sz = np.shape(run_traces)  # dims: (cells, time, trials)\n",
    "#     run_traces = run_traces.reshape((sz[0], sz[1]*sz[2]))\n",
    "#     for cell in range(sz[0]):\n",
    "#         run_traces[cell, :] = np.convolve(run_traces[cell, :],\n",
    "#                                           np.ones(smooth_win_dec,\n",
    "#                                           dtype=np.float64)/smooth_win_dec,\n",
    "#                                           'same')\n",
    "#     run_traces = run_traces.reshape((sz[0], sz[1], sz[2]))\n",
    "\n",
    "# #     return run_traces"
   ]
  },
  {
   "cell_type": "markdown",
   "metadata": {},
   "source": [
    "#### Original issue was becasue baselining was being applied before zscoring, effectively causing double-mean subtraction"
   ]
  },
  {
   "cell_type": "code",
   "execution_count": 2,
   "metadata": {},
   "outputs": [
    {
     "name": "stdout",
     "output_type": "stream",
     "text": [
      "0\n",
      "cleaning with nan\n",
      "cleaning with nan\n",
      "cleaning with nan\n"
     ]
    },
    {
     "name": "stderr",
     "output_type": "stream",
     "text": [
      "/Users/kelly_mcguire/Documents/Code/cascade/cascade/utils.py:115: RuntimeWarning: Mean of empty slice\n",
      "  ds_traces[:, :, trial] = np.nanmean(a, axis=2)\n"
     ]
    },
    {
     "name": "stdout",
     "output_type": "stream",
     "text": [
      "cleaning with nan\n"
     ]
    },
    {
     "name": "stderr",
     "output_type": "stream",
     "text": [
      "/Users/kelly_mcguire/Documents/Code/cascade/cascade/utils.py:115: RuntimeWarning: Mean of empty slice\n",
      "  ds_traces[:, :, trial] = np.nanmean(a, axis=2)\n"
     ]
    },
    {
     "name": "stdout",
     "output_type": "stream",
     "text": [
      "cleaning with nan\n",
      "cleaning with nan\n"
     ]
    },
    {
     "name": "stderr",
     "output_type": "stream",
     "text": [
      "/Users/kelly_mcguire/Documents/Code/cascade/cascade/utils.py:115: RuntimeWarning: Mean of empty slice\n",
      "  ds_traces[:, :, trial] = np.nanmean(a, axis=2)\n"
     ]
    },
    {
     "name": "stdout",
     "output_type": "stream",
     "text": [
      "Pair: 1: VF226: 180117, 180118: done.\n",
      "1\n",
      "cleaning with nan\n"
     ]
    },
    {
     "name": "stderr",
     "output_type": "stream",
     "text": [
      "/Users/kelly_mcguire/Documents/Code/cascade/cascade/utils.py:115: RuntimeWarning: Mean of empty slice\n",
      "  ds_traces[:, :, trial] = np.nanmean(a, axis=2)\n"
     ]
    },
    {
     "name": "stdout",
     "output_type": "stream",
     "text": [
      "cleaning with nan\n"
     ]
    },
    {
     "name": "stderr",
     "output_type": "stream",
     "text": [
      "/Users/kelly_mcguire/Documents/Code/cascade/cascade/utils.py:115: RuntimeWarning: Mean of empty slice\n",
      "  ds_traces[:, :, trial] = np.nanmean(a, axis=2)\n"
     ]
    },
    {
     "name": "stdout",
     "output_type": "stream",
     "text": [
      "cleaning with nan\n",
      "cleaning with nan\n"
     ]
    },
    {
     "name": "stderr",
     "output_type": "stream",
     "text": [
      "/Users/kelly_mcguire/Documents/Code/cascade/cascade/utils.py:115: RuntimeWarning: Mean of empty slice\n",
      "  ds_traces[:, :, trial] = np.nanmean(a, axis=2)\n"
     ]
    },
    {
     "name": "stdout",
     "output_type": "stream",
     "text": [
      "cleaning with nan\n",
      "Recalcing pool.calc.zscore.iti_mu\n",
      "Recalcing pool.calc.zscore.iti_sigma\n",
      "cleaning with nan\n"
     ]
    },
    {
     "name": "stderr",
     "output_type": "stream",
     "text": [
      "/Users/kelly_mcguire/Documents/Code/cascade/cascade/utils.py:115: RuntimeWarning: Mean of empty slice\n",
      "  ds_traces[:, :, trial] = np.nanmean(a, axis=2)\n",
      "/Users/kelly_mcguire/Documents/Code/tensortools/tensortools/diagnostics.py:38: RuntimeWarning: invalid value encountered in true_divide\n",
      "  vnrm = [f / np.linalg.norm(f, axis=0) for f in V.factors]\n",
      "/Users/kelly_mcguire/Documents/Code/tensortools/tensortools/diagnostics.py:37: RuntimeWarning: invalid value encountered in true_divide\n",
      "  unrm = [f / np.linalg.norm(f, axis=0) for f in U.factors]\n"
     ]
    },
    {
     "name": "stdout",
     "output_type": "stream",
     "text": [
      "Pair: 2: VF226: 180118, 180121: done.\n",
      "2\n",
      "cleaning with nan\n",
      "cleaning with nan\n"
     ]
    },
    {
     "name": "stderr",
     "output_type": "stream",
     "text": [
      "/Users/kelly_mcguire/Documents/Code/cascade/cascade/utils.py:115: RuntimeWarning: Mean of empty slice\n",
      "  ds_traces[:, :, trial] = np.nanmean(a, axis=2)\n"
     ]
    },
    {
     "name": "stdout",
     "output_type": "stream",
     "text": [
      "cleaning with nan\n",
      "Recalcing pool.calc.zscore.iti_mu\n",
      "Recalcing pool.calc.zscore.iti_sigma\n",
      "cleaning with nan\n",
      "cleaning with nan\n",
      "cleaning with nan\n"
     ]
    },
    {
     "name": "stderr",
     "output_type": "stream",
     "text": [
      "/Users/kelly_mcguire/Documents/Code/cascade/cascade/utils.py:115: RuntimeWarning: Mean of empty slice\n",
      "  ds_traces[:, :, trial] = np.nanmean(a, axis=2)\n"
     ]
    },
    {
     "ename": "KeyboardInterrupt",
     "evalue": "",
     "output_type": "error",
     "traceback": [
      "\u001b[0;31m---------------------------------------------------------------------------\u001b[0m",
      "\u001b[0;31mKeyboardInterrupt\u001b[0m                         Traceback (most recent call last)",
      "\u001b[0;32m<ipython-input-2-86e7a1ecd080>\u001b[0m in \u001b[0;36m<module>\u001b[0;34m\u001b[0m\n\u001b[1;32m    230\u001b[0m         \u001b[0;32mfor\u001b[0m \u001b[0mm\u001b[0m \u001b[0;32min\u001b[0m \u001b[0mmethod\u001b[0m\u001b[0;34m:\u001b[0m\u001b[0;34m\u001b[0m\u001b[0;34m\u001b[0m\u001b[0m\n\u001b[1;32m    231\u001b[0m             \u001b[0mensemble\u001b[0m\u001b[0;34m[\u001b[0m\u001b[0mm\u001b[0m\u001b[0;34m]\u001b[0m \u001b[0;34m=\u001b[0m \u001b[0mtt\u001b[0m\u001b[0;34m.\u001b[0m\u001b[0mEnsemble\u001b[0m\u001b[0;34m(\u001b[0m\u001b[0mfit_method\u001b[0m\u001b[0;34m=\u001b[0m\u001b[0mm\u001b[0m\u001b[0;34m,\u001b[0m \u001b[0mfit_options\u001b[0m\u001b[0;34m=\u001b[0m\u001b[0mfit_options\u001b[0m\u001b[0;34m)\u001b[0m\u001b[0;34m\u001b[0m\u001b[0;34m\u001b[0m\u001b[0m\n\u001b[0;32m--> 232\u001b[0;31m             \u001b[0mensemble\u001b[0m\u001b[0;34m[\u001b[0m\u001b[0mm\u001b[0m\u001b[0;34m]\u001b[0m\u001b[0;34m.\u001b[0m\u001b[0mfit\u001b[0m\u001b[0;34m(\u001b[0m\u001b[0mtensor\u001b[0m\u001b[0;34m,\u001b[0m \u001b[0mranks\u001b[0m\u001b[0;34m=\u001b[0m\u001b[0mrange\u001b[0m\u001b[0;34m(\u001b[0m\u001b[0;36m1\u001b[0m\u001b[0;34m,\u001b[0m \u001b[0mrank\u001b[0m\u001b[0;34m+\u001b[0m\u001b[0;36m1\u001b[0m\u001b[0;34m)\u001b[0m\u001b[0;34m,\u001b[0m \u001b[0mreplicates\u001b[0m\u001b[0;34m=\u001b[0m\u001b[0mreplicates\u001b[0m\u001b[0;34m,\u001b[0m \u001b[0mverbose\u001b[0m\u001b[0;34m=\u001b[0m\u001b[0;32mFalse\u001b[0m\u001b[0;34m)\u001b[0m\u001b[0;34m\u001b[0m\u001b[0;34m\u001b[0m\u001b[0m\n\u001b[0m\u001b[1;32m    233\u001b[0m \u001b[0;31m#         np.save(output_tensor_path, ensemble)\u001b[0m\u001b[0;34m\u001b[0m\u001b[0;34m\u001b[0m\u001b[0;34m\u001b[0m\u001b[0m\n\u001b[1;32m    234\u001b[0m \u001b[0;34m\u001b[0m\u001b[0m\n",
      "\u001b[0;32m~/Documents/Code/tensortools/tensortools/ensemble.py\u001b[0m in \u001b[0;36mfit\u001b[0;34m(self, X, ranks, replicates, verbose)\u001b[0m\n\u001b[1;32m     92\u001b[0m             \u001b[0;31m# Fit replicates.\u001b[0m\u001b[0;34m\u001b[0m\u001b[0;34m\u001b[0m\u001b[0;34m\u001b[0m\u001b[0m\n\u001b[1;32m     93\u001b[0m             \u001b[0;32mfor\u001b[0m \u001b[0mi\u001b[0m \u001b[0;32min\u001b[0m \u001b[0mitr\u001b[0m\u001b[0;34m:\u001b[0m\u001b[0;34m\u001b[0m\u001b[0;34m\u001b[0m\u001b[0m\n\u001b[0;32m---> 94\u001b[0;31m                 \u001b[0mmodel_fit\u001b[0m \u001b[0;34m=\u001b[0m \u001b[0mself\u001b[0m\u001b[0;34m.\u001b[0m\u001b[0m_fit_method\u001b[0m\u001b[0;34m(\u001b[0m\u001b[0mX\u001b[0m\u001b[0;34m,\u001b[0m \u001b[0mr\u001b[0m\u001b[0;34m,\u001b[0m \u001b[0;34m**\u001b[0m\u001b[0mself\u001b[0m\u001b[0;34m.\u001b[0m\u001b[0m_fit_options\u001b[0m\u001b[0;34m)\u001b[0m\u001b[0;34m\u001b[0m\u001b[0;34m\u001b[0m\u001b[0m\n\u001b[0m\u001b[1;32m     95\u001b[0m                 \u001b[0mself\u001b[0m\u001b[0;34m.\u001b[0m\u001b[0mresults\u001b[0m\u001b[0;34m[\u001b[0m\u001b[0mr\u001b[0m\u001b[0;34m]\u001b[0m\u001b[0;34m.\u001b[0m\u001b[0mappend\u001b[0m\u001b[0;34m(\u001b[0m\u001b[0mmodel_fit\u001b[0m\u001b[0;34m)\u001b[0m\u001b[0;34m\u001b[0m\u001b[0;34m\u001b[0m\u001b[0m\n\u001b[1;32m     96\u001b[0m \u001b[0;34m\u001b[0m\u001b[0m\n",
      "\u001b[0;32m~/Documents/Code/tensortools/tensortools/optimize/ncp_bcd.py\u001b[0m in \u001b[0;36mncp_bcd\u001b[0;34m(X, rank, random_state, init, **options)\u001b[0m\n\u001b[1;32m    121\u001b[0m             \u001b[0;31m# ii)  Compute Khatri-Rao product\u001b[0m\u001b[0;34m\u001b[0m\u001b[0;34m\u001b[0m\u001b[0;34m\u001b[0m\u001b[0m\n\u001b[1;32m    122\u001b[0m             \u001b[0mkr\u001b[0m \u001b[0;34m=\u001b[0m \u001b[0mkhatri_rao\u001b[0m\u001b[0;34m(\u001b[0m\u001b[0mcomponents\u001b[0m\u001b[0;34m)\u001b[0m\u001b[0;34m\u001b[0m\u001b[0;34m\u001b[0m\u001b[0m\n\u001b[0;32m--> 123\u001b[0;31m             \u001b[0mp\u001b[0m \u001b[0;34m=\u001b[0m \u001b[0munfold\u001b[0m\u001b[0;34m(\u001b[0m\u001b[0mX\u001b[0m\u001b[0;34m,\u001b[0m \u001b[0mn\u001b[0m\u001b[0;34m)\u001b[0m\u001b[0;34m.\u001b[0m\u001b[0mdot\u001b[0m\u001b[0;34m(\u001b[0m \u001b[0mkr\u001b[0m \u001b[0;34m)\u001b[0m\u001b[0;34m\u001b[0m\u001b[0;34m\u001b[0m\u001b[0m\n\u001b[0m\u001b[1;32m    124\u001b[0m \u001b[0;34m\u001b[0m\u001b[0m\n\u001b[1;32m    125\u001b[0m             \u001b[0;31m# Compute Gradient.\u001b[0m\u001b[0;34m\u001b[0m\u001b[0;34m\u001b[0m\u001b[0;34m\u001b[0m\u001b[0m\n",
      "\u001b[0;31mKeyboardInterrupt\u001b[0m: "
     ]
    }
   ],
   "source": [
    "mouse='VF226'\n",
    "tags=None\n",
    "\n",
    "# TCA params\n",
    "rank=20\n",
    "method=('ncp_bcd',)\n",
    "replicates=3\n",
    "fit_options=dict(tol=1e-4)\n",
    "\n",
    "# tensor params\n",
    "trace_type='zscore_iti'\n",
    "cs=''\n",
    "downsample=True\n",
    "start_time=-1\n",
    "end_time=6\n",
    "clean_artifacts='interp'\n",
    "thresh=17.5\n",
    "warp=False\n",
    "verbose=True\n",
    "\n",
    "# filtering params\n",
    "exclude_tags=['disengaged', 'orientation_mapping', 'contrast', 'retinotopy']\n",
    "drive_css=['0', '135', '270']\n",
    "drive_threshold=15\n",
    "\n",
    "days = flow.metadata.DateSorter.frommeta(mice=[mouse], tags=tags)\n",
    "\n",
    "for c, day1 in enumerate(days, 0):\n",
    "    print(c)\n",
    "    try:\n",
    "        day2 = days[c+1]\n",
    "    except IndexError:\n",
    "        print('done.')\n",
    "        break\n",
    "\n",
    "    # get cell_ids for both days and create boolean vec for cells\n",
    "    # to use from each day\n",
    "    d1_ids = flow.xday._read_crossday_ids(day1.mouse, day1.date)\n",
    "    d1_ids = np.array([int(s) for s in d1_ids])\n",
    "    d2_ids = flow.xday._read_crossday_ids(day2.mouse, day2.date)\n",
    "    d2_ids = np.array([int(s) for s in d2_ids])\n",
    "\n",
    "    # filter cells based on visual/trial drive across all cs\n",
    "#     d1_drive = np.max([pool.calc.driven.trial(day1, cs) for cs in drive_css], axis=0)\n",
    "#     d2_drive = np.max([pool.calc.driven.trial(day2, cs) for cs in drive_css], axis=0)\n",
    "\n",
    "    # filter cells based on visual/trial drive across all cs, prevent\n",
    "    # breaking when only pavs are shown\n",
    "    d1_drive = []\n",
    "    d2_drive = []\n",
    "    for dcs in drive_css:\n",
    "        try:\n",
    "            d1_drive.append(pool.calc.driven.trial(day1, dcs))\n",
    "        except KeyError:\n",
    "            print(str(day1) + ' requested ' + dcs +\n",
    "                  ': no match to what was shown (probably pav only).')\n",
    "        try:\n",
    "            d2_drive.append(pool.calc.driven.trial(day2, dcs))\n",
    "        except KeyError:\n",
    "            print(str(day2) + ' requested ' + dcs +\n",
    "                  ': no match to what was shown (probably pav only).')\n",
    "    d1_drive = np.max(d1_drive, axis=0)\n",
    "    d2_drive = np.max(d2_drive, axis=0)\n",
    "\n",
    "    # account for rare cases where lost xday ids are final id (making _ids\n",
    "    # 1 shorter than _drive). Add a fake id to the end and force drive to\n",
    "    # be false for that id\n",
    "    if len(d1_drive) > len(d1_ids):\n",
    "        print('Warning: ' + str(day1) + ': _ids was ' +\n",
    "              str(len(d1_drive)-len(d1_ids)) +\n",
    "              ' shorter than _drive: added pseudo-id.')\n",
    "        d1_drive[-1] = 0\n",
    "        d1_ids = np.concatenate((d1_ids, np.array([-1])))\n",
    "    if len(d2_drive) > len(d2_ids):\n",
    "        print('Warning: ' + str(day2) + ': _ids was ' +\n",
    "              str(len(d2_drive)-len(d2_ids)) +\n",
    "              ' shorter than _drive: added pseudo-id.')\n",
    "        d2_drive[-1] = 0\n",
    "        d2_ids = np.concatenate((d2_ids, np.array([-2])))\n",
    "\n",
    "    d1_drive_ids = d1_ids[np.array(d1_drive) > drive_threshold]\n",
    "    d2_drive_ids = d2_ids[np.array(d2_drive) > drive_threshold]\n",
    "    all_driven_ids = np.concatenate((d1_drive_ids, d2_drive_ids), axis=0)\n",
    "    d1_d2_drive = np.isin(d2_ids, all_driven_ids)\n",
    "    d2_d1_drive = np.isin(d1_ids, all_driven_ids)\n",
    "    # get all d1_ids that are present d2 and driven d1 or d2, (same for d2_ids)\n",
    "    d1_ids_bool = np.isin(d1_ids, d2_ids[d1_d2_drive])\n",
    "    d2_ids_bool = np.isin(d2_ids, d1_ids[d2_d1_drive])\n",
    "    d1_sorter = np.argsort(d1_ids[d1_ids_bool])\n",
    "    d2_sorter = np.argsort(d2_ids[d2_ids_bool])\n",
    "\n",
    "    # list of ids for pair of days\n",
    "    ids = d1_ids[d1_ids_bool][d1_sorter]\n",
    "\n",
    "    # check that the sort worked\n",
    "    if np.nansum(np.sort(d1_ids[d1_ids_bool]) - np.sort(d2_ids[d2_ids_bool])) != 0:\n",
    "        print('Error: cell IDs were not matched between days: ' + str(day1) + ', ' + str(day2))\n",
    "        continue\n",
    "\n",
    "    # TODO add in additional filter for being able to check for quality of xday alignment\n",
    "\n",
    "    # get all runs for both days\n",
    "    d1_runs = day1.runs()\n",
    "    d2_runs = day2.runs()\n",
    "    # filter for only runs without certain tags\n",
    "    d1_runs = [run for run in d1_runs if not any(np.isin(run.tags, exclude_tags))]\n",
    "    d2_runs = [run for run in d2_runs if not any(np.isin(run.tags, exclude_tags))]\n",
    "\n",
    "    # build tensors for all correct runs and trials if you still have trials after filtering\n",
    "    # day 1\n",
    "    if d1_runs and d2_runs:\n",
    "        d1_tensor_list = []\n",
    "        d1_meta = []\n",
    "        d2_tensor_list = []\n",
    "        d2_meta = []\n",
    "        for run in d1_runs:\n",
    "            t2p = run.trace2p()\n",
    "            # trigger all trials around stimulus onsets\n",
    "            run_traces = utils.getcstraces(run, cs=cs, trace_type=trace_type,\n",
    "                                     start_time=start_time, end_time=end_time,\n",
    "                                     downsample=True, clean_artifacts=clean_artifacts,\n",
    "                                     thresh=thresh, warp=warp)\n",
    "#             run_traces2 = t2p.cstraces(cs, start_s=start_time, end_s=end_time,\n",
    "#                           trace_type='zscore', cutoff_before_lick_ms=-1,\n",
    "#                           errortrials=-1, baseline=(-1, 0),\n",
    "#                           baseline_to_stimulus=True)\n",
    "#             run_traces3 = t2p.cstraces(cs, start_s=start_time, end_s=end_time,\n",
    "#                           trace_type='dff', cutoff_before_lick_ms=-1,\n",
    "#                           errortrials=-1, baseline=(-1, 0),\n",
    "#                           baseline_to_stimulus=True)\n",
    "                # downsample all traces/timestamps to 15Hz if framerate is 31Hz\n",
    "            \n",
    "            \n",
    "#         if (t2p.d['framerate'] > 30) and downsample:\n",
    "\n",
    "#             # make sure divisible by 2\n",
    "#             sz = np.shape(run_traces2)  # dims: (cells, time, trials)\n",
    "#             if sz[1] % 2 == 1:\n",
    "#                 run_traces2 = run_traces2[:, :-1, :]\n",
    "#                 sz = np.shape(run_traces2)\n",
    "\n",
    "#             # downsample\n",
    "#             ds_traces = np.zeros((sz[0], int(sz[1]/2), sz[2]))\n",
    "#             for trial in range(sz[2]):\n",
    "#                 a = run_traces2[:, :, trial].reshape(sz[0], int(sz[1]/2), 2)\n",
    "#                 ds_traces[:, :, trial] = np.nanmean(a, axis=2)\n",
    "\n",
    "#         run_traces2 = ds_traces\n",
    "        \n",
    "#         if (t2p.d['framerate'] > 30) and downsample:\n",
    "\n",
    "#             # make sure divisible by 2\n",
    "#             sz = np.shape(run_traces3)  # dims: (cells, time, trials)\n",
    "#             if sz[1] % 2 == 1:\n",
    "#                 run_traces3 = run_traces3[:, :-1, :]\n",
    "#                 sz = np.shape(run_traces3)\n",
    "\n",
    "#             # downsample\n",
    "#             ds_traces = np.zeros((sz[0], int(sz[1]/2), sz[2]))\n",
    "#             for trial in range(sz[2]):\n",
    "#                 a = run_traces3[:, :, trial].reshape(sz[0], int(sz[1]/2), 2)\n",
    "#                 ds_traces[:, :, trial] = np.nanmean(a, axis=2)\n",
    "\n",
    "#         run_traces3 = ds_traces\n",
    "        \n",
    "        \n",
    "            # filter and sort\n",
    "            run_traces = run_traces[d1_ids_bool, :, :][d1_sorter, :, :]\n",
    "            # get matched trial metadata/variables\n",
    "            dfr = _trialmetafromrun(run)\n",
    "            # drop trials with nans and add to list\n",
    "            keep = np.sum(np.sum(np.isnan(run_traces), axis=0, keepdims=True),\n",
    "                          axis=1, keepdims=True).flatten() == 0\n",
    "            keep_inds = np.where(keep == True)[0]\n",
    "            d1_tensor_list.append(run_traces[:, :, keep])\n",
    "            d1_meta.append(dfr.loc[pd.IndexSlice[:, :, :, keep_inds], :])\n",
    "\n",
    "        # day 2\n",
    "        for run in d2_runs:\n",
    "            t2p = run.trace2p()\n",
    "            # trigger all trials around stimulus onsets\n",
    "            run_traces = utils.getcstraces(run, cs=cs, trace_type=trace_type,\n",
    "                                     start_time=start_time, end_time=end_time,\n",
    "                                     downsample=True, clean_artifacts=clean_artifacts,\n",
    "                                     thresh=thresh, warp=warp)\n",
    "            # filter and sort\n",
    "            run_traces = run_traces[d2_ids_bool, :, :][d2_sorter, :, :]\n",
    "            # get matched trial metadata/variables\n",
    "            dfr = _trialmetafromrun(run)\n",
    "            # drop trials with nans and add to list\n",
    "            keep = np.sum(np.sum(np.isnan(run_traces), axis=0, keepdims=True),\n",
    "                          axis=1, keepdims=True).flatten() == 0\n",
    "            keep_inds = np.where(keep == True)[0]\n",
    "            d2_tensor_list.append(run_traces[:, :, keep])\n",
    "            d2_meta.append(dfr.loc[pd.IndexSlice[:, :, :, keep_inds], :])\n",
    "\n",
    "        # concatenate matched cells across trials 3rd dim (aka, 2)\n",
    "        d1_tensor = np.concatenate(d1_tensor_list, axis=2)\n",
    "        d2_tensor = np.concatenate(d2_tensor_list, axis=2)\n",
    "        tensor = np.concatenate((d1_tensor, d2_tensor), axis=2)\n",
    "\n",
    "        # concatenate all trial metadata in pd dataframe\n",
    "        d1_meta.extend(d2_meta)\n",
    "        pair_meta = pd.concat(d1_meta, axis=0)\n",
    "\n",
    "        # create folder structure if needed\n",
    "        save_dir = os.path.join(flow.paths.outd, str(day1.mouse))\n",
    "        if not os.path.isdir(save_dir):\n",
    "            os.mkdir(save_dir)\n",
    "        pad_cs = '' if len(cs) == 0 else ' '\n",
    "        # pad_arti = ' ' if clean_artifacts else ''\n",
    "        # tag_arti = str(clean_artifacts) if clean_artifacts else ''\n",
    "        save_dir = os.path.join(save_dir, 'tensors paired ' + str(trace_type)\n",
    "                                + pad_cs + str(cs))\n",
    "        if not os.path.isdir(save_dir):\n",
    "            os.mkdir(save_dir)\n",
    "\n",
    "        # concatenate and save df for the day\n",
    "        meta_path = os.path.join(save_dir, str(day1.mouse) + '_' + str(day1.date)\n",
    "                                 + '_' + str(day2.date) + '_df_pair_meta.pkl')\n",
    "        input_tensor_path = os.path.join(save_dir, str(day1.mouse) + '_' + str(day1.date)\n",
    "                         + '_' + str(day2.date) + '_pair_tensor_' + str(trace_type) + '.npy')\n",
    "        output_tensor_path = os.path.join(save_dir, str(day1.mouse) + '_' + str(day1.date)\n",
    "                         + '_' + str(day2.date) + '_pair_decomp_' + str(trace_type) + '.npy')\n",
    "        pair_meta.to_pickle(meta_path)\n",
    "#         np.save(input_tensor_path, tensor, ids)\n",
    "\n",
    "        # run TCA - iterate over different fitting methods\n",
    "        ensemble = {}\n",
    "        for m in method:\n",
    "            ensemble[m] = tt.Ensemble(fit_method=m, fit_options=fit_options)\n",
    "            ensemble[m].fit(tensor, ranks=range(1, rank+1), replicates=replicates, verbose=False)\n",
    "#         np.save(output_tensor_path, ensemble)\n",
    "\n",
    "        # print output so you don't go crazy waiting\n",
    "        if verbose:\n",
    "            print('Pair: ' + str(c+1) + ': ' + str(day1.mouse) + ': ' +\n",
    "                  str(day1.date) + ', ' + str(day2.date) + ': done.')"
   ]
  },
  {
   "cell_type": "code",
   "execution_count": 3,
   "metadata": {},
   "outputs": [
    {
     "name": "stdout",
     "output_type": "stream",
     "text": [
      "> \u001b[0;32m/Users/kelly_mcguire/anaconda3/lib/python3.6/site-packages/numpy/core/numeric.py\u001b[0m(2584)\u001b[0;36mseterr\u001b[0;34m()\u001b[0m\n",
      "\u001b[0;32m   2582 \u001b[0;31m    maskvalue = ((_errdict[divide] << SHIFT_DIVIDEBYZERO) +\n",
      "\u001b[0m\u001b[0;32m   2583 \u001b[0;31m                 \u001b[0;34m(\u001b[0m\u001b[0m_errdict\u001b[0m\u001b[0;34m[\u001b[0m\u001b[0mover\u001b[0m\u001b[0;34m]\u001b[0m \u001b[0;34m<<\u001b[0m \u001b[0mSHIFT_OVERFLOW\u001b[0m\u001b[0;34m)\u001b[0m \u001b[0;34m+\u001b[0m\u001b[0;34m\u001b[0m\u001b[0;34m\u001b[0m\u001b[0m\n",
      "\u001b[0m\u001b[0;32m-> 2584 \u001b[0;31m                 \u001b[0;34m(\u001b[0m\u001b[0m_errdict\u001b[0m\u001b[0;34m[\u001b[0m\u001b[0munder\u001b[0m\u001b[0;34m]\u001b[0m \u001b[0;34m<<\u001b[0m \u001b[0mSHIFT_UNDERFLOW\u001b[0m\u001b[0;34m)\u001b[0m \u001b[0;34m+\u001b[0m\u001b[0;34m\u001b[0m\u001b[0;34m\u001b[0m\u001b[0m\n",
      "\u001b[0m\u001b[0;32m   2585 \u001b[0;31m                 (_errdict[invalid] << SHIFT_INVALID))\n",
      "\u001b[0m\u001b[0;32m   2586 \u001b[0;31m\u001b[0;34m\u001b[0m\u001b[0m\n",
      "\u001b[0m\n"
     ]
    },
    {
     "name": "stdin",
     "output_type": "stream",
     "text": [
      "ipdb>  old_settins\n"
     ]
    },
    {
     "name": "stdout",
     "output_type": "stream",
     "text": [
      "*** NameError: name 'old_settins' is not defined\n"
     ]
    },
    {
     "name": "stdin",
     "output_type": "stream",
     "text": [
      "ipdb>  old_settings\n"
     ]
    },
    {
     "name": "stdout",
     "output_type": "stream",
     "text": [
      "*** NameError: name 'old_settings' is not defined\n"
     ]
    },
    {
     "name": "stdin",
     "output_type": "stream",
     "text": [
      "ipdb>  u\n"
     ]
    },
    {
     "name": "stdout",
     "output_type": "stream",
     "text": [
      "> \u001b[0;32m/Users/kelly_mcguire/Documents/Code/cascade/cascade/utils.py\u001b[0m(116)\u001b[0;36mgetcstraces\u001b[0;34m()\u001b[0m\n",
      "\u001b[0;32m    114 \u001b[0;31m            \u001b[0ma\u001b[0m \u001b[0;34m=\u001b[0m \u001b[0mrun_traces\u001b[0m\u001b[0;34m[\u001b[0m\u001b[0;34m:\u001b[0m\u001b[0;34m,\u001b[0m \u001b[0;34m:\u001b[0m\u001b[0;34m,\u001b[0m \u001b[0mtrial\u001b[0m\u001b[0;34m]\u001b[0m\u001b[0;34m.\u001b[0m\u001b[0mreshape\u001b[0m\u001b[0;34m(\u001b[0m\u001b[0msz\u001b[0m\u001b[0;34m[\u001b[0m\u001b[0;36m0\u001b[0m\u001b[0;34m]\u001b[0m\u001b[0;34m,\u001b[0m \u001b[0mint\u001b[0m\u001b[0;34m(\u001b[0m\u001b[0msz\u001b[0m\u001b[0;34m[\u001b[0m\u001b[0;36m1\u001b[0m\u001b[0;34m]\u001b[0m\u001b[0;34m/\u001b[0m\u001b[0;36m2\u001b[0m\u001b[0;34m)\u001b[0m\u001b[0;34m,\u001b[0m \u001b[0;36m2\u001b[0m\u001b[0;34m)\u001b[0m\u001b[0;34m\u001b[0m\u001b[0;34m\u001b[0m\u001b[0m\n",
      "\u001b[0m\u001b[0;32m    115 \u001b[0;31m            \u001b[0mds_traces\u001b[0m\u001b[0;34m[\u001b[0m\u001b[0;34m:\u001b[0m\u001b[0;34m,\u001b[0m \u001b[0;34m:\u001b[0m\u001b[0;34m,\u001b[0m \u001b[0mtrial\u001b[0m\u001b[0;34m]\u001b[0m \u001b[0;34m=\u001b[0m \u001b[0mnp\u001b[0m\u001b[0;34m.\u001b[0m\u001b[0mnanmean\u001b[0m\u001b[0;34m(\u001b[0m\u001b[0ma\u001b[0m\u001b[0;34m,\u001b[0m \u001b[0maxis\u001b[0m\u001b[0;34m=\u001b[0m\u001b[0;36m2\u001b[0m\u001b[0;34m)\u001b[0m\u001b[0;34m\u001b[0m\u001b[0;34m\u001b[0m\u001b[0m\n",
      "\u001b[0m\u001b[0;32m--> 116 \u001b[0;31m        \u001b[0mnp\u001b[0m\u001b[0;34m.\u001b[0m\u001b[0mseterr\u001b[0m\u001b[0;34m(\u001b[0m\u001b[0mold_settings\u001b[0m\u001b[0;34m)\u001b[0m\u001b[0;34m\u001b[0m\u001b[0;34m\u001b[0m\u001b[0m\n",
      "\u001b[0m\u001b[0;32m    117 \u001b[0;31m        \u001b[0mrun_traces\u001b[0m \u001b[0;34m=\u001b[0m \u001b[0mds_traces\u001b[0m\u001b[0;34m\u001b[0m\u001b[0;34m\u001b[0m\u001b[0m\n",
      "\u001b[0m\u001b[0;32m    118 \u001b[0;31m\u001b[0;34m\u001b[0m\u001b[0m\n",
      "\u001b[0m\n"
     ]
    },
    {
     "name": "stdin",
     "output_type": "stream",
     "text": [
      "ipdb>  old_settings\n"
     ]
    },
    {
     "name": "stdout",
     "output_type": "stream",
     "text": [
      "{'divide': 'warn', 'over': 'warn', 'under': 'ignore', 'invalid': 'warn'}\n"
     ]
    },
    {
     "name": "stdin",
     "output_type": "stream",
     "text": [
      "ipdb>  quit\n"
     ]
    }
   ],
   "source": [
    "debug"
   ]
  },
  {
   "cell_type": "code",
   "execution_count": 4,
   "metadata": {},
   "outputs": [
    {
     "data": {
      "text/plain": [
       "(45, 108, 141)"
      ]
     },
     "execution_count": 4,
     "metadata": {},
     "output_type": "execute_result"
    }
   ],
   "source": [
    "import matplotlib.pyplot as plt\n",
    "np.shape(run_traces)"
   ]
  },
  {
   "cell_type": "code",
   "execution_count": 5,
   "metadata": {},
   "outputs": [
    {
     "name": "stderr",
     "output_type": "stream",
     "text": [
      "/Users/kelly_mcguire/anaconda3/lib/python3.6/site-packages/numpy/lib/histograms.py:754: RuntimeWarning: invalid value encountered in greater_equal\n",
      "  keep = (tmp_a >= first_edge)\n",
      "/Users/kelly_mcguire/anaconda3/lib/python3.6/site-packages/numpy/lib/histograms.py:755: RuntimeWarning: invalid value encountered in less_equal\n",
      "  keep &= (tmp_a <= last_edge)\n"
     ]
    },
    {
     "data": {
      "text/plain": [
       "(array([1.00000e+00, 4.00000e+00, 2.10000e+01, 6.20000e+01, 7.30000e+01,\n",
       "        8.10000e+01, 6.90000e+01, 6.80000e+01, 9.00000e+01, 1.03000e+02,\n",
       "        1.58000e+02, 2.23000e+02, 2.87000e+02, 4.44000e+02, 1.00100e+03,\n",
       "        2.56900e+03, 6.63900e+03, 1.62650e+04, 3.40810e+04, 5.97540e+04,\n",
       "        8.79830e+04, 1.06085e+05, 1.05269e+05, 8.80200e+04, 6.38550e+04,\n",
       "        4.13100e+04, 2.46120e+04, 1.38560e+04, 7.67000e+03, 4.37700e+03,\n",
       "        2.88300e+03, 2.08300e+03, 1.59400e+03, 1.27600e+03, 1.13500e+03,\n",
       "        9.11000e+02, 7.48000e+02, 6.75000e+02, 5.73000e+02, 4.65000e+02,\n",
       "        4.24000e+02, 3.79000e+02, 3.23000e+02, 2.92000e+02, 2.83000e+02,\n",
       "        2.49000e+02, 2.73000e+02, 2.39000e+02, 1.93000e+02, 1.84000e+02,\n",
       "        2.07000e+02, 1.88000e+02, 1.92000e+02, 1.73000e+02, 1.52000e+02,\n",
       "        1.69000e+02, 1.46000e+02, 1.42000e+02, 1.17000e+02, 9.10000e+01,\n",
       "        1.13000e+02, 7.40000e+01, 7.30000e+01, 5.80000e+01, 3.50000e+01,\n",
       "        4.40000e+01, 2.80000e+01, 1.80000e+01, 1.60000e+01, 1.00000e+01,\n",
       "        6.00000e+00, 7.00000e+00, 5.00000e+00, 4.00000e+00, 2.00000e+00,\n",
       "        1.00000e+00, 2.00000e+00, 1.00000e+00, 3.00000e+00, 5.00000e+00,\n",
       "        4.00000e+00, 5.00000e+00, 0.00000e+00, 2.00000e+00, 2.00000e+00,\n",
       "        2.00000e+00, 3.00000e+00, 2.00000e+00, 2.00000e+00, 1.00000e+00,\n",
       "        3.00000e+00, 3.00000e+00, 2.00000e+00, 5.00000e+00, 0.00000e+00,\n",
       "        0.00000e+00, 0.00000e+00, 3.00000e+00, 1.00000e+00, 1.00000e+00]),\n",
       " array([-6.78306651, -6.47640814, -6.16974977, -5.8630914 , -5.55643303,\n",
       "        -5.24977466, -4.9431163 , -4.63645793, -4.32979956, -4.02314119,\n",
       "        -3.71648282, -3.40982445, -3.10316608, -2.79650771, -2.48984935,\n",
       "        -2.18319098, -1.87653261, -1.56987424, -1.26321587, -0.9565575 ,\n",
       "        -0.64989913, -0.34324076, -0.03658239,  0.27007597,  0.57673434,\n",
       "         0.88339271,  1.19005108,  1.49670945,  1.80336782,  2.11002619,\n",
       "         2.41668456,  2.72334292,  3.03000129,  3.33665966,  3.64331803,\n",
       "         3.9499764 ,  4.25663477,  4.56329314,  4.86995151,  5.17660988,\n",
       "         5.48326824,  5.78992661,  6.09658498,  6.40324335,  6.70990172,\n",
       "         7.01656009,  7.32321846,  7.62987683,  7.9365352 ,  8.24319356,\n",
       "         8.54985193,  8.8565103 ,  9.16316867,  9.46982704,  9.77648541,\n",
       "        10.08314378, 10.38980215, 10.69646051, 11.00311888, 11.30977725,\n",
       "        11.61643562, 11.92309399, 12.22975236, 12.53641073, 12.8430691 ,\n",
       "        13.14972747, 13.45638583, 13.7630442 , 14.06970257, 14.37636094,\n",
       "        14.68301931, 14.98967768, 15.29633605, 15.60299442, 15.90965278,\n",
       "        16.21631115, 16.52296952, 16.82962789, 17.13628626, 17.44294463,\n",
       "        17.749603  , 18.05626137, 18.36291974, 18.6695781 , 18.97623647,\n",
       "        19.28289484, 19.58955321, 19.89621158, 20.20286995, 20.50952832,\n",
       "        20.81618669, 21.12284506, 21.42950342, 21.73616179, 22.04282016,\n",
       "        22.34947853, 22.6561369 , 22.96279527, 23.26945364, 23.57611201,\n",
       "        23.88277037]),\n",
       " <a list of 100 Patch objects>)"
      ]
     },
     "execution_count": 5,
     "metadata": {},
     "output_type": "execute_result"
    },
    {
     "data": {
      "image/png": "[encoded data removed]",
      "text/plain": [
       "<Figure size 432x288 with 1 Axes>"
      ]
     },
     "metadata": {
      "needs_background": "light"
     },
     "output_type": "display_data"
    }
   ],
   "source": [
    "cell = 1\n",
    "# for i in range(20,20):\n",
    "#     plt.figure()\n",
    "#     plt.imshow(run_traces[i,:,:])\n",
    "#     plt.figure()\n",
    "#     plt.imshow(run_traces2[i,:,:])\n",
    "plt.figure()\n",
    "plt.hist(run_traces.flatten(), 100, alpha=0.7)\n",
    "# plt.hist(run_traces2.flatten(), 100, alpha=0.7)\n",
    "# plt.hist(run_traces3.flatten(), 100, alpha=0.7)"
   ]
  },
  {
   "cell_type": "code",
   "execution_count": 12,
   "metadata": {},
   "outputs": [],
   "source": [
    "arti = False if clean_artifacts is None else True\n",
    "mu = pool.calc.zscore.mu(day1, nan_artifacts=arti, thresh=thresh)\n",
    "sigma = pool.calc.zscore.sigma(day1, nan_artifacts=arti, thresh=thresh)"
   ]
  },
  {
   "cell_type": "code",
   "execution_count": 27,
   "metadata": {},
   "outputs": [],
   "source": [
    "sz = np.shape(run_traces)"
   ]
  },
  {
   "cell_type": "code",
   "execution_count": 30,
   "metadata": {},
   "outputs": [
    {
     "data": {
      "text/plain": [
       "(195,)"
      ]
     },
     "execution_count": 30,
     "metadata": {},
     "output_type": "execute_result"
    }
   ],
   "source": [
    "mu3 = np.nanmean(run_traces3.reshape((sz[0], sz[1]*sz[2])), axis=1)\n",
    "np.shape(mu3)"
   ]
  },
  {
   "cell_type": "code",
   "execution_count": 33,
   "metadata": {},
   "outputs": [
    {
     "data": {
      "text/plain": [
       "[<matplotlib.lines.Line2D at 0x1c21913cf8>]"
      ]
     },
     "execution_count": 33,
     "metadata": {},
     "output_type": "execute_result"
    },
    {
     "data": {
      "image/png": "[encoded data removed]",
      "text/plain": [
       "<Figure size 432x288 with 1 Axes>"
      ]
     },
     "metadata": {
      "needs_background": "light"
     },
     "output_type": "display_data"
    }
   ],
   "source": [
    "plt.figure()\n",
    "plt.plot(mu)\n",
    "plt.plot(mu3)\n",
    "plt.plot(mu4)"
   ]
  },
  {
   "cell_type": "code",
   "execution_count": 37,
   "metadata": {},
   "outputs": [
    {
     "name": "stderr",
     "output_type": "stream",
     "text": [
      "No handles with labels found to put in legend.\n"
     ]
    },
    {
     "data": {
      "text/plain": [
       "<matplotlib.legend.Legend at 0x1c21e6d198>"
      ]
     },
     "execution_count": 37,
     "metadata": {},
     "output_type": "execute_result"
    },
    {
     "data": {
      "image/png": "[encoded data removed]",
      "text/plain": [
       "<Figure size 432x288 with 1 Axes>"
      ]
     },
     "metadata": {
      "needs_background": "light"
     },
     "output_type": "display_data"
    }
   ],
   "source": [
    "plt.figure()\n",
    "plt.plot(mu)\n",
    "plt.plot(mu3)\n",
    "runs = day1.runs()\n",
    "traces = []\n",
    "for run in runs:\n",
    "    t2p = run.trace2p()\n",
    "    traces.append(t2p.d['dff'])\n",
    "    plt.plot(np.nanmean(t2p.d['dff'], axis=1), alpha=0.5)\n",
    "\n",
    "# concatenate across days\n",
    "traces = np.concatenate(traces, axis=1)\n",
    "\n",
    "# calculate masked mean per cell\n",
    "mu4 = np.nanmean(traces, axis=1)\n",
    "plt.legend()"
   ]
  }
 ],
 "metadata": {
  "kernelspec": {
   "display_name": "Python 3",
   "language": "python",
   "name": "python3"
  },
  "language_info": {
   "codemirror_mode": {
    "name": "ipython",
    "version": 3
   },
   "file_extension": ".py",
   "mimetype": "text/x-python",
   "name": "python",
   "nbconvert_exporter": "python",
   "pygments_lexer": "ipython3",
   "version": "3.6.7"
  }
 },
 "nbformat": 4,
 "nbformat_minor": 2
}
