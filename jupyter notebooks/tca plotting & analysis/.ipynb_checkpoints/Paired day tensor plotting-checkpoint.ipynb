{
 "cells": [
  {
   "cell_type": "markdown",
   "metadata": {},
   "source": [
    "# Plotting for tensors - Paired days"
   ]
  },
  {
   "cell_type": "code",
   "execution_count": 1,
   "metadata": {},
   "outputs": [],
   "source": [
    "import os\n",
    "import matplotlib.pyplot as plt\n",
    "import numpy as np\n",
    "import flow\n",
    "import tensortools as tt\n",
    "import cascade as cas"
   ]
  },
  {
   "cell_type": "markdown",
   "metadata": {},
   "source": [
    "### Plotting objective function (error) and similarity "
   ]
  },
  {
   "cell_type": "code",
   "execution_count": 11,
   "metadata": {},
   "outputs": [
    {
     "name": "stdout",
     "output_type": "stream",
     "text": [
      "done.\n"
     ]
    },
    {
     "data": {
      "text/plain": [
       "<Figure size 432x288 with 0 Axes>"
      ]
     },
     "metadata": {},
     "output_type": "display_data"
    },
    {
     "data": {
      "text/plain": [
       "<Figure size 432x288 with 0 Axes>"
      ]
     },
     "metadata": {},
     "output_type": "display_data"
    },
    {
     "data": {
      "text/plain": [
       "<Figure size 432x288 with 0 Axes>"
      ]
     },
     "metadata": {},
     "output_type": "display_data"
    },
    {
     "data": {
      "text/plain": [
       "<Figure size 432x288 with 0 Axes>"
      ]
     },
     "metadata": {},
     "output_type": "display_data"
    },
    {
     "data": {
      "text/plain": [
       "<Figure size 432x288 with 0 Axes>"
      ]
     },
     "metadata": {},
     "output_type": "display_data"
    },
    {
     "data": {
      "text/plain": [
       "<Figure size 432x288 with 0 Axes>"
      ]
     },
     "metadata": {},
     "output_type": "display_data"
    },
    {
     "data": {
      "text/plain": [
       "<Figure size 432x288 with 0 Axes>"
      ]
     },
     "metadata": {},
     "output_type": "display_data"
    },
    {
     "data": {
      "text/plain": [
       "<Figure size 432x288 with 0 Axes>"
      ]
     },
     "metadata": {},
     "output_type": "display_data"
    },
    {
     "data": {
      "text/plain": [
       "<Figure size 432x288 with 0 Axes>"
      ]
     },
     "metadata": {},
     "output_type": "display_data"
    },
    {
     "data": {
      "text/plain": [
       "<Figure size 432x288 with 0 Axes>"
      ]
     },
     "metadata": {},
     "output_type": "display_data"
    },
    {
     "data": {
      "text/plain": [
       "<Figure size 432x288 with 0 Axes>"
      ]
     },
     "metadata": {},
     "output_type": "display_data"
    },
    {
     "data": {
      "text/plain": [
       "<Figure size 432x288 with 0 Axes>"
      ]
     },
     "metadata": {},
     "output_type": "display_data"
    },
    {
     "data": {
      "text/plain": [
       "<Figure size 432x288 with 0 Axes>"
      ]
     },
     "metadata": {},
     "output_type": "display_data"
    },
    {
     "data": {
      "text/plain": [
       "<Figure size 432x288 with 0 Axes>"
      ]
     },
     "metadata": {},
     "output_type": "display_data"
    },
    {
     "data": {
      "text/plain": [
       "<Figure size 432x288 with 0 Axes>"
      ]
     },
     "metadata": {},
     "output_type": "display_data"
    },
    {
     "data": {
      "text/plain": [
       "<Figure size 432x288 with 0 Axes>"
      ]
     },
     "metadata": {},
     "output_type": "display_data"
    },
    {
     "data": {
      "text/plain": [
       "<Figure size 432x288 with 0 Axes>"
      ]
     },
     "metadata": {},
     "output_type": "display_data"
    },
    {
     "data": {
      "text/plain": [
       "<Figure size 432x288 with 0 Axes>"
      ]
     },
     "metadata": {},
     "output_type": "display_data"
    },
    {
     "data": {
      "text/plain": [
       "<Figure size 432x288 with 0 Axes>"
      ]
     },
     "metadata": {},
     "output_type": "display_data"
    },
    {
     "data": {
      "text/plain": [
       "<Figure size 432x288 with 0 Axes>"
      ]
     },
     "metadata": {},
     "output_type": "display_data"
    },
    {
     "data": {
      "text/plain": [
       "<Figure size 432x288 with 0 Axes>"
      ]
     },
     "metadata": {},
     "output_type": "display_data"
    },
    {
     "data": {
      "text/plain": [
       "<Figure size 432x288 with 0 Axes>"
      ]
     },
     "metadata": {},
     "output_type": "display_data"
    },
    {
     "data": {
      "text/plain": [
       "<Figure size 432x288 with 0 Axes>"
      ]
     },
     "metadata": {},
     "output_type": "display_data"
    },
    {
     "data": {
      "text/plain": [
       "<Figure size 432x288 with 0 Axes>"
      ]
     },
     "metadata": {},
     "output_type": "display_data"
    },
    {
     "data": {
      "text/plain": [
       "<Figure size 432x288 with 0 Axes>"
      ]
     },
     "metadata": {},
     "output_type": "display_data"
    },
    {
     "data": {
      "text/plain": [
       "<Figure size 432x288 with 0 Axes>"
      ]
     },
     "metadata": {},
     "output_type": "display_data"
    },
    {
     "data": {
      "text/plain": [
       "<Figure size 432x288 with 0 Axes>"
      ]
     },
     "metadata": {},
     "output_type": "display_data"
    },
    {
     "data": {
      "text/plain": [
       "<Figure size 432x288 with 0 Axes>"
      ]
     },
     "metadata": {},
     "output_type": "display_data"
    },
    {
     "data": {
      "text/plain": [
       "<Figure size 432x288 with 0 Axes>"
      ]
     },
     "metadata": {},
     "output_type": "display_data"
    },
    {
     "data": {
      "text/plain": [
       "<Figure size 432x288 with 0 Axes>"
      ]
     },
     "metadata": {},
     "output_type": "display_data"
    },
    {
     "data": {
      "text/plain": [
       "<Figure size 432x288 with 0 Axes>"
      ]
     },
     "metadata": {},
     "output_type": "display_data"
    },
    {
     "data": {
      "text/plain": [
       "<Figure size 432x288 with 0 Axes>"
      ]
     },
     "metadata": {},
     "output_type": "display_data"
    },
    {
     "data": {
      "text/plain": [
       "<Figure size 432x288 with 0 Axes>"
      ]
     },
     "metadata": {},
     "output_type": "display_data"
    },
    {
     "data": {
      "text/plain": [
       "<Figure size 432x288 with 0 Axes>"
      ]
     },
     "metadata": {},
     "output_type": "display_data"
    }
   ],
   "source": [
    "mouse='OA27'\n",
    "trace_type='zscore'\n",
    "verbose=False\n",
    "\n",
    "\"\"\" Plot similarity and error plots for TCA decomposition ensembles.\"\"\"\n",
    "\n",
    "# plotting options for the unconstrained and nonnegative models.\n",
    "plot_options = {\n",
    "  'cp_als': {\n",
    "    'line_kw': {\n",
    "      'color': 'green',\n",
    "      'label': 'cp_als',\n",
    "    },\n",
    "    'scatter_kw': {\n",
    "      'color': 'green',\n",
    "      'alpha': 0.5,\n",
    "    },\n",
    "  },\n",
    "  'ncp_hals': {\n",
    "    'line_kw': {\n",
    "      'color': 'blue',\n",
    "      'alpha': 0.5,\n",
    "      'label': 'ncp_hals',\n",
    "    },\n",
    "    'scatter_kw': {\n",
    "      'color': 'blue',\n",
    "      'alpha': 0.5,\n",
    "    },\n",
    "  },\n",
    "  'ncp_bcd': {\n",
    "    'line_kw': {\n",
    "      'color': 'red',\n",
    "      'alpha': 0.5,\n",
    "      'label': 'ncp_bcd',\n",
    "    },\n",
    "    'scatter_kw': {\n",
    "      'color': 'red',\n",
    "      'alpha': 0.5,\n",
    "    },\n",
    "  },\n",
    "}\n",
    "\n",
    "days = flow.DateSorter.frommeta(mice=[mouse], tags=None)\n",
    "\n",
    "for c, day1 in enumerate(days, 0):\n",
    "    try:\n",
    "        day2 = days[c+1]\n",
    "    except IndexError:\n",
    "        print('done.')\n",
    "        break\n",
    "\n",
    "    # create folder structure if needed\n",
    "    # load\n",
    "    out_dir = os.path.join(flow.paths.outd, str(day1.mouse))\n",
    "    if not os.path.isdir(out_dir):\n",
    "        os.mkdir(out_dir)\n",
    "    load_dir = os.path.join(out_dir, 'tensors paired ' + str(trace_type))\n",
    "    if not os.path.isdir(load_dir):\n",
    "        os.mkdir(load_dir)\n",
    "    tensor_path = os.path.join(load_dir, str(day1.mouse) + '_' + str(day1.date)\n",
    "                     + '_' + str(day2.date) + '_pair_decomp_' + str(trace_type) + '.npy')\n",
    "    # save\n",
    "    ana_dir = os.path.join(flow.paths.graphd, str(day1.mouse))\n",
    "    if not os.path.isdir(ana_dir):\n",
    "        os.mkdir(ana_dir)\n",
    "    save_dir = os.path.join(ana_dir, 'tensors paired ' + str(trace_type))\n",
    "    if not os.path.isdir(save_dir):\n",
    "        os.mkdir(save_dir)\n",
    "    save_dir = os.path.join(save_dir, 'qc')\n",
    "    if not os.path.isdir(save_dir):\n",
    "        os.mkdir(save_dir)\n",
    "    error_path = os.path.join(save_dir, str(day1.mouse) + '_' + str(day1.date)\n",
    "                     + '_' + str(day2.date) + '_error.png')\n",
    "    sim_path = os.path.join(save_dir, str(day1.mouse) + '_' + str(day1.date)\n",
    "                     + '_' + str(day2.date) + '_similarity.png')\n",
    "\n",
    "    # load your data\n",
    "    ensemble = np.load(tensor_path)\n",
    "    ensemble = ensemble.item()\n",
    "\n",
    "    # plot error and similarity plots across rank number\n",
    "    # fig, ax = plt.subplots(1,2, figsize=(8,4))\n",
    "    plt.figure()\n",
    "    for m in ensemble:\n",
    "        tt.plot_objective(ensemble[m], **plot_options[m])  # ax=ax[0])\n",
    "    plt.legend()\n",
    "    plt.title('Objective Function')\n",
    "    plt.savefig(error_path)\n",
    "    if verbose:\n",
    "        plt.show()\n",
    "    plt.clf()\n",
    "    \n",
    "    for m in ensemble:\n",
    "        tt.plot_similarity(ensemble[m], **plot_options[m])  # ax=ax[1])\n",
    "    plt.legend()\n",
    "    plt.title('Iteration Similarity')\n",
    "    plt.savefig(sim_path)\n",
    "    if verbose:\n",
    "        plt.show()\n",
    "    plt.clf()"
   ]
  },
  {
   "cell_type": "markdown",
   "metadata": {},
   "source": [
    "### Plotting all factors for all ranks "
   ]
  },
  {
   "cell_type": "code",
   "execution_count": 2,
   "metadata": {},
   "outputs": [
    {
     "ename": "KeyError",
     "evalue": "'scatter_kw'",
     "output_type": "error",
     "traceback": [
      "\u001b[0;31m---------------------------------------------------------------------------\u001b[0m",
      "\u001b[0;31mKeyError\u001b[0m                                  Traceback (most recent call last)",
      "\u001b[0;32m<ipython-input-2-375bcbb649ea>\u001b[0m in \u001b[0;36m<module>\u001b[0;34m\u001b[0m\n\u001b[1;32m    100\u001b[0m             fig = tt.plot_factors(sort_ensemble.results[r][0].factors, plots=['bar','line','scatter'],\n\u001b[1;32m    101\u001b[0m                             \u001b[0maxes\u001b[0m\u001b[0;34m=\u001b[0m\u001b[0;32mNone\u001b[0m\u001b[0;34m,\u001b[0m\u001b[0;34m\u001b[0m\u001b[0;34m\u001b[0m\u001b[0m\n\u001b[0;32m--> 102\u001b[0;31m                             \u001b[0mscatter_kw\u001b[0m\u001b[0;34m=\u001b[0m\u001b[0mplot_options\u001b[0m\u001b[0;34m[\u001b[0m\u001b[0mm\u001b[0m\u001b[0;34m]\u001b[0m\u001b[0;34m[\u001b[0m\u001b[0;34m'scatter_kw'\u001b[0m\u001b[0;34m]\u001b[0m\u001b[0;34m,\u001b[0m\u001b[0;34m\u001b[0m\u001b[0;34m\u001b[0m\u001b[0m\n\u001b[0m\u001b[1;32m    103\u001b[0m                             \u001b[0mline_kw\u001b[0m\u001b[0;34m=\u001b[0m\u001b[0mplot_options\u001b[0m\u001b[0;34m[\u001b[0m\u001b[0mm\u001b[0m\u001b[0;34m]\u001b[0m\u001b[0;34m[\u001b[0m\u001b[0;34m'line_kw'\u001b[0m\u001b[0;34m]\u001b[0m\u001b[0;34m,\u001b[0m\u001b[0;34m\u001b[0m\u001b[0;34m\u001b[0m\u001b[0m\n\u001b[1;32m    104\u001b[0m                             bar_kw=plot_options[m]['bar_kw'])\n",
      "\u001b[0;31mKeyError\u001b[0m: 'scatter_kw'"
     ]
    }
   ],
   "source": [
    "mouse='OA27'\n",
    "trace_type='zscore'\n",
    "verbose=False\n",
    "\n",
    "\"\"\" Plot factors for TCA decomposition ensembles.\"\"\"\n",
    "\n",
    "# plotting options for the unconstrained and nonnegative models.\n",
    "plot_options = {\n",
    "'cp_als': {\n",
    "    'line_kw': {\n",
    "      'color': 'red',\n",
    "      'label': 'cp_als', \n",
    "          },\n",
    "    'scatter_kw': {\n",
    "      'color': 'green',\n",
    "      'alpha': 0.5,\n",
    "          },\n",
    "    'bar_kw': {\n",
    "      'color': 'blue',\n",
    "      'alpha': 0.5,\n",
    "          },\n",
    "    },\n",
    "'ncp_hals': {\n",
    "    'line_kw': {\n",
    "      'color': 'red',\n",
    "      'label': 'ncp_hals',\n",
    "            },\n",
    "    'scatter_kw': {\n",
    "      'color': 'green',\n",
    "      'alpha': 0.5,\n",
    "            },\n",
    "    'bar_kw': {\n",
    "      'color': 'blue',\n",
    "      'alpha': 0.5,\n",
    "            },\n",
    "    },\n",
    "'ncp_bcd': {\n",
    "        'line_kw': {\n",
    "          'color': 'red',\n",
    "          'label': 'ncp_bcd', \n",
    "           },\n",
    "        'scatter_kw': {\n",
    "          'color': 'green',\n",
    "          'alpha': 0.5,\n",
    "           },\n",
    "        'bar_kw': {\n",
    "          'color': 'blue',\n",
    "          'alpha': 0.5,\n",
    "        },\n",
    "    },\n",
    "}\n",
    "\n",
    "days = flow.DateSorter.frommeta(mice=[mouse], tags=None)\n",
    "\n",
    "for c, day1 in enumerate(days, 0):\n",
    "    try:\n",
    "        day2 = days[c+1]\n",
    "    except IndexError:\n",
    "        print('done.')\n",
    "        break\n",
    "\n",
    "    # create folder structure if needed\n",
    "    # load\n",
    "    out_dir = os.path.join(flow.paths.outd, str(day1.mouse))\n",
    "    if not os.path.isdir(out_dir):\n",
    "        os.mkdir(out_dir)\n",
    "    load_dir = os.path.join(out_dir, 'tensors paired ' + str(trace_type))\n",
    "    if not os.path.isdir(load_dir):\n",
    "        os.mkdir(load_dir)\n",
    "    tensor_path = os.path.join(load_dir, str(day1.mouse) + '_' + str(day1.date)\n",
    "                     + '_' + str(day2.date) + '_pair_decomp_' + str(trace_type) + '.npy')\n",
    "    # save\n",
    "    ana_dir = os.path.join(flow.paths.graphd, str(day1.mouse))\n",
    "    if not os.path.isdir(ana_dir):\n",
    "        os.mkdir(ana_dir)\n",
    "    save_dir = os.path.join(ana_dir, 'tensors paired ' + str(trace_type))\n",
    "    if not os.path.isdir(save_dir):\n",
    "        os.mkdir(save_dir)\n",
    "    save_dir = os.path.join(save_dir, 'factors')\n",
    "    if not os.path.isdir(save_dir):\n",
    "        os.mkdir(save_dir)\n",
    "\n",
    "    # load your data\n",
    "    ensemble = np.load(tensor_path)\n",
    "    ensemble = ensemble.item()\n",
    "    \n",
    "    # load your data\n",
    "    for m in ensemble:\n",
    "        \n",
    "        # make necessary dirs\n",
    "        date_dir = os.path.join(save_dir, str(day1.date) + '_' + str(day2.date) + ' ' + m)\n",
    "        if not os.path.isdir(date_dir):\n",
    "            os.mkdir(date_dir)\n",
    "        \n",
    "        # sort neuron factors by component they belong to most\n",
    "        sort_ensemble, my_sorts = cas.plotting.plt._sortfactors(ensemble[m])\n",
    "    \n",
    "        for r in sort_ensemble.results:\n",
    "\n",
    "            fig = tt.plot_factors(sort_ensemble.results[r][0].factors, plots=['bar','line','scatter'],\n",
    "                            axes=None, \n",
    "                            scatter_kw=plot_options[m]['scatter_kw'],\n",
    "                            line_kw=plot_options[m]['line_kw'], \n",
    "                            bar_kw=plot_options[m]['bar_kw'])\n",
    "\n",
    "            ax = fig[0].axes\n",
    "            ax[0].set_title('Neuron factors')\n",
    "            ax[1].set_title('Temporal factors')\n",
    "            ax[2].set_title('Trial factors')\n",
    "\n",
    "            count = 1\n",
    "            for k in range(0,len(ax)):\n",
    "                if np.mod(k+1,3) == 1:\n",
    "                    ax[k].set_ylabel('Component #' + str(count), rotation=0, \n",
    "                                     labelpad=20, verticalalignment='center', fontstyle='oblique')\n",
    "                    count = count + 1\n",
    "\n",
    "            # Show plots.\n",
    "            plt.savefig(os.path.join(date_dir, + 'rank_' + str(int(r)) + '.png'))\n",
    "            if verbose:\n",
    "                plt.show()\n",
    "            plt.clf()\n",
    "\n",
    "print('done.')"
   ]
  }
 ],
 "metadata": {
  "kernelspec": {
   "display_name": "Python 3",
   "language": "python",
   "name": "python3"
  },
  "language_info": {
   "codemirror_mode": {
    "name": "ipython",
    "version": 3
   },
   "file_extension": ".py",
   "mimetype": "text/x-python",
   "name": "python",
   "nbconvert_exporter": "python",
   "pygments_lexer": "ipython3",
   "version": "3.6.7"
  }
 },
 "nbformat": 4,
 "nbformat_minor": 2
}
