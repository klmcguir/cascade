{
 "cells": [
  {
   "cell_type": "code",
   "execution_count": 1,
   "metadata": {},
   "outputs": [],
   "source": [
    "import cascade as cas"
   ]
  },
  {
   "cell_type": "code",
   "execution_count": null,
   "metadata": {},
   "outputs": [],
   "source": []
  },
  {
   "cell_type": "code",
   "execution_count": 2,
   "metadata": {},
   "outputs": [
    {
     "name": "stdout",
     "output_type": "stream",
     "text": [
      "Trace parameters hashed for df: dual\n"
     ]
    },
    {
     "name": "stderr",
     "output_type": "stream",
     "text": [
      "/Users/kelly_mcguire/Documents/Code/cascade/cascade/bias.py:159: RuntimeWarning: All-NaN axis encountered\n",
      "  max_response = np.array([np.nanmax(s) for s in zip(*responses)])\n"
     ]
    },
    {
     "name": "stdout",
     "output_type": "stream",
     "text": [
      "old bias:  0.5090768986549824\n",
      "new bias:  0.33894848328896415\n",
      "Trace parameters hashed for df: dual\n"
     ]
    },
    {
     "name": "stderr",
     "output_type": "stream",
     "text": [
      "/Users/kelly_mcguire/Documents/Code/cascade/cascade/bias.py:159: RuntimeWarning: All-NaN axis encountered\n",
      "  max_response = np.array([np.nanmax(s) for s in zip(*responses)])\n"
     ]
    },
    {
     "name": "stdout",
     "output_type": "stream",
     "text": [
      "old bias:  0.41672003707918936\n",
      "new bias:  0.31266671023686804\n",
      "Trace parameters hashed for df: dual\n"
     ]
    },
    {
     "name": "stderr",
     "output_type": "stream",
     "text": [
      "/Users/kelly_mcguire/Documents/Code/cascade/cascade/bias.py:159: RuntimeWarning: All-NaN axis encountered\n",
      "  max_response = np.array([np.nanmax(s) for s in zip(*responses)])\n"
     ]
    },
    {
     "name": "stdout",
     "output_type": "stream",
     "text": [
      "old bias:  0.5203996198699097\n",
      "new bias:  0.3451288754170966\n",
      "Trace parameters hashed for df: dual\n"
     ]
    },
    {
     "name": "stderr",
     "output_type": "stream",
     "text": [
      "/Users/kelly_mcguire/Documents/Code/cascade/cascade/bias.py:159: RuntimeWarning: All-NaN axis encountered\n",
      "  max_response = np.array([np.nanmax(s) for s in zip(*responses)])\n"
     ]
    },
    {
     "name": "stdout",
     "output_type": "stream",
     "text": [
      "old bias:  0.5183200777114875\n",
      "new bias:  0.34681609583740475\n",
      "Trace parameters hashed for df: dual\n",
      "Day: 170127: skipped: empty dataframe after merge.\n",
      "old bias:  nan\n",
      "new bias:  nan\n",
      "Trace parameters hashed for df: dual\n"
     ]
    },
    {
     "name": "stderr",
     "output_type": "stream",
     "text": [
      "/Users/kelly_mcguire/Documents/Code/cascade/cascade/bias.py:159: RuntimeWarning: All-NaN axis encountered\n",
      "  max_response = np.array([np.nanmax(s) for s in zip(*responses)])\n",
      "/Users/kelly_mcguire/Documents/Code/cascade/cascade/bias.py:165: RuntimeWarning: Mean of empty slice\n",
      "  print('old bias: ', np.nanmean(bias))\n",
      "/Users/kelly_mcguire/Documents/Code/cascade/cascade/bias.py:166: RuntimeWarning: Mean of empty slice\n",
      "  print('new bias: ', np.nanmean(test))\n",
      "/Users/kelly_mcguire/Documents/Code/cascade/cascade/bias.py:167: RuntimeWarning: Mean of empty slice\n",
      "  xday_bias.append(np.nanmean(bias))\n"
     ]
    },
    {
     "name": "stdout",
     "output_type": "stream",
     "text": [
      "Day: 170128: skipped: empty dataframe after merge.\n",
      "old bias:  nan\n",
      "new bias:  nan\n",
      "Trace parameters hashed for df: dual\n"
     ]
    },
    {
     "name": "stderr",
     "output_type": "stream",
     "text": [
      "/Users/kelly_mcguire/Documents/Code/cascade/cascade/bias.py:159: RuntimeWarning: All-NaN axis encountered\n",
      "  max_response = np.array([np.nanmax(s) for s in zip(*responses)])\n",
      "/Users/kelly_mcguire/Documents/Code/cascade/cascade/bias.py:165: RuntimeWarning: Mean of empty slice\n",
      "  print('old bias: ', np.nanmean(bias))\n",
      "/Users/kelly_mcguire/Documents/Code/cascade/cascade/bias.py:166: RuntimeWarning: Mean of empty slice\n",
      "  print('new bias: ', np.nanmean(test))\n",
      "/Users/kelly_mcguire/Documents/Code/cascade/cascade/bias.py:167: RuntimeWarning: Mean of empty slice\n",
      "  xday_bias.append(np.nanmean(bias))\n"
     ]
    },
    {
     "name": "stdout",
     "output_type": "stream",
     "text": [
      "Day: 170129: skipped: empty dataframe after merge.\n",
      "old bias:  nan\n",
      "new bias:  nan\n",
      "Trace parameters hashed for df: dual\n"
     ]
    },
    {
     "name": "stderr",
     "output_type": "stream",
     "text": [
      "/Users/kelly_mcguire/Documents/Code/cascade/cascade/bias.py:159: RuntimeWarning: All-NaN axis encountered\n",
      "  max_response = np.array([np.nanmax(s) for s in zip(*responses)])\n",
      "/Users/kelly_mcguire/Documents/Code/cascade/cascade/bias.py:165: RuntimeWarning: Mean of empty slice\n",
      "  print('old bias: ', np.nanmean(bias))\n",
      "/Users/kelly_mcguire/Documents/Code/cascade/cascade/bias.py:166: RuntimeWarning: Mean of empty slice\n",
      "  print('new bias: ', np.nanmean(test))\n",
      "/Users/kelly_mcguire/Documents/Code/cascade/cascade/bias.py:167: RuntimeWarning: Mean of empty slice\n",
      "  xday_bias.append(np.nanmean(bias))\n"
     ]
    },
    {
     "name": "stdout",
     "output_type": "stream",
     "text": [
      "Day: 170131: skipped: empty dataframe after merge.\n",
      "old bias:  nan\n",
      "new bias:  nan\n",
      "Trace parameters hashed for df: dual\n"
     ]
    },
    {
     "name": "stderr",
     "output_type": "stream",
     "text": [
      "/Users/kelly_mcguire/Documents/Code/cascade/cascade/bias.py:159: RuntimeWarning: All-NaN axis encountered\n",
      "  max_response = np.array([np.nanmax(s) for s in zip(*responses)])\n",
      "/Users/kelly_mcguire/Documents/Code/cascade/cascade/bias.py:165: RuntimeWarning: Mean of empty slice\n",
      "  print('old bias: ', np.nanmean(bias))\n",
      "/Users/kelly_mcguire/Documents/Code/cascade/cascade/bias.py:166: RuntimeWarning: Mean of empty slice\n",
      "  print('new bias: ', np.nanmean(test))\n",
      "/Users/kelly_mcguire/Documents/Code/cascade/cascade/bias.py:167: RuntimeWarning: Mean of empty slice\n",
      "  xday_bias.append(np.nanmean(bias))\n"
     ]
    },
    {
     "name": "stdout",
     "output_type": "stream",
     "text": [
      "Day: 170201: skipped: empty dataframe after merge.\n",
      "old bias:  nan\n",
      "new bias:  nan\n",
      "Trace parameters hashed for df: dual\n"
     ]
    },
    {
     "name": "stderr",
     "output_type": "stream",
     "text": [
      "/Users/kelly_mcguire/Documents/Code/cascade/cascade/bias.py:159: RuntimeWarning: All-NaN axis encountered\n",
      "  max_response = np.array([np.nanmax(s) for s in zip(*responses)])\n",
      "/Users/kelly_mcguire/Documents/Code/cascade/cascade/bias.py:165: RuntimeWarning: Mean of empty slice\n",
      "  print('old bias: ', np.nanmean(bias))\n",
      "/Users/kelly_mcguire/Documents/Code/cascade/cascade/bias.py:166: RuntimeWarning: Mean of empty slice\n",
      "  print('new bias: ', np.nanmean(test))\n",
      "/Users/kelly_mcguire/Documents/Code/cascade/cascade/bias.py:167: RuntimeWarning: Mean of empty slice\n",
      "  xday_bias.append(np.nanmean(bias))\n"
     ]
    },
    {
     "name": "stdout",
     "output_type": "stream",
     "text": [
      "Day: 170202: skipped: empty dataframe after merge.\n",
      "old bias:  nan\n",
      "new bias:  nan\n",
      "Trace parameters hashed for df: dual\n"
     ]
    },
    {
     "name": "stderr",
     "output_type": "stream",
     "text": [
      "/Users/kelly_mcguire/Documents/Code/cascade/cascade/bias.py:159: RuntimeWarning: All-NaN axis encountered\n",
      "  max_response = np.array([np.nanmax(s) for s in zip(*responses)])\n",
      "/Users/kelly_mcguire/Documents/Code/cascade/cascade/bias.py:165: RuntimeWarning: Mean of empty slice\n",
      "  print('old bias: ', np.nanmean(bias))\n",
      "/Users/kelly_mcguire/Documents/Code/cascade/cascade/bias.py:166: RuntimeWarning: Mean of empty slice\n",
      "  print('new bias: ', np.nanmean(test))\n",
      "/Users/kelly_mcguire/Documents/Code/cascade/cascade/bias.py:167: RuntimeWarning: Mean of empty slice\n",
      "  xday_bias.append(np.nanmean(bias))\n",
      "/Users/kelly_mcguire/Documents/Code/cascade/cascade/bias.py:159: RuntimeWarning: All-NaN axis encountered\n",
      "  max_response = np.array([np.nanmax(s) for s in zip(*responses)])\n"
     ]
    },
    {
     "name": "stdout",
     "output_type": "stream",
     "text": [
      "old bias:  0.4689158088205813\n",
      "new bias:  0.29299309487143366\n",
      "Trace parameters hashed for df: dual\n"
     ]
    },
    {
     "name": "stderr",
     "output_type": "stream",
     "text": [
      "/Users/kelly_mcguire/Documents/Code/cascade/cascade/bias.py:159: RuntimeWarning: All-NaN axis encountered\n",
      "  max_response = np.array([np.nanmax(s) for s in zip(*responses)])\n"
     ]
    },
    {
     "name": "stdout",
     "output_type": "stream",
     "text": [
      "old bias:  0.5529516604913195\n",
      "new bias:  0.2756973405937326\n",
      "Trace parameters hashed for df: dual\n"
     ]
    },
    {
     "name": "stderr",
     "output_type": "stream",
     "text": [
      "/Users/kelly_mcguire/Documents/Code/cascade/cascade/bias.py:159: RuntimeWarning: All-NaN axis encountered\n",
      "  max_response = np.array([np.nanmax(s) for s in zip(*responses)])\n"
     ]
    },
    {
     "name": "stdout",
     "output_type": "stream",
     "text": [
      "old bias:  0.6068113072940124\n",
      "new bias:  0.405031108625274\n",
      "Trace parameters hashed for df: dual\n"
     ]
    },
    {
     "name": "stderr",
     "output_type": "stream",
     "text": [
      "/Users/kelly_mcguire/Documents/Code/cascade/cascade/bias.py:159: RuntimeWarning: All-NaN axis encountered\n",
      "  max_response = np.array([np.nanmax(s) for s in zip(*responses)])\n"
     ]
    },
    {
     "name": "stdout",
     "output_type": "stream",
     "text": [
      "old bias:  0.5037081230679145\n",
      "new bias:  0.3915021555104784\n",
      "Trace parameters hashed for df: dual\n"
     ]
    },
    {
     "name": "stderr",
     "output_type": "stream",
     "text": [
      "/Users/kelly_mcguire/Documents/Code/cascade/cascade/bias.py:159: RuntimeWarning: All-NaN axis encountered\n",
      "  max_response = np.array([np.nanmax(s) for s in zip(*responses)])\n"
     ]
    },
    {
     "name": "stdout",
     "output_type": "stream",
     "text": [
      "old bias:  0.5934306595835404\n",
      "new bias:  0.3830010434104153\n",
      "Trace parameters hashed for df: dual\n"
     ]
    },
    {
     "name": "stderr",
     "output_type": "stream",
     "text": [
      "/Users/kelly_mcguire/Documents/Code/cascade/cascade/bias.py:159: RuntimeWarning: All-NaN axis encountered\n",
      "  max_response = np.array([np.nanmax(s) for s in zip(*responses)])\n"
     ]
    },
    {
     "name": "stdout",
     "output_type": "stream",
     "text": [
      "old bias:  0.5422858901154504\n",
      "new bias:  0.3783963296781205\n",
      "Trace parameters hashed for df: dual\n"
     ]
    },
    {
     "name": "stderr",
     "output_type": "stream",
     "text": [
      "/Users/kelly_mcguire/Documents/Code/cascade/cascade/bias.py:159: RuntimeWarning: All-NaN axis encountered\n",
      "  max_response = np.array([np.nanmax(s) for s in zip(*responses)])\n"
     ]
    },
    {
     "name": "stdout",
     "output_type": "stream",
     "text": [
      "old bias:  0.5435646713644917\n",
      "new bias:  0.3818380519848968\n",
      "Trace parameters hashed for df: dual\n"
     ]
    },
    {
     "name": "stderr",
     "output_type": "stream",
     "text": [
      "/Users/kelly_mcguire/Documents/Code/cascade/cascade/bias.py:159: RuntimeWarning: All-NaN axis encountered\n",
      "  max_response = np.array([np.nanmax(s) for s in zip(*responses)])\n"
     ]
    },
    {
     "name": "stdout",
     "output_type": "stream",
     "text": [
      "old bias:  0.6015175601711436\n",
      "new bias:  0.4151787847926065\n",
      "Trace parameters hashed for df: dual\n"
     ]
    },
    {
     "name": "stderr",
     "output_type": "stream",
     "text": [
      "/Users/kelly_mcguire/Documents/Code/cascade/cascade/bias.py:159: RuntimeWarning: All-NaN axis encountered\n",
      "  max_response = np.array([np.nanmax(s) for s in zip(*responses)])\n"
     ]
    },
    {
     "name": "stdout",
     "output_type": "stream",
     "text": [
      "old bias:  0.5096589866337132\n",
      "new bias:  0.3540006723454693\n",
      "Trace parameters hashed for df: dual\n"
     ]
    },
    {
     "name": "stderr",
     "output_type": "stream",
     "text": [
      "/Users/kelly_mcguire/Documents/Code/cascade/cascade/bias.py:159: RuntimeWarning: All-NaN axis encountered\n",
      "  max_response = np.array([np.nanmax(s) for s in zip(*responses)])\n"
     ]
    },
    {
     "name": "stdout",
     "output_type": "stream",
     "text": [
      "old bias:  0.5047411439397261\n",
      "new bias:  0.37798749073494026\n",
      "Trace parameters hashed for df: dual\n"
     ]
    },
    {
     "name": "stderr",
     "output_type": "stream",
     "text": [
      "/Users/kelly_mcguire/Documents/Code/cascade/cascade/bias.py:159: RuntimeWarning: All-NaN axis encountered\n",
      "  max_response = np.array([np.nanmax(s) for s in zip(*responses)])\n"
     ]
    },
    {
     "name": "stdout",
     "output_type": "stream",
     "text": [
      "old bias:  0.5090506003922624\n",
      "new bias:  0.3596169546505199\n",
      "Trace parameters hashed for df: dual\n"
     ]
    },
    {
     "name": "stderr",
     "output_type": "stream",
     "text": [
      "/Users/kelly_mcguire/Documents/Code/cascade/cascade/bias.py:159: RuntimeWarning: All-NaN axis encountered\n",
      "  max_response = np.array([np.nanmax(s) for s in zip(*responses)])\n"
     ]
    },
    {
     "name": "stdout",
     "output_type": "stream",
     "text": [
      "old bias:  0.6280343921001577\n",
      "new bias:  0.37468750625477787\n",
      "Trace parameters hashed for df: dual\n"
     ]
    },
    {
     "name": "stderr",
     "output_type": "stream",
     "text": [
      "/Users/kelly_mcguire/Documents/Code/cascade/cascade/bias.py:159: RuntimeWarning: All-NaN axis encountered\n",
      "  max_response = np.array([np.nanmax(s) for s in zip(*responses)])\n"
     ]
    },
    {
     "name": "stdout",
     "output_type": "stream",
     "text": [
      "old bias:  0.5693697368469715\n",
      "new bias:  0.35735415596000436\n",
      "Trace parameters hashed for df: dual\n"
     ]
    },
    {
     "name": "stderr",
     "output_type": "stream",
     "text": [
      "/Users/kelly_mcguire/Documents/Code/cascade/cascade/bias.py:159: RuntimeWarning: All-NaN axis encountered\n",
      "  max_response = np.array([np.nanmax(s) for s in zip(*responses)])\n"
     ]
    },
    {
     "name": "stdout",
     "output_type": "stream",
     "text": [
      "old bias:  0.5798882717822111\n",
      "new bias:  0.3083299947895947\n",
      "Trace parameters hashed for df: dual\n"
     ]
    },
    {
     "name": "stderr",
     "output_type": "stream",
     "text": [
      "/Users/kelly_mcguire/Documents/Code/cascade/cascade/bias.py:159: RuntimeWarning: All-NaN axis encountered\n",
      "  max_response = np.array([np.nanmax(s) for s in zip(*responses)])\n"
     ]
    },
    {
     "name": "stdout",
     "output_type": "stream",
     "text": [
      "old bias:  0.5360683477603759\n",
      "new bias:  0.35473865813325683\n",
      "Trace parameters hashed for df: dual\n"
     ]
    },
    {
     "name": "stderr",
     "output_type": "stream",
     "text": [
      "/Users/kelly_mcguire/Documents/Code/cascade/cascade/bias.py:159: RuntimeWarning: All-NaN axis encountered\n",
      "  max_response = np.array([np.nanmax(s) for s in zip(*responses)])\n"
     ]
    },
    {
     "name": "stdout",
     "output_type": "stream",
     "text": [
      "old bias:  0.5465857378235516\n",
      "new bias:  0.33506760279190345\n",
      "Trace parameters hashed for df: dual\n"
     ]
    },
    {
     "name": "stderr",
     "output_type": "stream",
     "text": [
      "/Users/kelly_mcguire/Documents/Code/cascade/cascade/bias.py:159: RuntimeWarning: All-NaN axis encountered\n",
      "  max_response = np.array([np.nanmax(s) for s in zip(*responses)])\n"
     ]
    },
    {
     "name": "stdout",
     "output_type": "stream",
     "text": [
      "old bias:  0.4206042976023769\n",
      "new bias:  0.3111085324662311\n",
      "Trace parameters hashed for df: dual\n"
     ]
    },
    {
     "name": "stderr",
     "output_type": "stream",
     "text": [
      "/Users/kelly_mcguire/Documents/Code/cascade/cascade/bias.py:159: RuntimeWarning: All-NaN axis encountered\n",
      "  max_response = np.array([np.nanmax(s) for s in zip(*responses)])\n"
     ]
    },
    {
     "name": "stdout",
     "output_type": "stream",
     "text": [
      "old bias:  0.4108229452500082\n",
      "new bias:  0.3185675002719338\n",
      "Trace parameters hashed for df: dual\n"
     ]
    },
    {
     "name": "stderr",
     "output_type": "stream",
     "text": [
      "/Users/kelly_mcguire/Documents/Code/cascade/cascade/bias.py:159: RuntimeWarning: All-NaN axis encountered\n",
      "  max_response = np.array([np.nanmax(s) for s in zip(*responses)])\n"
     ]
    },
    {
     "name": "stdout",
     "output_type": "stream",
     "text": [
      "old bias:  0.5050794661185706\n",
      "new bias:  0.37030521842673414\n",
      "Trace parameters hashed for df: dual\n"
     ]
    },
    {
     "name": "stderr",
     "output_type": "stream",
     "text": [
      "/Users/kelly_mcguire/Documents/Code/cascade/cascade/bias.py:159: RuntimeWarning: All-NaN axis encountered\n",
      "  max_response = np.array([np.nanmax(s) for s in zip(*responses)])\n"
     ]
    },
    {
     "name": "stdout",
     "output_type": "stream",
     "text": [
      "old bias:  0.5317572308843357\n",
      "new bias:  0.31874241202317727\n",
      "Trace parameters hashed for df: dual\n"
     ]
    },
    {
     "name": "stderr",
     "output_type": "stream",
     "text": [
      "/Users/kelly_mcguire/Documents/Code/cascade/cascade/bias.py:159: RuntimeWarning: All-NaN axis encountered\n",
      "  max_response = np.array([np.nanmax(s) for s in zip(*responses)])\n"
     ]
    },
    {
     "name": "stdout",
     "output_type": "stream",
     "text": [
      "old bias:  0.44490025386565296\n",
      "new bias:  0.34424640841126536\n",
      "Trace parameters hashed for df: dual\n"
     ]
    },
    {
     "name": "stderr",
     "output_type": "stream",
     "text": [
      "/Users/kelly_mcguire/Documents/Code/cascade/cascade/bias.py:159: RuntimeWarning: All-NaN axis encountered\n",
      "  max_response = np.array([np.nanmax(s) for s in zip(*responses)])\n"
     ]
    },
    {
     "name": "stdout",
     "output_type": "stream",
     "text": [
      "old bias:  0.41792332192856374\n",
      "new bias:  0.35071880762784124\n",
      "Trace parameters hashed for df: dual\n"
     ]
    },
    {
     "name": "stderr",
     "output_type": "stream",
     "text": [
      "/Users/kelly_mcguire/Documents/Code/cascade/cascade/bias.py:159: RuntimeWarning: All-NaN axis encountered\n",
      "  max_response = np.array([np.nanmax(s) for s in zip(*responses)])\n"
     ]
    },
    {
     "name": "stdout",
     "output_type": "stream",
     "text": [
      "old bias:  0.5482834597274607\n",
      "new bias:  0.3756479556207326\n",
      "Trace parameters hashed for df: dual\n"
     ]
    },
    {
     "name": "stderr",
     "output_type": "stream",
     "text": [
      "/Users/kelly_mcguire/Documents/Code/cascade/cascade/bias.py:159: RuntimeWarning: All-NaN axis encountered\n",
      "  max_response = np.array([np.nanmax(s) for s in zip(*responses)])\n"
     ]
    },
    {
     "name": "stdout",
     "output_type": "stream",
     "text": [
      "old bias:  0.5042732651840157\n",
      "new bias:  0.28596409688620855\n",
      "Trace parameters hashed for df: dual\n"
     ]
    },
    {
     "name": "stderr",
     "output_type": "stream",
     "text": [
      "/Users/kelly_mcguire/Documents/Code/cascade/cascade/bias.py:159: RuntimeWarning: All-NaN axis encountered\n",
      "  max_response = np.array([np.nanmax(s) for s in zip(*responses)])\n"
     ]
    },
    {
     "name": "stdout",
     "output_type": "stream",
     "text": [
      "old bias:  0.6350394569230958\n",
      "new bias:  0.4481025582679492\n",
      "Recalcing pool.calc.driven.visually: OA26 170208 \n",
      "Recalcing pool.calc.driven.visually: OA26 170208 \n",
      "Recalcing pool.calc.driven.visually: OA26 170208 \n",
      "Trace parameters hashed for df: dual\n",
      "Recalcing pool.calc.behavior.dprime: OA26 170208 \n",
      "Recalcing pool.calc.behavior.correct_count: OA26 170208 1\n",
      "Recalcing pool.calc.behavior.trial_count: OA26 170208 1\n",
      "Recalcing pool.calc.behavior.incorrect_count: OA26 170208 1\n",
      "Recalcing pool.calc.behavior.trial_count: OA26 170208 1\n",
      "Recalcing pool.calc.behavior.incorrect_count: OA26 170208 1\n",
      "Recalcing pool.calc.behavior.trial_count: OA26 170208 1\n",
      "Recalcing pool.calc.behavior.correct_count: OA26 170208 2\n",
      "Recalcing pool.calc.behavior.trial_count: OA26 170208 2\n",
      "Recalcing pool.calc.behavior.incorrect_count: OA26 170208 2\n",
      "Recalcing pool.calc.behavior.trial_count: OA26 170208 2\n",
      "Recalcing pool.calc.behavior.incorrect_count: OA26 170208 2\n",
      "Recalcing pool.calc.behavior.trial_count: OA26 170208 2\n",
      "Recalcing pool.calc.behavior.correct_count: OA26 170208 3\n",
      "Recalcing pool.calc.behavior.trial_count: OA26 170208 3\n",
      "Recalcing pool.calc.behavior.incorrect_count: OA26 170208 3\n",
      "Recalcing pool.calc.behavior.trial_count: OA26 170208 3\n",
      "Recalcing pool.calc.behavior.incorrect_count: OA26 170208 3\n",
      "Recalcing pool.calc.behavior.trial_count: OA26 170208 3\n",
      "old bias:  0.45625102949996704\n",
      "new bias:  0.30029335756175596\n"
     ]
    },
    {
     "name": "stderr",
     "output_type": "stream",
     "text": [
      "/Users/kelly_mcguire/Documents/Code/cascade/cascade/bias.py:159: RuntimeWarning: All-NaN axis encountered\n",
      "  max_response = np.array([np.nanmax(s) for s in zip(*responses)])\n"
     ]
    },
    {
     "name": "stdout",
     "output_type": "stream",
     "text": [
      "Recalcing pool.calc.driven.visually: OA26 170209 \n",
      "Recalcing pool.calc.driven.visually: OA26 170209 \n",
      "Recalcing pool.calc.driven.visually: OA26 170209 \n",
      "Trace parameters hashed for df: dual\n",
      "Recalcing pool.calc.behavior.dprime: OA26 170209 \n",
      "Recalcing pool.calc.behavior.correct_count: OA26 170209 3\n",
      "Recalcing pool.calc.behavior.trial_count: OA26 170209 3\n",
      "Recalcing pool.calc.behavior.incorrect_count: OA26 170209 3\n",
      "Recalcing pool.calc.behavior.trial_count: OA26 170209 3\n",
      "Recalcing pool.calc.behavior.incorrect_count: OA26 170209 3\n",
      "Recalcing pool.calc.behavior.trial_count: OA26 170209 3\n",
      "Recalcing pool.calc.behavior.correct_count: OA26 170209 4\n",
      "Recalcing pool.calc.behavior.trial_count: OA26 170209 4\n",
      "Recalcing pool.calc.behavior.incorrect_count: OA26 170209 4\n",
      "Recalcing pool.calc.behavior.trial_count: OA26 170209 4\n",
      "Recalcing pool.calc.behavior.incorrect_count: OA26 170209 4\n",
      "Recalcing pool.calc.behavior.trial_count: OA26 170209 4\n",
      "Recalcing pool.calc.behavior.correct_count: OA26 170209 5\n",
      "Recalcing pool.calc.behavior.trial_count: OA26 170209 5\n",
      "Recalcing pool.calc.behavior.incorrect_count: OA26 170209 5\n",
      "Recalcing pool.calc.behavior.trial_count: OA26 170209 5\n",
      "Recalcing pool.calc.behavior.incorrect_count: OA26 170209 5\n",
      "Recalcing pool.calc.behavior.trial_count: OA26 170209 5\n",
      "old bias:  0.4626548523130321\n",
      "new bias:  0.2413964225102081\n",
      "Recalcing pool.calc.driven.visually: OA26 170210 \n"
     ]
    },
    {
     "name": "stderr",
     "output_type": "stream",
     "text": [
      "/Users/kelly_mcguire/Documents/Code/cascade/cascade/bias.py:159: RuntimeWarning: All-NaN axis encountered\n",
      "  max_response = np.array([np.nanmax(s) for s in zip(*responses)])\n"
     ]
    },
    {
     "name": "stdout",
     "output_type": "stream",
     "text": [
      "Recalcing pool.calc.driven.visually: OA26 170210 \n",
      "Recalcing pool.calc.driven.visually: OA26 170210 \n",
      "Trace parameters hashed for df: dual\n",
      "Day: 170210: skipped: empty dataframe after merge.\n",
      "Recalcing pool.calc.behavior.dprime: OA26 170210 \n",
      "Recalcing pool.calc.behavior.correct_count: OA26 170210 1\n",
      "Recalcing pool.calc.behavior.trial_count: OA26 170210 1\n",
      "Recalcing pool.calc.behavior.incorrect_count: OA26 170210 1\n",
      "Recalcing pool.calc.behavior.trial_count: OA26 170210 1\n",
      "Recalcing pool.calc.behavior.incorrect_count: OA26 170210 1\n",
      "Recalcing pool.calc.behavior.trial_count: OA26 170210 1\n",
      "Recalcing pool.calc.behavior.correct_count: OA26 170210 2\n",
      "Recalcing pool.calc.behavior.trial_count: OA26 170210 2\n",
      "Recalcing pool.calc.behavior.incorrect_count: OA26 170210 2\n",
      "Recalcing pool.calc.behavior.trial_count: OA26 170210 2\n",
      "Recalcing pool.calc.behavior.incorrect_count: OA26 170210 2\n",
      "Recalcing pool.calc.behavior.trial_count: OA26 170210 2\n",
      "Recalcing pool.calc.behavior.correct_count: OA26 170210 3\n",
      "Recalcing pool.calc.behavior.trial_count: OA26 170210 3\n",
      "Recalcing pool.calc.behavior.incorrect_count: OA26 170210 3\n",
      "Recalcing pool.calc.behavior.trial_count: OA26 170210 3\n",
      "Recalcing pool.calc.behavior.incorrect_count: OA26 170210 3\n",
      "Recalcing pool.calc.behavior.trial_count: OA26 170210 3\n",
      "Recalcing pool.calc.behavior.correct_count: OA26 170210 4\n",
      "Recalcing pool.calc.behavior.trial_count: OA26 170210 4\n",
      "Recalcing pool.calc.behavior.incorrect_count: OA26 170210 4\n",
      "Recalcing pool.calc.behavior.trial_count: OA26 170210 4\n",
      "Recalcing pool.calc.behavior.incorrect_count: OA26 170210 4\n",
      "Recalcing pool.calc.behavior.trial_count: OA26 170210 4\n",
      "old bias:  nan\n",
      "new bias:  nan\n",
      "Recalcing pool.calc.driven.visually: OA26 170211 \n"
     ]
    },
    {
     "name": "stderr",
     "output_type": "stream",
     "text": [
      "/Users/kelly_mcguire/Documents/Code/cascade/cascade/bias.py:159: RuntimeWarning: All-NaN axis encountered\n",
      "  max_response = np.array([np.nanmax(s) for s in zip(*responses)])\n",
      "/Users/kelly_mcguire/Documents/Code/cascade/cascade/bias.py:165: RuntimeWarning: Mean of empty slice\n",
      "  print('old bias: ', np.nanmean(bias))\n",
      "/Users/kelly_mcguire/Documents/Code/cascade/cascade/bias.py:166: RuntimeWarning: Mean of empty slice\n",
      "  print('new bias: ', np.nanmean(test))\n",
      "/Users/kelly_mcguire/Documents/Code/cascade/cascade/bias.py:167: RuntimeWarning: Mean of empty slice\n",
      "  xday_bias.append(np.nanmean(bias))\n"
     ]
    },
    {
     "name": "stdout",
     "output_type": "stream",
     "text": [
      "Recalcing pool.calc.driven.visually: OA26 170211 \n",
      "Recalcing pool.calc.driven.visually: OA26 170211 \n",
      "Trace parameters hashed for df: dual\n",
      "Day: 170211: skipped: empty dataframe after merge.\n",
      "Recalcing pool.calc.behavior.dprime: OA26 170211 \n",
      "Recalcing pool.calc.behavior.correct_count: OA26 170211 2\n",
      "Recalcing pool.calc.behavior.trial_count: OA26 170211 2\n",
      "Recalcing pool.calc.behavior.incorrect_count: OA26 170211 2\n",
      "Recalcing pool.calc.behavior.trial_count: OA26 170211 2\n",
      "Recalcing pool.calc.behavior.incorrect_count: OA26 170211 2\n",
      "Recalcing pool.calc.behavior.trial_count: OA26 170211 2\n",
      "Recalcing pool.calc.behavior.correct_count: OA26 170211 3\n",
      "Recalcing pool.calc.behavior.trial_count: OA26 170211 3\n",
      "Recalcing pool.calc.behavior.incorrect_count: OA26 170211 3\n",
      "Recalcing pool.calc.behavior.trial_count: OA26 170211 3\n",
      "Recalcing pool.calc.behavior.incorrect_count: OA26 170211 3\n",
      "Recalcing pool.calc.behavior.trial_count: OA26 170211 3\n",
      "Recalcing pool.calc.behavior.correct_count: OA26 170211 4\n",
      "Recalcing pool.calc.behavior.trial_count: OA26 170211 4\n",
      "Recalcing pool.calc.behavior.incorrect_count: OA26 170211 4\n",
      "Recalcing pool.calc.behavior.trial_count: OA26 170211 4\n",
      "Recalcing pool.calc.behavior.incorrect_count: OA26 170211 4\n",
      "Recalcing pool.calc.behavior.trial_count: OA26 170211 4\n",
      "Recalcing pool.calc.behavior.correct_count: OA26 170211 5\n",
      "Recalcing pool.calc.behavior.trial_count: OA26 170211 5\n",
      "Recalcing pool.calc.behavior.incorrect_count: OA26 170211 5\n",
      "Recalcing pool.calc.behavior.trial_count: OA26 170211 5\n",
      "Recalcing pool.calc.behavior.incorrect_count: OA26 170211 5\n",
      "Recalcing pool.calc.behavior.trial_count: OA26 170211 5\n",
      "old bias:  nan\n",
      "new bias:  nan\n",
      "Recalcing pool.calc.driven.visually: OA26 170212 \n"
     ]
    },
    {
     "name": "stderr",
     "output_type": "stream",
     "text": [
      "/Users/kelly_mcguire/Documents/Code/cascade/cascade/bias.py:159: RuntimeWarning: All-NaN axis encountered\n",
      "  max_response = np.array([np.nanmax(s) for s in zip(*responses)])\n",
      "/Users/kelly_mcguire/Documents/Code/cascade/cascade/bias.py:165: RuntimeWarning: Mean of empty slice\n",
      "  print('old bias: ', np.nanmean(bias))\n",
      "/Users/kelly_mcguire/Documents/Code/cascade/cascade/bias.py:166: RuntimeWarning: Mean of empty slice\n",
      "  print('new bias: ', np.nanmean(test))\n",
      "/Users/kelly_mcguire/Documents/Code/cascade/cascade/bias.py:167: RuntimeWarning: Mean of empty slice\n",
      "  xday_bias.append(np.nanmean(bias))\n"
     ]
    },
    {
     "name": "stdout",
     "output_type": "stream",
     "text": [
      "Recalcing pool.calc.driven.visually: OA26 170212 \n",
      "Recalcing pool.calc.driven.visually: OA26 170212 \n",
      "Trace parameters hashed for df: dual\n",
      "Day: 170212: skipped: empty dataframe after merge.\n",
      "Recalcing pool.calc.behavior.dprime: OA26 170212 \n",
      "Recalcing pool.calc.behavior.correct_count: OA26 170212 1\n",
      "Recalcing pool.calc.behavior.trial_count: OA26 170212 1\n",
      "Recalcing pool.calc.behavior.incorrect_count: OA26 170212 1\n",
      "Recalcing pool.calc.behavior.trial_count: OA26 170212 1\n",
      "Recalcing pool.calc.behavior.incorrect_count: OA26 170212 1\n",
      "Recalcing pool.calc.behavior.trial_count: OA26 170212 1\n",
      "Recalcing pool.calc.behavior.correct_count: OA26 170212 2\n",
      "Recalcing pool.calc.behavior.trial_count: OA26 170212 2\n",
      "Recalcing pool.calc.behavior.incorrect_count: OA26 170212 2\n",
      "Recalcing pool.calc.behavior.trial_count: OA26 170212 2\n",
      "Recalcing pool.calc.behavior.incorrect_count: OA26 170212 2\n",
      "Recalcing pool.calc.behavior.trial_count: OA26 170212 2\n",
      "Recalcing pool.calc.behavior.correct_count: OA26 170212 3\n",
      "Recalcing pool.calc.behavior.trial_count: OA26 170212 3\n",
      "Recalcing pool.calc.behavior.incorrect_count: OA26 170212 3\n",
      "Recalcing pool.calc.behavior.trial_count: OA26 170212 3\n",
      "Recalcing pool.calc.behavior.incorrect_count: OA26 170212 3\n",
      "Recalcing pool.calc.behavior.trial_count: OA26 170212 3\n",
      "old bias:  nan\n",
      "new bias:  nan\n",
      "Recalcing pool.calc.driven.visually: OA26 170213 \n"
     ]
    },
    {
     "name": "stderr",
     "output_type": "stream",
     "text": [
      "/Users/kelly_mcguire/Documents/Code/cascade/cascade/bias.py:159: RuntimeWarning: All-NaN axis encountered\n",
      "  max_response = np.array([np.nanmax(s) for s in zip(*responses)])\n",
      "/Users/kelly_mcguire/Documents/Code/cascade/cascade/bias.py:165: RuntimeWarning: Mean of empty slice\n",
      "  print('old bias: ', np.nanmean(bias))\n",
      "/Users/kelly_mcguire/Documents/Code/cascade/cascade/bias.py:166: RuntimeWarning: Mean of empty slice\n",
      "  print('new bias: ', np.nanmean(test))\n",
      "/Users/kelly_mcguire/Documents/Code/cascade/cascade/bias.py:167: RuntimeWarning: Mean of empty slice\n",
      "  xday_bias.append(np.nanmean(bias))\n"
     ]
    },
    {
     "name": "stdout",
     "output_type": "stream",
     "text": [
      "Recalcing pool.calc.driven.visually: OA26 170213 \n",
      "Recalcing pool.calc.driven.visually: OA26 170213 \n",
      "Trace parameters hashed for df: dual\n",
      "Recalcing pool.calc.behavior.dprime: OA26 170213 \n",
      "Recalcing pool.calc.behavior.correct_count: OA26 170213 1\n",
      "Recalcing pool.calc.behavior.trial_count: OA26 170213 1\n",
      "Recalcing pool.calc.behavior.incorrect_count: OA26 170213 1\n",
      "Recalcing pool.calc.behavior.trial_count: OA26 170213 1\n",
      "Recalcing pool.calc.behavior.incorrect_count: OA26 170213 1\n",
      "Recalcing pool.calc.behavior.trial_count: OA26 170213 1\n",
      "Recalcing pool.calc.behavior.correct_count: OA26 170213 2\n",
      "Recalcing pool.calc.behavior.trial_count: OA26 170213 2\n",
      "Recalcing pool.calc.behavior.incorrect_count: OA26 170213 2\n",
      "Recalcing pool.calc.behavior.trial_count: OA26 170213 2\n",
      "Recalcing pool.calc.behavior.incorrect_count: OA26 170213 2\n",
      "Recalcing pool.calc.behavior.trial_count: OA26 170213 2\n",
      "Recalcing pool.calc.behavior.correct_count: OA26 170213 3\n",
      "Recalcing pool.calc.behavior.trial_count: OA26 170213 3\n",
      "Recalcing pool.calc.behavior.incorrect_count: OA26 170213 3\n",
      "Recalcing pool.calc.behavior.trial_count: OA26 170213 3\n",
      "Recalcing pool.calc.behavior.incorrect_count: OA26 170213 3\n",
      "Recalcing pool.calc.behavior.trial_count: OA26 170213 3\n",
      "Recalcing pool.calc.behavior.correct_count: OA26 170213 4\n",
      "Recalcing pool.calc.behavior.trial_count: OA26 170213 4\n",
      "Recalcing pool.calc.behavior.incorrect_count: OA26 170213 4\n",
      "Recalcing pool.calc.behavior.trial_count: OA26 170213 4\n",
      "Recalcing pool.calc.behavior.incorrect_count: OA26 170213 4\n",
      "Recalcing pool.calc.behavior.trial_count: OA26 170213 4\n",
      "old bias:  0.3919947920957231\n",
      "new bias:  0.21609199288655426\n"
     ]
    },
    {
     "name": "stderr",
     "output_type": "stream",
     "text": [
      "/Users/kelly_mcguire/Documents/Code/cascade/cascade/bias.py:159: RuntimeWarning: All-NaN axis encountered\n",
      "  max_response = np.array([np.nanmax(s) for s in zip(*responses)])\n"
     ]
    },
    {
     "name": "stdout",
     "output_type": "stream",
     "text": [
      "Recalcing pool.calc.driven.visually: OA26 170214 \n",
      "Recalcing pool.calc.driven.visually: OA26 170214 \n",
      "Recalcing pool.calc.driven.visually: OA26 170214 \n",
      "Trace parameters hashed for df: dual\n",
      "Recalcing pool.calc.behavior.dprime: OA26 170214 \n",
      "Recalcing pool.calc.behavior.correct_count: OA26 170214 1\n",
      "Recalcing pool.calc.behavior.trial_count: OA26 170214 1\n",
      "Recalcing pool.calc.behavior.incorrect_count: OA26 170214 1\n",
      "Recalcing pool.calc.behavior.trial_count: OA26 170214 1\n",
      "Recalcing pool.calc.behavior.incorrect_count: OA26 170214 1\n",
      "Recalcing pool.calc.behavior.trial_count: OA26 170214 1\n",
      "Recalcing pool.calc.behavior.correct_count: OA26 170214 2\n",
      "Recalcing pool.calc.behavior.trial_count: OA26 170214 2\n",
      "Recalcing pool.calc.behavior.incorrect_count: OA26 170214 2\n",
      "Recalcing pool.calc.behavior.trial_count: OA26 170214 2\n",
      "Recalcing pool.calc.behavior.incorrect_count: OA26 170214 2\n",
      "Recalcing pool.calc.behavior.trial_count: OA26 170214 2\n",
      "Recalcing pool.calc.behavior.correct_count: OA26 170214 3\n",
      "Recalcing pool.calc.behavior.trial_count: OA26 170214 3\n",
      "Recalcing pool.calc.behavior.incorrect_count: OA26 170214 3\n",
      "Recalcing pool.calc.behavior.trial_count: OA26 170214 3\n",
      "Recalcing pool.calc.behavior.incorrect_count: OA26 170214 3\n",
      "Recalcing pool.calc.behavior.trial_count: OA26 170214 3\n",
      "Recalcing pool.calc.behavior.correct_count: OA26 170214 4\n",
      "Recalcing pool.calc.behavior.trial_count: OA26 170214 4\n",
      "Recalcing pool.calc.behavior.incorrect_count: OA26 170214 4\n",
      "Recalcing pool.calc.behavior.trial_count: OA26 170214 4\n",
      "Recalcing pool.calc.behavior.incorrect_count: OA26 170214 4\n",
      "Recalcing pool.calc.behavior.trial_count: OA26 170214 4\n",
      "old bias:  0.5147376527395027\n",
      "new bias:  0.29204816952513973\n"
     ]
    },
    {
     "name": "stderr",
     "output_type": "stream",
     "text": [
      "/Users/kelly_mcguire/Documents/Code/cascade/cascade/bias.py:159: RuntimeWarning: All-NaN axis encountered\n",
      "  max_response = np.array([np.nanmax(s) for s in zip(*responses)])\n"
     ]
    },
    {
     "name": "stdout",
     "output_type": "stream",
     "text": [
      "Recalcing pool.calc.driven.visually: OA26 170215 \n",
      "Recalcing pool.calc.driven.visually: OA26 170215 \n",
      "Recalcing pool.calc.driven.visually: OA26 170215 \n",
      "Trace parameters hashed for df: dual\n",
      "Recalcing pool.calc.behavior.dprime: OA26 170215 \n",
      "Recalcing pool.calc.behavior.correct_count: OA26 170215 1\n",
      "Recalcing pool.calc.behavior.trial_count: OA26 170215 1\n",
      "Recalcing pool.calc.behavior.incorrect_count: OA26 170215 1\n",
      "Recalcing pool.calc.behavior.trial_count: OA26 170215 1\n",
      "Recalcing pool.calc.behavior.incorrect_count: OA26 170215 1\n",
      "Recalcing pool.calc.behavior.trial_count: OA26 170215 1\n",
      "Recalcing pool.calc.behavior.correct_count: OA26 170215 2\n",
      "Recalcing pool.calc.behavior.trial_count: OA26 170215 2\n",
      "Recalcing pool.calc.behavior.incorrect_count: OA26 170215 2\n",
      "Recalcing pool.calc.behavior.trial_count: OA26 170215 2\n",
      "Recalcing pool.calc.behavior.incorrect_count: OA26 170215 2\n",
      "Recalcing pool.calc.behavior.trial_count: OA26 170215 2\n",
      "Recalcing pool.calc.behavior.correct_count: OA26 170215 3\n",
      "Recalcing pool.calc.behavior.trial_count: OA26 170215 3\n",
      "Recalcing pool.calc.behavior.incorrect_count: OA26 170215 3\n",
      "Recalcing pool.calc.behavior.trial_count: OA26 170215 3\n",
      "Recalcing pool.calc.behavior.incorrect_count: OA26 170215 3\n",
      "Recalcing pool.calc.behavior.trial_count: OA26 170215 3\n",
      "Recalcing pool.calc.behavior.correct_count: OA26 170215 4\n",
      "Recalcing pool.calc.behavior.trial_count: OA26 170215 4\n",
      "Recalcing pool.calc.behavior.incorrect_count: OA26 170215 4\n",
      "Recalcing pool.calc.behavior.trial_count: OA26 170215 4\n",
      "Recalcing pool.calc.behavior.incorrect_count: OA26 170215 4\n",
      "Recalcing pool.calc.behavior.trial_count: OA26 170215 4\n",
      "Recalcing pool.calc.behavior.correct_count: OA26 170215 5\n",
      "Recalcing pool.calc.behavior.trial_count: OA26 170215 5\n",
      "Recalcing pool.calc.behavior.incorrect_count: OA26 170215 5\n",
      "Recalcing pool.calc.behavior.trial_count: OA26 170215 5\n",
      "Recalcing pool.calc.behavior.incorrect_count: OA26 170215 5\n",
      "Recalcing pool.calc.behavior.trial_count: OA26 170215 5\n",
      "old bias:  0.4892509094629696\n",
      "new bias:  0.3205158241571999\n"
     ]
    },
    {
     "name": "stderr",
     "output_type": "stream",
     "text": [
      "/Users/kelly_mcguire/Documents/Code/cascade/cascade/bias.py:159: RuntimeWarning: All-NaN axis encountered\n",
      "  max_response = np.array([np.nanmax(s) for s in zip(*responses)])\n"
     ]
    },
    {
     "name": "stdout",
     "output_type": "stream",
     "text": [
      "Recalcing pool.calc.driven.visually: OA26 170217 \n",
      "Recalcing pool.calc.driven.visually: OA26 170217 \n",
      "Recalcing pool.calc.driven.visually: OA26 170217 \n",
      "Trace parameters hashed for df: dual\n",
      "Recalcing pool.calc.behavior.dprime: OA26 170217 \n",
      "Recalcing pool.calc.behavior.correct_count: OA26 170217 2\n",
      "Recalcing pool.calc.behavior.trial_count: OA26 170217 2\n",
      "Recalcing pool.calc.behavior.incorrect_count: OA26 170217 2\n",
      "Recalcing pool.calc.behavior.trial_count: OA26 170217 2\n",
      "Recalcing pool.calc.behavior.incorrect_count: OA26 170217 2\n",
      "Recalcing pool.calc.behavior.trial_count: OA26 170217 2\n",
      "Recalcing pool.calc.behavior.correct_count: OA26 170217 3\n",
      "Recalcing pool.calc.behavior.trial_count: OA26 170217 3\n",
      "Recalcing pool.calc.behavior.incorrect_count: OA26 170217 3\n",
      "Recalcing pool.calc.behavior.trial_count: OA26 170217 3\n",
      "Recalcing pool.calc.behavior.incorrect_count: OA26 170217 3\n",
      "Recalcing pool.calc.behavior.trial_count: OA26 170217 3\n",
      "Recalcing pool.calc.behavior.correct_count: OA26 170217 4\n",
      "Recalcing pool.calc.behavior.trial_count: OA26 170217 4\n",
      "Recalcing pool.calc.behavior.incorrect_count: OA26 170217 4\n",
      "Recalcing pool.calc.behavior.trial_count: OA26 170217 4\n",
      "Recalcing pool.calc.behavior.incorrect_count: OA26 170217 4\n",
      "Recalcing pool.calc.behavior.trial_count: OA26 170217 4\n",
      "Recalcing pool.calc.behavior.correct_count: OA26 170217 5\n",
      "Recalcing pool.calc.behavior.trial_count: OA26 170217 5\n",
      "Recalcing pool.calc.behavior.incorrect_count: OA26 170217 5\n",
      "Recalcing pool.calc.behavior.trial_count: OA26 170217 5\n",
      "Recalcing pool.calc.behavior.incorrect_count: OA26 170217 5\n",
      "Recalcing pool.calc.behavior.trial_count: OA26 170217 5\n",
      "Recalcing pool.calc.behavior.correct_count: OA26 170217 6\n",
      "Recalcing pool.calc.behavior.trial_count: OA26 170217 6\n",
      "Recalcing pool.calc.behavior.incorrect_count: OA26 170217 6\n",
      "Recalcing pool.calc.behavior.trial_count: OA26 170217 6\n",
      "Recalcing pool.calc.behavior.incorrect_count: OA26 170217 6\n",
      "Recalcing pool.calc.behavior.trial_count: OA26 170217 6\n",
      "old bias:  0.5457605998615581\n",
      "new bias:  0.361480614009989\n"
     ]
    },
    {
     "name": "stderr",
     "output_type": "stream",
     "text": [
      "/Users/kelly_mcguire/Documents/Code/cascade/cascade/bias.py:159: RuntimeWarning: All-NaN axis encountered\n",
      "  max_response = np.array([np.nanmax(s) for s in zip(*responses)])\n"
     ]
    },
    {
     "name": "stdout",
     "output_type": "stream",
     "text": [
      "Recalcing pool.calc.driven.visually: OA26 170219 \n",
      "Recalcing pool.calc.driven.visually: OA26 170219 \n",
      "Recalcing pool.calc.driven.visually: OA26 170219 \n",
      "Trace parameters hashed for df: dual\n",
      "Recalcing pool.calc.behavior.dprime: OA26 170219 \n",
      "Recalcing pool.calc.behavior.correct_count: OA26 170219 1\n",
      "Recalcing pool.calc.behavior.trial_count: OA26 170219 1\n",
      "Recalcing pool.calc.behavior.incorrect_count: OA26 170219 1\n",
      "Recalcing pool.calc.behavior.trial_count: OA26 170219 1\n",
      "Recalcing pool.calc.behavior.incorrect_count: OA26 170219 1\n",
      "Recalcing pool.calc.behavior.trial_count: OA26 170219 1\n",
      "Recalcing pool.calc.behavior.correct_count: OA26 170219 2\n",
      "Recalcing pool.calc.behavior.trial_count: OA26 170219 2\n",
      "Recalcing pool.calc.behavior.incorrect_count: OA26 170219 2\n",
      "Recalcing pool.calc.behavior.trial_count: OA26 170219 2\n",
      "Recalcing pool.calc.behavior.incorrect_count: OA26 170219 2\n",
      "Recalcing pool.calc.behavior.trial_count: OA26 170219 2\n",
      "Recalcing pool.calc.behavior.correct_count: OA26 170219 3\n",
      "Recalcing pool.calc.behavior.trial_count: OA26 170219 3\n",
      "Recalcing pool.calc.behavior.incorrect_count: OA26 170219 3\n",
      "Recalcing pool.calc.behavior.trial_count: OA26 170219 3\n",
      "Recalcing pool.calc.behavior.incorrect_count: OA26 170219 3\n",
      "Recalcing pool.calc.behavior.trial_count: OA26 170219 3\n",
      "Recalcing pool.calc.behavior.correct_count: OA26 170219 4\n",
      "Recalcing pool.calc.behavior.trial_count: OA26 170219 4\n",
      "Recalcing pool.calc.behavior.incorrect_count: OA26 170219 4\n",
      "Recalcing pool.calc.behavior.trial_count: OA26 170219 4\n",
      "Recalcing pool.calc.behavior.incorrect_count: OA26 170219 4\n",
      "Recalcing pool.calc.behavior.trial_count: OA26 170219 4\n",
      "old bias:  0.6549717938260403\n",
      "new bias:  0.37518917391929557\n"
     ]
    },
    {
     "name": "stderr",
     "output_type": "stream",
     "text": [
      "/Users/kelly_mcguire/Documents/Code/cascade/cascade/bias.py:159: RuntimeWarning: All-NaN axis encountered\n",
      "  max_response = np.array([np.nanmax(s) for s in zip(*responses)])\n"
     ]
    },
    {
     "name": "stdout",
     "output_type": "stream",
     "text": [
      "Recalcing pool.calc.driven.visually: OA26 170220 \n",
      "Recalcing pool.calc.driven.visually: OA26 170220 \n",
      "Recalcing pool.calc.driven.visually: OA26 170220 \n",
      "Trace parameters hashed for df: dual\n",
      "Recalcing pool.calc.behavior.dprime: OA26 170220 \n",
      "Recalcing pool.calc.behavior.correct_count: OA26 170220 1\n",
      "Recalcing pool.calc.behavior.trial_count: OA26 170220 1\n",
      "Recalcing pool.calc.behavior.incorrect_count: OA26 170220 1\n",
      "Recalcing pool.calc.behavior.trial_count: OA26 170220 1\n",
      "Recalcing pool.calc.behavior.incorrect_count: OA26 170220 1\n",
      "Recalcing pool.calc.behavior.trial_count: OA26 170220 1\n",
      "Recalcing pool.calc.behavior.correct_count: OA26 170220 2\n",
      "Recalcing pool.calc.behavior.trial_count: OA26 170220 2\n",
      "Recalcing pool.calc.behavior.incorrect_count: OA26 170220 2\n",
      "Recalcing pool.calc.behavior.trial_count: OA26 170220 2\n",
      "Recalcing pool.calc.behavior.incorrect_count: OA26 170220 2\n",
      "Recalcing pool.calc.behavior.trial_count: OA26 170220 2\n",
      "Recalcing pool.calc.behavior.correct_count: OA26 170220 3\n",
      "Recalcing pool.calc.behavior.trial_count: OA26 170220 3\n",
      "Recalcing pool.calc.behavior.incorrect_count: OA26 170220 3\n",
      "Recalcing pool.calc.behavior.trial_count: OA26 170220 3\n",
      "Recalcing pool.calc.behavior.incorrect_count: OA26 170220 3\n",
      "Recalcing pool.calc.behavior.trial_count: OA26 170220 3\n",
      "Recalcing pool.calc.behavior.correct_count: OA26 170220 4\n",
      "Recalcing pool.calc.behavior.trial_count: OA26 170220 4\n",
      "Recalcing pool.calc.behavior.incorrect_count: OA26 170220 4\n",
      "Recalcing pool.calc.behavior.trial_count: OA26 170220 4\n",
      "Recalcing pool.calc.behavior.incorrect_count: OA26 170220 4\n",
      "Recalcing pool.calc.behavior.trial_count: OA26 170220 4\n",
      "old bias:  0.5332936951380699\n",
      "new bias:  0.34124342834432114\n"
     ]
    },
    {
     "name": "stderr",
     "output_type": "stream",
     "text": [
      "/Users/kelly_mcguire/Documents/Code/cascade/cascade/bias.py:159: RuntimeWarning: All-NaN axis encountered\n",
      "  max_response = np.array([np.nanmax(s) for s in zip(*responses)])\n"
     ]
    },
    {
     "name": "stdout",
     "output_type": "stream",
     "text": [
      "Recalcing pool.calc.driven.visually: OA26 170221 \n",
      "Recalcing pool.calc.driven.visually: OA26 170221 \n",
      "Recalcing pool.calc.driven.visually: OA26 170221 \n",
      "Trace parameters hashed for df: dual\n",
      "Recalcing pool.calc.behavior.dprime: OA26 170221 \n",
      "Recalcing pool.calc.behavior.correct_count: OA26 170221 1\n",
      "Recalcing pool.calc.behavior.trial_count: OA26 170221 1\n",
      "Recalcing pool.calc.behavior.incorrect_count: OA26 170221 1\n",
      "Recalcing pool.calc.behavior.trial_count: OA26 170221 1\n",
      "Recalcing pool.calc.behavior.incorrect_count: OA26 170221 1\n",
      "Recalcing pool.calc.behavior.trial_count: OA26 170221 1\n",
      "Recalcing pool.calc.behavior.correct_count: OA26 170221 2\n",
      "Recalcing pool.calc.behavior.trial_count: OA26 170221 2\n",
      "Recalcing pool.calc.behavior.incorrect_count: OA26 170221 2\n",
      "Recalcing pool.calc.behavior.trial_count: OA26 170221 2\n",
      "Recalcing pool.calc.behavior.incorrect_count: OA26 170221 2\n",
      "Recalcing pool.calc.behavior.trial_count: OA26 170221 2\n",
      "Recalcing pool.calc.behavior.correct_count: OA26 170221 3\n",
      "Recalcing pool.calc.behavior.trial_count: OA26 170221 3\n",
      "Recalcing pool.calc.behavior.incorrect_count: OA26 170221 3\n",
      "Recalcing pool.calc.behavior.trial_count: OA26 170221 3\n",
      "Recalcing pool.calc.behavior.incorrect_count: OA26 170221 3\n",
      "Recalcing pool.calc.behavior.trial_count: OA26 170221 3\n",
      "Recalcing pool.calc.behavior.correct_count: OA26 170221 5\n",
      "Recalcing pool.calc.behavior.trial_count: OA26 170221 5\n",
      "Recalcing pool.calc.behavior.incorrect_count: OA26 170221 5\n",
      "Recalcing pool.calc.behavior.trial_count: OA26 170221 5\n",
      "Recalcing pool.calc.behavior.incorrect_count: OA26 170221 5\n",
      "Recalcing pool.calc.behavior.trial_count: OA26 170221 5\n",
      "old bias:  0.6606792628025395\n",
      "new bias:  0.42963115016428133\n"
     ]
    },
    {
     "name": "stderr",
     "output_type": "stream",
     "text": [
      "/Users/kelly_mcguire/Documents/Code/cascade/cascade/bias.py:159: RuntimeWarning: All-NaN axis encountered\n",
      "  max_response = np.array([np.nanmax(s) for s in zip(*responses)])\n"
     ]
    },
    {
     "name": "stdout",
     "output_type": "stream",
     "text": [
      "Recalcing pool.calc.driven.visually: OA26 170223 \n",
      "Recalcing pool.calc.driven.visually: OA26 170223 \n",
      "Recalcing pool.calc.driven.visually: OA26 170223 \n",
      "Trace parameters hashed for df: dual\n",
      "Recalcing pool.calc.behavior.dprime: OA26 170223 \n",
      "Recalcing pool.calc.behavior.correct_count: OA26 170223 1\n",
      "Recalcing pool.calc.behavior.trial_count: OA26 170223 1\n",
      "Recalcing pool.calc.behavior.incorrect_count: OA26 170223 1\n",
      "Recalcing pool.calc.behavior.trial_count: OA26 170223 1\n",
      "Recalcing pool.calc.behavior.incorrect_count: OA26 170223 1\n",
      "Recalcing pool.calc.behavior.trial_count: OA26 170223 1\n",
      "Recalcing pool.calc.behavior.correct_count: OA26 170223 2\n",
      "Recalcing pool.calc.behavior.trial_count: OA26 170223 2\n",
      "Recalcing pool.calc.behavior.incorrect_count: OA26 170223 2\n",
      "Recalcing pool.calc.behavior.trial_count: OA26 170223 2\n",
      "Recalcing pool.calc.behavior.incorrect_count: OA26 170223 2\n",
      "Recalcing pool.calc.behavior.trial_count: OA26 170223 2\n",
      "Recalcing pool.calc.behavior.correct_count: OA26 170223 3\n",
      "Recalcing pool.calc.behavior.trial_count: OA26 170223 3\n",
      "Recalcing pool.calc.behavior.incorrect_count: OA26 170223 3\n",
      "Recalcing pool.calc.behavior.trial_count: OA26 170223 3\n",
      "Recalcing pool.calc.behavior.incorrect_count: OA26 170223 3\n",
      "Recalcing pool.calc.behavior.trial_count: OA26 170223 3\n",
      "Recalcing pool.calc.behavior.correct_count: OA26 170223 4\n",
      "Recalcing pool.calc.behavior.trial_count: OA26 170223 4\n",
      "Recalcing pool.calc.behavior.incorrect_count: OA26 170223 4\n",
      "Recalcing pool.calc.behavior.trial_count: OA26 170223 4\n",
      "Recalcing pool.calc.behavior.incorrect_count: OA26 170223 4\n",
      "Recalcing pool.calc.behavior.trial_count: OA26 170223 4\n",
      "old bias:  0.5124174084993164\n",
      "new bias:  0.29992018455570046\n"
     ]
    },
    {
     "name": "stderr",
     "output_type": "stream",
     "text": [
      "/Users/kelly_mcguire/Documents/Code/cascade/cascade/bias.py:159: RuntimeWarning: All-NaN axis encountered\n",
      "  max_response = np.array([np.nanmax(s) for s in zip(*responses)])\n"
     ]
    },
    {
     "name": "stdout",
     "output_type": "stream",
     "text": [
      "Recalcing pool.calc.driven.visually: OA26 170224 \n",
      "Recalcing pool.calc.driven.visually: OA26 170224 \n",
      "Recalcing pool.calc.driven.visually: OA26 170224 \n",
      "Trace parameters hashed for df: dual\n",
      "Recalcing pool.calc.behavior.dprime: OA26 170224 \n",
      "Recalcing pool.calc.behavior.correct_count: OA26 170224 1\n",
      "Recalcing pool.calc.behavior.trial_count: OA26 170224 1\n",
      "Recalcing pool.calc.behavior.incorrect_count: OA26 170224 1\n",
      "Recalcing pool.calc.behavior.trial_count: OA26 170224 1\n",
      "Recalcing pool.calc.behavior.incorrect_count: OA26 170224 1\n",
      "Recalcing pool.calc.behavior.trial_count: OA26 170224 1\n",
      "Recalcing pool.calc.behavior.correct_count: OA26 170224 2\n",
      "Recalcing pool.calc.behavior.trial_count: OA26 170224 2\n",
      "Recalcing pool.calc.behavior.incorrect_count: OA26 170224 2\n",
      "Recalcing pool.calc.behavior.trial_count: OA26 170224 2\n",
      "Recalcing pool.calc.behavior.incorrect_count: OA26 170224 2\n",
      "Recalcing pool.calc.behavior.trial_count: OA26 170224 2\n",
      "old bias:  0.5881966157920293\n",
      "new bias:  0.4260152348999582\n"
     ]
    },
    {
     "name": "stderr",
     "output_type": "stream",
     "text": [
      "/Users/kelly_mcguire/Documents/Code/cascade/cascade/bias.py:159: RuntimeWarning: All-NaN axis encountered\n",
      "  max_response = np.array([np.nanmax(s) for s in zip(*responses)])\n"
     ]
    },
    {
     "name": "stdout",
     "output_type": "stream",
     "text": [
      "Recalcing pool.calc.driven.visually: OA26 170302 \n",
      "Recalcing pool.calc.driven.visually: OA26 170302 \n",
      "Recalcing pool.calc.driven.visually: OA26 170302 \n",
      "Trace parameters hashed for df: dual\n",
      "Recalcing pool.calc.behavior.dprime: OA26 170302 \n",
      "Recalcing pool.calc.behavior.correct_count: OA26 170302 1\n",
      "Recalcing pool.calc.behavior.trial_count: OA26 170302 1\n",
      "Recalcing pool.calc.behavior.incorrect_count: OA26 170302 1\n",
      "Recalcing pool.calc.behavior.trial_count: OA26 170302 1\n",
      "Recalcing pool.calc.behavior.incorrect_count: OA26 170302 1\n",
      "Recalcing pool.calc.behavior.trial_count: OA26 170302 1\n",
      "Recalcing pool.calc.behavior.correct_count: OA26 170302 2\n",
      "Recalcing pool.calc.behavior.trial_count: OA26 170302 2\n",
      "Recalcing pool.calc.behavior.incorrect_count: OA26 170302 2\n",
      "Recalcing pool.calc.behavior.trial_count: OA26 170302 2\n",
      "Recalcing pool.calc.behavior.incorrect_count: OA26 170302 2\n",
      "Recalcing pool.calc.behavior.trial_count: OA26 170302 2\n",
      "Recalcing pool.calc.behavior.correct_count: OA26 170302 3\n",
      "Recalcing pool.calc.behavior.trial_count: OA26 170302 3\n",
      "Recalcing pool.calc.behavior.incorrect_count: OA26 170302 3\n",
      "Recalcing pool.calc.behavior.trial_count: OA26 170302 3\n",
      "Recalcing pool.calc.behavior.incorrect_count: OA26 170302 3\n",
      "Recalcing pool.calc.behavior.trial_count: OA26 170302 3\n",
      "old bias:  0.5801895740755253\n",
      "new bias:  0.40299359947764557\n",
      "Recalcing pool.calc.driven.visually: OA26 170308 \n"
     ]
    },
    {
     "name": "stderr",
     "output_type": "stream",
     "text": [
      "/Users/kelly_mcguire/Documents/Code/cascade/cascade/bias.py:159: RuntimeWarning: All-NaN axis encountered\n",
      "  max_response = np.array([np.nanmax(s) for s in zip(*responses)])\n"
     ]
    },
    {
     "name": "stdout",
     "output_type": "stream",
     "text": [
      "Recalcing pool.calc.driven.visually: OA26 170308 \n",
      "Recalcing pool.calc.driven.visually: OA26 170308 \n",
      "Trace parameters hashed for df: dual\n",
      "Recalcing pool.calc.behavior.dprime: OA26 170308 \n",
      "Recalcing pool.calc.behavior.correct_count: OA26 170308 1\n",
      "Recalcing pool.calc.behavior.trial_count: OA26 170308 1\n",
      "Recalcing pool.calc.behavior.incorrect_count: OA26 170308 1\n",
      "Recalcing pool.calc.behavior.trial_count: OA26 170308 1\n",
      "Recalcing pool.calc.behavior.incorrect_count: OA26 170308 1\n",
      "Recalcing pool.calc.behavior.trial_count: OA26 170308 1\n",
      "Recalcing pool.calc.behavior.correct_count: OA26 170308 2\n",
      "Recalcing pool.calc.behavior.trial_count: OA26 170308 2\n",
      "Recalcing pool.calc.behavior.incorrect_count: OA26 170308 2\n",
      "Recalcing pool.calc.behavior.trial_count: OA26 170308 2\n",
      "Recalcing pool.calc.behavior.incorrect_count: OA26 170308 2\n",
      "Recalcing pool.calc.behavior.trial_count: OA26 170308 2\n",
      "old bias:  0.6416078537552811\n",
      "new bias:  0.40047731356074995\n",
      "Recalcing pool.calc.driven.visually: OA26 170309 \n"
     ]
    },
    {
     "name": "stderr",
     "output_type": "stream",
     "text": [
      "/Users/kelly_mcguire/Documents/Code/cascade/cascade/bias.py:159: RuntimeWarning: All-NaN axis encountered\n",
      "  max_response = np.array([np.nanmax(s) for s in zip(*responses)])\n"
     ]
    },
    {
     "name": "stdout",
     "output_type": "stream",
     "text": [
      "Recalcing pool.calc.driven.visually: OA26 170309 \n",
      "Recalcing pool.calc.driven.visually: OA26 170309 \n",
      "Trace parameters hashed for df: dual\n",
      "Recalcing pool.calc.behavior.dprime: OA26 170309 \n",
      "Recalcing pool.calc.behavior.correct_count: OA26 170309 3\n",
      "Recalcing pool.calc.behavior.trial_count: OA26 170309 3\n",
      "Recalcing pool.calc.behavior.incorrect_count: OA26 170309 3\n",
      "Recalcing pool.calc.behavior.trial_count: OA26 170309 3\n",
      "Recalcing pool.calc.behavior.incorrect_count: OA26 170309 3\n",
      "Recalcing pool.calc.behavior.trial_count: OA26 170309 3\n",
      "Recalcing pool.calc.behavior.correct_count: OA26 170309 4\n",
      "Recalcing pool.calc.behavior.trial_count: OA26 170309 4\n",
      "Recalcing pool.calc.behavior.incorrect_count: OA26 170309 4\n",
      "Recalcing pool.calc.behavior.trial_count: OA26 170309 4\n",
      "Recalcing pool.calc.behavior.incorrect_count: OA26 170309 4\n",
      "Recalcing pool.calc.behavior.trial_count: OA26 170309 4\n",
      "old bias:  0.640394565542447\n",
      "new bias:  0.39614128848495417\n",
      "Recalcing pool.calc.driven.visually: OA26 170313 \n"
     ]
    },
    {
     "name": "stderr",
     "output_type": "stream",
     "text": [
      "/Users/kelly_mcguire/Documents/Code/cascade/cascade/bias.py:159: RuntimeWarning: All-NaN axis encountered\n",
      "  max_response = np.array([np.nanmax(s) for s in zip(*responses)])\n"
     ]
    },
    {
     "name": "stdout",
     "output_type": "stream",
     "text": [
      "Recalcing pool.calc.driven.visually: OA26 170313 \n",
      "Recalcing pool.calc.driven.visually: OA26 170313 \n",
      "Trace parameters hashed for df: dual\n",
      "Recalcing pool.calc.behavior.dprime: OA26 170313 \n",
      "Recalcing pool.calc.behavior.correct_count: OA26 170313 3\n",
      "Recalcing pool.calc.behavior.trial_count: OA26 170313 3\n",
      "Recalcing pool.calc.behavior.incorrect_count: OA26 170313 3\n",
      "Recalcing pool.calc.behavior.trial_count: OA26 170313 3\n",
      "Recalcing pool.calc.behavior.incorrect_count: OA26 170313 3\n",
      "Recalcing pool.calc.behavior.trial_count: OA26 170313 3\n",
      "Recalcing pool.calc.behavior.correct_count: OA26 170313 4\n",
      "Recalcing pool.calc.behavior.trial_count: OA26 170313 4\n",
      "Recalcing pool.calc.behavior.incorrect_count: OA26 170313 4\n",
      "Recalcing pool.calc.behavior.trial_count: OA26 170313 4\n",
      "Recalcing pool.calc.behavior.incorrect_count: OA26 170313 4\n",
      "Recalcing pool.calc.behavior.trial_count: OA26 170313 4\n",
      "old bias:  0.6703202259562455\n",
      "new bias:  0.48014498082584145\n"
     ]
    },
    {
     "name": "stderr",
     "output_type": "stream",
     "text": [
      "/Users/kelly_mcguire/Documents/Code/cascade/cascade/bias.py:159: RuntimeWarning: All-NaN axis encountered\n",
      "  max_response = np.array([np.nanmax(s) for s in zip(*responses)])\n"
     ]
    },
    {
     "name": "stdout",
     "output_type": "stream",
     "text": [
      "Recalcing pool.calc.driven.visually: OA26 170314 \n",
      "Recalcing pool.calc.driven.visually: OA26 170314 \n",
      "Recalcing pool.calc.driven.visually: OA26 170314 \n",
      "Trace parameters hashed for df: dual\n",
      "Recalcing pool.calc.behavior.dprime: OA26 170314 \n",
      "Recalcing pool.calc.behavior.correct_count: OA26 170314 1\n",
      "Recalcing pool.calc.behavior.trial_count: OA26 170314 1\n",
      "Recalcing pool.calc.behavior.incorrect_count: OA26 170314 1\n",
      "Recalcing pool.calc.behavior.trial_count: OA26 170314 1\n",
      "Recalcing pool.calc.behavior.incorrect_count: OA26 170314 1\n",
      "Recalcing pool.calc.behavior.trial_count: OA26 170314 1\n",
      "Recalcing pool.calc.behavior.correct_count: OA26 170314 2\n",
      "Recalcing pool.calc.behavior.trial_count: OA26 170314 2\n",
      "Recalcing pool.calc.behavior.incorrect_count: OA26 170314 2\n",
      "Recalcing pool.calc.behavior.trial_count: OA26 170314 2\n",
      "Recalcing pool.calc.behavior.incorrect_count: OA26 170314 2\n",
      "Recalcing pool.calc.behavior.trial_count: OA26 170314 2\n",
      "old bias:  0.7016148844668137\n",
      "new bias:  0.3761314215943775\n",
      "Recalcing pool.calc.driven.visually: OA26 170317 \n"
     ]
    },
    {
     "name": "stderr",
     "output_type": "stream",
     "text": [
      "/Users/kelly_mcguire/Documents/Code/cascade/cascade/bias.py:159: RuntimeWarning: All-NaN axis encountered\n",
      "  max_response = np.array([np.nanmax(s) for s in zip(*responses)])\n"
     ]
    },
    {
     "name": "stdout",
     "output_type": "stream",
     "text": [
      "Recalcing pool.calc.driven.visually: OA26 170317 \n",
      "Recalcing pool.calc.driven.visually: OA26 170317 \n",
      "Trace parameters hashed for df: dual\n",
      "Recalcing pool.calc.behavior.dprime: OA26 170317 \n",
      "Recalcing pool.calc.behavior.correct_count: OA26 170317 2\n",
      "Recalcing pool.calc.behavior.trial_count: OA26 170317 2\n",
      "Recalcing pool.calc.behavior.incorrect_count: OA26 170317 2\n",
      "Recalcing pool.calc.behavior.trial_count: OA26 170317 2\n",
      "Recalcing pool.calc.behavior.incorrect_count: OA26 170317 2\n",
      "Recalcing pool.calc.behavior.trial_count: OA26 170317 2\n",
      "old bias:  0.6897403087959204\n",
      "new bias:  0.3647196147650044\n",
      "Recalcing pool.calc.driven.visually: OA26 170319 \n"
     ]
    },
    {
     "name": "stderr",
     "output_type": "stream",
     "text": [
      "/Users/kelly_mcguire/Documents/Code/cascade/cascade/bias.py:159: RuntimeWarning: All-NaN axis encountered\n",
      "  max_response = np.array([np.nanmax(s) for s in zip(*responses)])\n"
     ]
    },
    {
     "name": "stdout",
     "output_type": "stream",
     "text": [
      "Recalcing pool.calc.driven.visually: OA26 170319 \n",
      "Recalcing pool.calc.driven.visually: OA26 170319 \n",
      "Trace parameters hashed for df: dual\n",
      "Recalcing pool.calc.behavior.dprime: OA26 170319 \n",
      "Recalcing pool.calc.behavior.correct_count: OA26 170319 1\n",
      "Recalcing pool.calc.behavior.trial_count: OA26 170319 1\n",
      "Recalcing pool.calc.behavior.incorrect_count: OA26 170319 1\n",
      "Recalcing pool.calc.behavior.trial_count: OA26 170319 1\n",
      "Recalcing pool.calc.behavior.incorrect_count: OA26 170319 1\n",
      "Recalcing pool.calc.behavior.trial_count: OA26 170319 1\n",
      "Recalcing pool.calc.behavior.correct_count: OA26 170319 2\n",
      "Recalcing pool.calc.behavior.trial_count: OA26 170319 2\n",
      "Recalcing pool.calc.behavior.incorrect_count: OA26 170319 2\n",
      "Recalcing pool.calc.behavior.trial_count: OA26 170319 2\n",
      "Recalcing pool.calc.behavior.incorrect_count: OA26 170319 2\n",
      "Recalcing pool.calc.behavior.trial_count: OA26 170319 2\n",
      "Recalcing pool.calc.behavior.correct_count: OA26 170319 3\n",
      "Recalcing pool.calc.behavior.trial_count: OA26 170319 3\n",
      "Recalcing pool.calc.behavior.incorrect_count: OA26 170319 3\n",
      "Recalcing pool.calc.behavior.trial_count: OA26 170319 3\n",
      "Recalcing pool.calc.behavior.incorrect_count: OA26 170319 3\n",
      "Recalcing pool.calc.behavior.trial_count: OA26 170319 3\n",
      "Recalcing pool.calc.behavior.correct_count: OA26 170319 4\n",
      "Recalcing pool.calc.behavior.trial_count: OA26 170319 4\n",
      "Recalcing pool.calc.behavior.incorrect_count: OA26 170319 4\n",
      "Recalcing pool.calc.behavior.trial_count: OA26 170319 4\n",
      "Recalcing pool.calc.behavior.incorrect_count: OA26 170319 4\n",
      "Recalcing pool.calc.behavior.trial_count: OA26 170319 4\n",
      "Recalcing pool.calc.behavior.correct_count: OA26 170319 5\n",
      "Recalcing pool.calc.behavior.trial_count: OA26 170319 5\n",
      "Recalcing pool.calc.behavior.incorrect_count: OA26 170319 5\n",
      "Recalcing pool.calc.behavior.trial_count: OA26 170319 5\n",
      "Recalcing pool.calc.behavior.incorrect_count: OA26 170319 5\n",
      "Recalcing pool.calc.behavior.trial_count: OA26 170319 5\n",
      "Recalcing pool.calc.behavior.correct_count: OA26 170319 6\n",
      "Recalcing pool.calc.behavior.trial_count: OA26 170319 6\n",
      "Recalcing pool.calc.behavior.incorrect_count: OA26 170319 6\n",
      "Recalcing pool.calc.behavior.trial_count: OA26 170319 6\n",
      "Recalcing pool.calc.behavior.incorrect_count: OA26 170319 6\n",
      "Recalcing pool.calc.behavior.trial_count: OA26 170319 6\n",
      "old bias:  0.6223030884135343\n",
      "new bias:  0.4050331068861562\n"
     ]
    },
    {
     "name": "stderr",
     "output_type": "stream",
     "text": [
      "/Users/kelly_mcguire/Documents/Code/cascade/cascade/bias.py:159: RuntimeWarning: All-NaN axis encountered\n",
      "  max_response = np.array([np.nanmax(s) for s in zip(*responses)])\n"
     ]
    },
    {
     "name": "stdout",
     "output_type": "stream",
     "text": [
      "Recalcing pool.calc.driven.visually: OA26 170320 \n",
      "Recalcing pool.calc.driven.visually: OA26 170320 \n",
      "Recalcing pool.calc.driven.visually: OA26 170320 \n",
      "Trace parameters hashed for df: dual\n",
      "Recalcing pool.calc.behavior.dprime: OA26 170320 \n",
      "Recalcing pool.calc.behavior.correct_count: OA26 170320 1\n",
      "Recalcing pool.calc.behavior.trial_count: OA26 170320 1\n",
      "Recalcing pool.calc.behavior.incorrect_count: OA26 170320 1\n",
      "Recalcing pool.calc.behavior.trial_count: OA26 170320 1\n",
      "Recalcing pool.calc.behavior.incorrect_count: OA26 170320 1\n",
      "Recalcing pool.calc.behavior.trial_count: OA26 170320 1\n",
      "Recalcing pool.calc.behavior.correct_count: OA26 170320 2\n",
      "Recalcing pool.calc.behavior.trial_count: OA26 170320 2\n",
      "Recalcing pool.calc.behavior.incorrect_count: OA26 170320 2\n",
      "Recalcing pool.calc.behavior.trial_count: OA26 170320 2\n",
      "Recalcing pool.calc.behavior.incorrect_count: OA26 170320 2\n",
      "Recalcing pool.calc.behavior.trial_count: OA26 170320 2\n",
      "Recalcing pool.calc.behavior.correct_count: OA26 170320 3\n",
      "Recalcing pool.calc.behavior.trial_count: OA26 170320 3\n",
      "Recalcing pool.calc.behavior.incorrect_count: OA26 170320 3\n",
      "Recalcing pool.calc.behavior.trial_count: OA26 170320 3\n",
      "Recalcing pool.calc.behavior.incorrect_count: OA26 170320 3\n",
      "Recalcing pool.calc.behavior.trial_count: OA26 170320 3\n",
      "Recalcing pool.calc.behavior.correct_count: OA26 170320 4\n",
      "Recalcing pool.calc.behavior.trial_count: OA26 170320 4\n",
      "Recalcing pool.calc.behavior.incorrect_count: OA26 170320 4\n",
      "Recalcing pool.calc.behavior.trial_count: OA26 170320 4\n",
      "Recalcing pool.calc.behavior.incorrect_count: OA26 170320 4\n",
      "Recalcing pool.calc.behavior.trial_count: OA26 170320 4\n",
      "Recalcing pool.calc.behavior.correct_count: OA26 170320 5\n",
      "Recalcing pool.calc.behavior.trial_count: OA26 170320 5\n",
      "Recalcing pool.calc.behavior.incorrect_count: OA26 170320 5\n",
      "Recalcing pool.calc.behavior.trial_count: OA26 170320 5\n",
      "Recalcing pool.calc.behavior.incorrect_count: OA26 170320 5\n",
      "Recalcing pool.calc.behavior.trial_count: OA26 170320 5\n",
      "old bias:  0.49423986729417124\n",
      "new bias:  0.39043833397222466\n"
     ]
    },
    {
     "name": "stderr",
     "output_type": "stream",
     "text": [
      "/Users/kelly_mcguire/Documents/Code/cascade/cascade/bias.py:159: RuntimeWarning: All-NaN axis encountered\n",
      "  max_response = np.array([np.nanmax(s) for s in zip(*responses)])\n"
     ]
    },
    {
     "name": "stdout",
     "output_type": "stream",
     "text": [
      "Recalcing pool.calc.driven.visually: OA26 170321 \n",
      "Recalcing pool.calc.driven.visually: OA26 170321 \n",
      "Recalcing pool.calc.driven.visually: OA26 170321 \n",
      "Trace parameters hashed for df: dual\n",
      "Recalcing pool.calc.behavior.dprime: OA26 170321 \n",
      "Recalcing pool.calc.behavior.correct_count: OA26 170321 3\n",
      "Recalcing pool.calc.behavior.trial_count: OA26 170321 3\n",
      "Recalcing pool.calc.behavior.incorrect_count: OA26 170321 3\n",
      "Recalcing pool.calc.behavior.trial_count: OA26 170321 3\n",
      "Recalcing pool.calc.behavior.incorrect_count: OA26 170321 3\n",
      "Recalcing pool.calc.behavior.trial_count: OA26 170321 3\n",
      "Recalcing pool.calc.behavior.correct_count: OA26 170321 4\n",
      "Recalcing pool.calc.behavior.trial_count: OA26 170321 4\n",
      "Recalcing pool.calc.behavior.incorrect_count: OA26 170321 4\n",
      "Recalcing pool.calc.behavior.trial_count: OA26 170321 4\n",
      "Recalcing pool.calc.behavior.incorrect_count: OA26 170321 4\n",
      "Recalcing pool.calc.behavior.trial_count: OA26 170321 4\n",
      "Recalcing pool.calc.behavior.correct_count: OA26 170321 5\n",
      "Recalcing pool.calc.behavior.trial_count: OA26 170321 5\n",
      "Recalcing pool.calc.behavior.incorrect_count: OA26 170321 5\n",
      "Recalcing pool.calc.behavior.trial_count: OA26 170321 5\n",
      "Recalcing pool.calc.behavior.incorrect_count: OA26 170321 5\n",
      "Recalcing pool.calc.behavior.trial_count: OA26 170321 5\n",
      "Recalcing pool.calc.behavior.correct_count: OA26 170321 6\n",
      "Recalcing pool.calc.behavior.trial_count: OA26 170321 6\n",
      "Recalcing pool.calc.behavior.incorrect_count: OA26 170321 6\n",
      "Recalcing pool.calc.behavior.trial_count: OA26 170321 6\n",
      "Recalcing pool.calc.behavior.incorrect_count: OA26 170321 6\n",
      "Recalcing pool.calc.behavior.trial_count: OA26 170321 6\n",
      "old bias:  0.43027303979257714\n",
      "new bias:  0.3455275844373195\n"
     ]
    },
    {
     "name": "stderr",
     "output_type": "stream",
     "text": [
      "/Users/kelly_mcguire/Documents/Code/cascade/cascade/bias.py:159: RuntimeWarning: All-NaN axis encountered\n",
      "  max_response = np.array([np.nanmax(s) for s in zip(*responses)])\n"
     ]
    },
    {
     "name": "stdout",
     "output_type": "stream",
     "text": [
      "Recalcing pool.calc.driven.visually: OA26 170322 \n",
      "Recalcing pool.calc.driven.visually: OA26 170322 \n",
      "Recalcing pool.calc.driven.visually: OA26 170322 \n",
      "Trace parameters hashed for df: dual\n",
      "Recalcing pool.calc.behavior.dprime: OA26 170322 \n",
      "Recalcing pool.calc.behavior.correct_count: OA26 170322 1\n",
      "Recalcing pool.calc.behavior.trial_count: OA26 170322 1\n",
      "Recalcing pool.calc.behavior.incorrect_count: OA26 170322 1\n",
      "Recalcing pool.calc.behavior.trial_count: OA26 170322 1\n",
      "Recalcing pool.calc.behavior.incorrect_count: OA26 170322 1\n",
      "Recalcing pool.calc.behavior.trial_count: OA26 170322 1\n",
      "Recalcing pool.calc.behavior.correct_count: OA26 170322 2\n",
      "Recalcing pool.calc.behavior.trial_count: OA26 170322 2\n",
      "Recalcing pool.calc.behavior.incorrect_count: OA26 170322 2\n",
      "Recalcing pool.calc.behavior.trial_count: OA26 170322 2\n",
      "Recalcing pool.calc.behavior.incorrect_count: OA26 170322 2\n",
      "Recalcing pool.calc.behavior.trial_count: OA26 170322 2\n",
      "Recalcing pool.calc.behavior.correct_count: OA26 170322 3\n",
      "Recalcing pool.calc.behavior.trial_count: OA26 170322 3\n",
      "Recalcing pool.calc.behavior.incorrect_count: OA26 170322 3\n",
      "Recalcing pool.calc.behavior.trial_count: OA26 170322 3\n",
      "Recalcing pool.calc.behavior.incorrect_count: OA26 170322 3\n",
      "Recalcing pool.calc.behavior.trial_count: OA26 170322 3\n",
      "Recalcing pool.calc.behavior.correct_count: OA26 170322 4\n",
      "Recalcing pool.calc.behavior.trial_count: OA26 170322 4\n",
      "Recalcing pool.calc.behavior.incorrect_count: OA26 170322 4\n",
      "Recalcing pool.calc.behavior.trial_count: OA26 170322 4\n",
      "Recalcing pool.calc.behavior.incorrect_count: OA26 170322 4\n",
      "Recalcing pool.calc.behavior.trial_count: OA26 170322 4\n",
      "Recalcing pool.calc.behavior.correct_count: OA26 170322 5\n",
      "Recalcing pool.calc.behavior.trial_count: OA26 170322 5\n",
      "Recalcing pool.calc.behavior.incorrect_count: OA26 170322 5\n",
      "Recalcing pool.calc.behavior.trial_count: OA26 170322 5\n",
      "Recalcing pool.calc.behavior.incorrect_count: OA26 170322 5\n",
      "Recalcing pool.calc.behavior.trial_count: OA26 170322 5\n",
      "old bias:  0.5421367943944265\n",
      "new bias:  0.3616990216433943\n"
     ]
    },
    {
     "name": "stderr",
     "output_type": "stream",
     "text": [
      "/Users/kelly_mcguire/Documents/Code/cascade/cascade/bias.py:159: RuntimeWarning: All-NaN axis encountered\n",
      "  max_response = np.array([np.nanmax(s) for s in zip(*responses)])\n"
     ]
    },
    {
     "name": "stdout",
     "output_type": "stream",
     "text": [
      "Recalcing pool.calc.driven.visually: OA26 170324 \n",
      "Recalcing pool.calc.driven.visually: OA26 170324 \n",
      "Recalcing pool.calc.driven.visually: OA26 170324 \n",
      "Trace parameters hashed for df: dual\n",
      "Recalcing pool.calc.behavior.dprime: OA26 170324 \n",
      "Recalcing pool.calc.behavior.correct_count: OA26 170324 1\n",
      "Recalcing pool.calc.behavior.trial_count: OA26 170324 1\n",
      "Recalcing pool.calc.behavior.incorrect_count: OA26 170324 1\n",
      "Recalcing pool.calc.behavior.trial_count: OA26 170324 1\n",
      "Recalcing pool.calc.behavior.incorrect_count: OA26 170324 1\n",
      "Recalcing pool.calc.behavior.trial_count: OA26 170324 1\n",
      "Recalcing pool.calc.behavior.correct_count: OA26 170324 3\n",
      "Recalcing pool.calc.behavior.trial_count: OA26 170324 3\n",
      "Recalcing pool.calc.behavior.incorrect_count: OA26 170324 3\n",
      "Recalcing pool.calc.behavior.trial_count: OA26 170324 3\n",
      "Recalcing pool.calc.behavior.incorrect_count: OA26 170324 3\n",
      "Recalcing pool.calc.behavior.trial_count: OA26 170324 3\n",
      "Recalcing pool.calc.behavior.correct_count: OA26 170324 4\n",
      "Recalcing pool.calc.behavior.trial_count: OA26 170324 4\n",
      "Recalcing pool.calc.behavior.incorrect_count: OA26 170324 4\n",
      "Recalcing pool.calc.behavior.trial_count: OA26 170324 4\n",
      "Recalcing pool.calc.behavior.incorrect_count: OA26 170324 4\n",
      "Recalcing pool.calc.behavior.trial_count: OA26 170324 4\n",
      "Recalcing pool.calc.behavior.correct_count: OA26 170324 5\n",
      "Recalcing pool.calc.behavior.trial_count: OA26 170324 5\n",
      "Recalcing pool.calc.behavior.incorrect_count: OA26 170324 5\n",
      "Recalcing pool.calc.behavior.trial_count: OA26 170324 5\n",
      "Recalcing pool.calc.behavior.incorrect_count: OA26 170324 5\n",
      "Recalcing pool.calc.behavior.trial_count: OA26 170324 5\n",
      "old bias:  0.6218876744586047\n",
      "new bias:  0.37973643641686744\n"
     ]
    },
    {
     "name": "stderr",
     "output_type": "stream",
     "text": [
      "/Users/kelly_mcguire/Documents/Code/cascade/cascade/bias.py:159: RuntimeWarning: All-NaN axis encountered\n",
      "  max_response = np.array([np.nanmax(s) for s in zip(*responses)])\n"
     ]
    },
    {
     "name": "stdout",
     "output_type": "stream",
     "text": [
      "Recalcing pool.calc.driven.visually: OA26 170325 \n",
      "Recalcing pool.calc.driven.visually: OA26 170325 \n",
      "Recalcing pool.calc.driven.visually: OA26 170325 \n",
      "Trace parameters hashed for df: dual\n",
      "Recalcing pool.calc.behavior.dprime: OA26 170325 \n",
      "Recalcing pool.calc.behavior.correct_count: OA26 170325 1\n",
      "Recalcing pool.calc.behavior.trial_count: OA26 170325 1\n",
      "Recalcing pool.calc.behavior.incorrect_count: OA26 170325 1\n",
      "Recalcing pool.calc.behavior.trial_count: OA26 170325 1\n",
      "Recalcing pool.calc.behavior.incorrect_count: OA26 170325 1\n",
      "Recalcing pool.calc.behavior.trial_count: OA26 170325 1\n",
      "Recalcing pool.calc.behavior.correct_count: OA26 170325 2\n",
      "Recalcing pool.calc.behavior.trial_count: OA26 170325 2\n",
      "Recalcing pool.calc.behavior.incorrect_count: OA26 170325 2\n",
      "Recalcing pool.calc.behavior.trial_count: OA26 170325 2\n",
      "Recalcing pool.calc.behavior.incorrect_count: OA26 170325 2\n",
      "Recalcing pool.calc.behavior.trial_count: OA26 170325 2\n",
      "Recalcing pool.calc.behavior.correct_count: OA26 170325 3\n",
      "Recalcing pool.calc.behavior.trial_count: OA26 170325 3\n",
      "Recalcing pool.calc.behavior.incorrect_count: OA26 170325 3\n",
      "Recalcing pool.calc.behavior.trial_count: OA26 170325 3\n",
      "Recalcing pool.calc.behavior.incorrect_count: OA26 170325 3\n",
      "Recalcing pool.calc.behavior.trial_count: OA26 170325 3\n",
      "old bias:  0.49346359728107614\n",
      "new bias:  0.34290263604205334\n"
     ]
    },
    {
     "name": "stderr",
     "output_type": "stream",
     "text": [
      "/Users/kelly_mcguire/Documents/Code/cascade/cascade/bias.py:159: RuntimeWarning: All-NaN axis encountered\n",
      "  max_response = np.array([np.nanmax(s) for s in zip(*responses)])\n"
     ]
    },
    {
     "name": "stdout",
     "output_type": "stream",
     "text": [
      "Recalcing pool.calc.driven.visually: OA26 170327 \n",
      "Recalcing pool.calc.driven.visually: OA26 170327 \n",
      "Recalcing pool.calc.driven.visually: OA26 170327 \n",
      "Trace parameters hashed for df: dual\n",
      "Recalcing pool.calc.behavior.dprime: OA26 170327 \n",
      "Recalcing pool.calc.behavior.correct_count: OA26 170327 1\n",
      "Recalcing pool.calc.behavior.trial_count: OA26 170327 1\n",
      "Recalcing pool.calc.behavior.incorrect_count: OA26 170327 1\n",
      "Recalcing pool.calc.behavior.trial_count: OA26 170327 1\n",
      "Recalcing pool.calc.behavior.incorrect_count: OA26 170327 1\n",
      "Recalcing pool.calc.behavior.trial_count: OA26 170327 1\n",
      "Recalcing pool.calc.behavior.correct_count: OA26 170327 2\n",
      "Recalcing pool.calc.behavior.trial_count: OA26 170327 2\n",
      "Recalcing pool.calc.behavior.incorrect_count: OA26 170327 2\n",
      "Recalcing pool.calc.behavior.trial_count: OA26 170327 2\n",
      "Recalcing pool.calc.behavior.incorrect_count: OA26 170327 2\n",
      "Recalcing pool.calc.behavior.trial_count: OA26 170327 2\n",
      "Recalcing pool.calc.behavior.correct_count: OA26 170327 3\n",
      "Recalcing pool.calc.behavior.trial_count: OA26 170327 3\n",
      "Recalcing pool.calc.behavior.incorrect_count: OA26 170327 3\n",
      "Recalcing pool.calc.behavior.trial_count: OA26 170327 3\n",
      "Recalcing pool.calc.behavior.incorrect_count: OA26 170327 3\n",
      "Recalcing pool.calc.behavior.trial_count: OA26 170327 3\n",
      "Recalcing pool.calc.behavior.correct_count: OA26 170327 4\n",
      "Recalcing pool.calc.behavior.trial_count: OA26 170327 4\n",
      "Recalcing pool.calc.behavior.incorrect_count: OA26 170327 4\n",
      "Recalcing pool.calc.behavior.trial_count: OA26 170327 4\n",
      "Recalcing pool.calc.behavior.incorrect_count: OA26 170327 4\n",
      "Recalcing pool.calc.behavior.trial_count: OA26 170327 4\n",
      "Recalcing pool.calc.behavior.correct_count: OA26 170327 5\n",
      "Recalcing pool.calc.behavior.trial_count: OA26 170327 5\n",
      "Recalcing pool.calc.behavior.incorrect_count: OA26 170327 5\n",
      "Recalcing pool.calc.behavior.trial_count: OA26 170327 5\n",
      "Recalcing pool.calc.behavior.incorrect_count: OA26 170327 5\n",
      "Recalcing pool.calc.behavior.trial_count: OA26 170327 5\n",
      "old bias:  0.5150066786304686\n",
      "new bias:  0.3587278369022203\n"
     ]
    },
    {
     "name": "stderr",
     "output_type": "stream",
     "text": [
      "/Users/kelly_mcguire/Documents/Code/cascade/cascade/bias.py:159: RuntimeWarning: All-NaN axis encountered\n",
      "  max_response = np.array([np.nanmax(s) for s in zip(*responses)])\n"
     ]
    },
    {
     "name": "stdout",
     "output_type": "stream",
     "text": [
      "Recalcing pool.calc.driven.visually: OA26 170328 \n",
      "Recalcing pool.calc.driven.visually: OA26 170328 \n",
      "Recalcing pool.calc.driven.visually: OA26 170328 \n",
      "Trace parameters hashed for df: dual\n",
      "Recalcing pool.calc.behavior.dprime: OA26 170328 \n",
      "Recalcing pool.calc.behavior.correct_count: OA26 170328 1\n",
      "Recalcing pool.calc.behavior.trial_count: OA26 170328 1\n",
      "Recalcing pool.calc.behavior.incorrect_count: OA26 170328 1\n",
      "Recalcing pool.calc.behavior.trial_count: OA26 170328 1\n",
      "Recalcing pool.calc.behavior.incorrect_count: OA26 170328 1\n",
      "Recalcing pool.calc.behavior.trial_count: OA26 170328 1\n",
      "Recalcing pool.calc.behavior.correct_count: OA26 170328 2\n",
      "Recalcing pool.calc.behavior.trial_count: OA26 170328 2\n",
      "Recalcing pool.calc.behavior.incorrect_count: OA26 170328 2\n",
      "Recalcing pool.calc.behavior.trial_count: OA26 170328 2\n",
      "Recalcing pool.calc.behavior.incorrect_count: OA26 170328 2\n",
      "Recalcing pool.calc.behavior.trial_count: OA26 170328 2\n",
      "Recalcing pool.calc.behavior.correct_count: OA26 170328 3\n",
      "Recalcing pool.calc.behavior.trial_count: OA26 170328 3\n",
      "Recalcing pool.calc.behavior.incorrect_count: OA26 170328 3\n",
      "Recalcing pool.calc.behavior.trial_count: OA26 170328 3\n",
      "Recalcing pool.calc.behavior.incorrect_count: OA26 170328 3\n",
      "Recalcing pool.calc.behavior.trial_count: OA26 170328 3\n",
      "Recalcing pool.calc.behavior.correct_count: OA26 170328 4\n",
      "Recalcing pool.calc.behavior.trial_count: OA26 170328 4\n",
      "Recalcing pool.calc.behavior.incorrect_count: OA26 170328 4\n",
      "Recalcing pool.calc.behavior.trial_count: OA26 170328 4\n",
      "Recalcing pool.calc.behavior.incorrect_count: OA26 170328 4\n",
      "Recalcing pool.calc.behavior.trial_count: OA26 170328 4\n",
      "old bias:  0.4868621150978475\n",
      "new bias:  0.3099433644139086\n"
     ]
    },
    {
     "name": "stderr",
     "output_type": "stream",
     "text": [
      "/Users/kelly_mcguire/Documents/Code/cascade/cascade/bias.py:159: RuntimeWarning: All-NaN axis encountered\n",
      "  max_response = np.array([np.nanmax(s) for s in zip(*responses)])\n"
     ]
    },
    {
     "name": "stdout",
     "output_type": "stream",
     "text": [
      "Recalcing pool.calc.driven.visually: OA26 170330 \n",
      "Recalcing pool.calc.driven.visually: OA26 170330 \n",
      "Recalcing pool.calc.driven.visually: OA26 170330 \n",
      "Trace parameters hashed for df: dual\n",
      "Recalcing pool.calc.behavior.dprime: OA26 170330 \n",
      "Recalcing pool.calc.behavior.correct_count: OA26 170330 1\n",
      "Recalcing pool.calc.behavior.trial_count: OA26 170330 1\n",
      "Recalcing pool.calc.behavior.incorrect_count: OA26 170330 1\n",
      "Recalcing pool.calc.behavior.trial_count: OA26 170330 1\n",
      "Recalcing pool.calc.behavior.incorrect_count: OA26 170330 1\n",
      "Recalcing pool.calc.behavior.trial_count: OA26 170330 1\n",
      "Recalcing pool.calc.behavior.correct_count: OA26 170330 2\n",
      "Recalcing pool.calc.behavior.trial_count: OA26 170330 2\n",
      "Recalcing pool.calc.behavior.incorrect_count: OA26 170330 2\n",
      "Recalcing pool.calc.behavior.trial_count: OA26 170330 2\n",
      "Recalcing pool.calc.behavior.incorrect_count: OA26 170330 2\n",
      "Recalcing pool.calc.behavior.trial_count: OA26 170330 2\n",
      "Recalcing pool.calc.behavior.correct_count: OA26 170330 3\n",
      "Recalcing pool.calc.behavior.trial_count: OA26 170330 3\n",
      "Recalcing pool.calc.behavior.incorrect_count: OA26 170330 3\n",
      "Recalcing pool.calc.behavior.trial_count: OA26 170330 3\n",
      "Recalcing pool.calc.behavior.incorrect_count: OA26 170330 3\n",
      "Recalcing pool.calc.behavior.trial_count: OA26 170330 3\n",
      "Recalcing pool.calc.behavior.correct_count: OA26 170330 4\n",
      "Recalcing pool.calc.behavior.trial_count: OA26 170330 4\n",
      "Recalcing pool.calc.behavior.incorrect_count: OA26 170330 4\n",
      "Recalcing pool.calc.behavior.trial_count: OA26 170330 4\n",
      "Recalcing pool.calc.behavior.incorrect_count: OA26 170330 4\n",
      "Recalcing pool.calc.behavior.trial_count: OA26 170330 4\n",
      "old bias:  0.5235749056233727\n",
      "new bias:  0.33315964548459714\n"
     ]
    },
    {
     "name": "stderr",
     "output_type": "stream",
     "text": [
      "/Users/kelly_mcguire/Documents/Code/cascade/cascade/bias.py:159: RuntimeWarning: All-NaN axis encountered\n",
      "  max_response = np.array([np.nanmax(s) for s in zip(*responses)])\n"
     ]
    },
    {
     "name": "stdout",
     "output_type": "stream",
     "text": [
      "Recalcing pool.calc.driven.visually: OA26 170401 \n",
      "Recalcing pool.calc.driven.visually: OA26 170401 \n",
      "Recalcing pool.calc.driven.visually: OA26 170401 \n",
      "Trace parameters hashed for df: dual\n",
      "Recalcing pool.calc.behavior.dprime: OA26 170401 \n",
      "Recalcing pool.calc.behavior.correct_count: OA26 170401 1\n",
      "Recalcing pool.calc.behavior.trial_count: OA26 170401 1\n",
      "Recalcing pool.calc.behavior.incorrect_count: OA26 170401 1\n",
      "Recalcing pool.calc.behavior.trial_count: OA26 170401 1\n",
      "Recalcing pool.calc.behavior.incorrect_count: OA26 170401 1\n",
      "Recalcing pool.calc.behavior.trial_count: OA26 170401 1\n",
      "Recalcing pool.calc.behavior.correct_count: OA26 170401 2\n",
      "Recalcing pool.calc.behavior.trial_count: OA26 170401 2\n",
      "Recalcing pool.calc.behavior.incorrect_count: OA26 170401 2\n",
      "Recalcing pool.calc.behavior.trial_count: OA26 170401 2\n",
      "Recalcing pool.calc.behavior.incorrect_count: OA26 170401 2\n",
      "Recalcing pool.calc.behavior.trial_count: OA26 170401 2\n",
      "Recalcing pool.calc.behavior.correct_count: OA26 170401 3\n",
      "Recalcing pool.calc.behavior.trial_count: OA26 170401 3\n",
      "Recalcing pool.calc.behavior.incorrect_count: OA26 170401 3\n",
      "Recalcing pool.calc.behavior.trial_count: OA26 170401 3\n",
      "Recalcing pool.calc.behavior.incorrect_count: OA26 170401 3\n",
      "Recalcing pool.calc.behavior.trial_count: OA26 170401 3\n",
      "Recalcing pool.calc.behavior.correct_count: OA26 170401 4\n",
      "Recalcing pool.calc.behavior.trial_count: OA26 170401 4\n",
      "Recalcing pool.calc.behavior.incorrect_count: OA26 170401 4\n",
      "Recalcing pool.calc.behavior.trial_count: OA26 170401 4\n",
      "Recalcing pool.calc.behavior.incorrect_count: OA26 170401 4\n",
      "Recalcing pool.calc.behavior.trial_count: OA26 170401 4\n",
      "old bias:  0.6126988713002126\n",
      "new bias:  0.3298632444032039\n"
     ]
    },
    {
     "name": "stderr",
     "output_type": "stream",
     "text": [
      "/Users/kelly_mcguire/Documents/Code/cascade/cascade/bias.py:159: RuntimeWarning: All-NaN axis encountered\n",
      "  max_response = np.array([np.nanmax(s) for s in zip(*responses)])\n"
     ]
    },
    {
     "name": "stdout",
     "output_type": "stream",
     "text": [
      "Recalcing pool.calc.driven.visually: OA26 170402 \n",
      "Recalcing pool.calc.driven.visually: OA26 170402 \n",
      "Recalcing pool.calc.driven.visually: OA26 170402 \n",
      "Trace parameters hashed for df: dual\n",
      "Recalcing pool.calc.behavior.dprime: OA26 170402 \n",
      "Recalcing pool.calc.behavior.correct_count: OA26 170402 1\n",
      "Recalcing pool.calc.behavior.trial_count: OA26 170402 1\n",
      "Recalcing pool.calc.behavior.incorrect_count: OA26 170402 1\n",
      "Recalcing pool.calc.behavior.trial_count: OA26 170402 1\n",
      "Recalcing pool.calc.behavior.incorrect_count: OA26 170402 1\n",
      "Recalcing pool.calc.behavior.trial_count: OA26 170402 1\n",
      "Recalcing pool.calc.behavior.correct_count: OA26 170402 2\n",
      "Recalcing pool.calc.behavior.trial_count: OA26 170402 2\n",
      "Recalcing pool.calc.behavior.incorrect_count: OA26 170402 2\n",
      "Recalcing pool.calc.behavior.trial_count: OA26 170402 2\n",
      "Recalcing pool.calc.behavior.incorrect_count: OA26 170402 2\n",
      "Recalcing pool.calc.behavior.trial_count: OA26 170402 2\n",
      "Recalcing pool.calc.behavior.correct_count: OA26 170402 3\n",
      "Recalcing pool.calc.behavior.trial_count: OA26 170402 3\n",
      "Recalcing pool.calc.behavior.incorrect_count: OA26 170402 3\n",
      "Recalcing pool.calc.behavior.trial_count: OA26 170402 3\n",
      "Recalcing pool.calc.behavior.incorrect_count: OA26 170402 3\n",
      "Recalcing pool.calc.behavior.trial_count: OA26 170402 3\n",
      "old bias:  0.6119867154867434\n",
      "new bias:  0.39561093703497485\n"
     ]
    },
    {
     "name": "stderr",
     "output_type": "stream",
     "text": [
      "/Users/kelly_mcguire/Documents/Code/cascade/cascade/bias.py:159: RuntimeWarning: All-NaN axis encountered\n",
      "  max_response = np.array([np.nanmax(s) for s in zip(*responses)])\n"
     ]
    },
    {
     "name": "stdout",
     "output_type": "stream",
     "text": [
      "Recalcing pool.calc.driven.visually: OA26 170403 \n",
      "Recalcing pool.calc.driven.visually: OA26 170403 \n",
      "Recalcing pool.calc.driven.visually: OA26 170403 \n",
      "Trace parameters hashed for df: dual\n",
      "Recalcing pool.calc.behavior.dprime: OA26 170403 \n",
      "Recalcing pool.calc.behavior.correct_count: OA26 170403 1\n",
      "Recalcing pool.calc.behavior.trial_count: OA26 170403 1\n",
      "Recalcing pool.calc.behavior.incorrect_count: OA26 170403 1\n",
      "Recalcing pool.calc.behavior.trial_count: OA26 170403 1\n",
      "Recalcing pool.calc.behavior.incorrect_count: OA26 170403 1\n",
      "Recalcing pool.calc.behavior.trial_count: OA26 170403 1\n",
      "Recalcing pool.calc.behavior.correct_count: OA26 170403 2\n",
      "Recalcing pool.calc.behavior.trial_count: OA26 170403 2\n",
      "Recalcing pool.calc.behavior.incorrect_count: OA26 170403 2\n",
      "Recalcing pool.calc.behavior.trial_count: OA26 170403 2\n",
      "Recalcing pool.calc.behavior.incorrect_count: OA26 170403 2\n",
      "Recalcing pool.calc.behavior.trial_count: OA26 170403 2\n",
      "Recalcing pool.calc.behavior.correct_count: OA26 170403 3\n",
      "Recalcing pool.calc.behavior.trial_count: OA26 170403 3\n",
      "Recalcing pool.calc.behavior.incorrect_count: OA26 170403 3\n",
      "Recalcing pool.calc.behavior.trial_count: OA26 170403 3\n",
      "Recalcing pool.calc.behavior.incorrect_count: OA26 170403 3\n",
      "Recalcing pool.calc.behavior.trial_count: OA26 170403 3\n",
      "Recalcing pool.calc.behavior.correct_count: OA26 170403 4\n",
      "Recalcing pool.calc.behavior.trial_count: OA26 170403 4\n",
      "Recalcing pool.calc.behavior.incorrect_count: OA26 170403 4\n",
      "Recalcing pool.calc.behavior.trial_count: OA26 170403 4\n",
      "Recalcing pool.calc.behavior.incorrect_count: OA26 170403 4\n",
      "Recalcing pool.calc.behavior.trial_count: OA26 170403 4\n",
      "Recalcing pool.calc.behavior.correct_count: OA26 170403 5\n",
      "Recalcing pool.calc.behavior.trial_count: OA26 170403 5\n",
      "Recalcing pool.calc.behavior.incorrect_count: OA26 170403 5\n",
      "Recalcing pool.calc.behavior.trial_count: OA26 170403 5\n",
      "Recalcing pool.calc.behavior.incorrect_count: OA26 170403 5\n",
      "Recalcing pool.calc.behavior.trial_count: OA26 170403 5\n",
      "old bias:  0.5645067701522846\n",
      "new bias:  0.400758171700787\n"
     ]
    },
    {
     "name": "stderr",
     "output_type": "stream",
     "text": [
      "/Users/kelly_mcguire/Documents/Code/cascade/cascade/bias.py:159: RuntimeWarning: All-NaN axis encountered\n",
      "  max_response = np.array([np.nanmax(s) for s in zip(*responses)])\n"
     ]
    },
    {
     "name": "stdout",
     "output_type": "stream",
     "text": [
      "Recalcing pool.calc.driven.visually: OA26 170404 \n",
      "Recalcing pool.calc.driven.visually: OA26 170404 \n",
      "Recalcing pool.calc.driven.visually: OA26 170404 \n",
      "Trace parameters hashed for df: dual\n",
      "Recalcing pool.calc.behavior.dprime: OA26 170404 \n",
      "Recalcing pool.calc.behavior.correct_count: OA26 170404 1\n",
      "Recalcing pool.calc.behavior.trial_count: OA26 170404 1\n",
      "Recalcing pool.calc.behavior.incorrect_count: OA26 170404 1\n",
      "Recalcing pool.calc.behavior.trial_count: OA26 170404 1\n",
      "Recalcing pool.calc.behavior.incorrect_count: OA26 170404 1\n",
      "Recalcing pool.calc.behavior.trial_count: OA26 170404 1\n",
      "Recalcing pool.calc.behavior.correct_count: OA26 170404 2\n",
      "Recalcing pool.calc.behavior.trial_count: OA26 170404 2\n",
      "Recalcing pool.calc.behavior.incorrect_count: OA26 170404 2\n",
      "Recalcing pool.calc.behavior.trial_count: OA26 170404 2\n",
      "Recalcing pool.calc.behavior.incorrect_count: OA26 170404 2\n",
      "Recalcing pool.calc.behavior.trial_count: OA26 170404 2\n",
      "Recalcing pool.calc.behavior.correct_count: OA26 170404 3\n",
      "Recalcing pool.calc.behavior.trial_count: OA26 170404 3\n",
      "Recalcing pool.calc.behavior.incorrect_count: OA26 170404 3\n",
      "Recalcing pool.calc.behavior.trial_count: OA26 170404 3\n",
      "Recalcing pool.calc.behavior.incorrect_count: OA26 170404 3\n",
      "Recalcing pool.calc.behavior.trial_count: OA26 170404 3\n",
      "Recalcing pool.calc.behavior.correct_count: OA26 170404 4\n",
      "Recalcing pool.calc.behavior.trial_count: OA26 170404 4\n",
      "Recalcing pool.calc.behavior.incorrect_count: OA26 170404 4\n",
      "Recalcing pool.calc.behavior.trial_count: OA26 170404 4\n",
      "Recalcing pool.calc.behavior.incorrect_count: OA26 170404 4\n",
      "Recalcing pool.calc.behavior.trial_count: OA26 170404 4\n",
      "old bias:  0.6865153702937965\n",
      "new bias:  0.4667112135712507\n"
     ]
    },
    {
     "name": "stderr",
     "output_type": "stream",
     "text": [
      "/Users/kelly_mcguire/Documents/Code/cascade/cascade/bias.py:159: RuntimeWarning: All-NaN axis encountered\n",
      "  max_response = np.array([np.nanmax(s) for s in zip(*responses)])\n"
     ]
    },
    {
     "name": "stdout",
     "output_type": "stream",
     "text": [
      "Recalcing pool.calc.driven.visually: OA26 170405 \n",
      "Recalcing pool.calc.driven.visually: OA26 170405 \n",
      "Recalcing pool.calc.driven.visually: OA26 170405 \n",
      "Trace parameters hashed for df: dual\n",
      "Recalcing pool.calc.behavior.dprime: OA26 170405 \n",
      "Recalcing pool.calc.behavior.correct_count: OA26 170405 1\n",
      "Recalcing pool.calc.behavior.trial_count: OA26 170405 1\n",
      "Recalcing pool.calc.behavior.incorrect_count: OA26 170405 1\n",
      "Recalcing pool.calc.behavior.trial_count: OA26 170405 1\n",
      "Recalcing pool.calc.behavior.incorrect_count: OA26 170405 1\n",
      "Recalcing pool.calc.behavior.trial_count: OA26 170405 1\n",
      "Recalcing pool.calc.behavior.correct_count: OA26 170405 2\n",
      "Recalcing pool.calc.behavior.trial_count: OA26 170405 2\n",
      "Recalcing pool.calc.behavior.incorrect_count: OA26 170405 2\n",
      "Recalcing pool.calc.behavior.trial_count: OA26 170405 2\n",
      "Recalcing pool.calc.behavior.incorrect_count: OA26 170405 2\n",
      "Recalcing pool.calc.behavior.trial_count: OA26 170405 2\n",
      "old bias:  0.5363502970322195\n",
      "new bias:  0.4040483549288371\n"
     ]
    },
    {
     "name": "stderr",
     "output_type": "stream",
     "text": [
      "/Users/kelly_mcguire/Documents/Code/cascade/cascade/bias.py:159: RuntimeWarning: All-NaN axis encountered\n",
      "  max_response = np.array([np.nanmax(s) for s in zip(*responses)])\n"
     ]
    },
    {
     "name": "stdout",
     "output_type": "stream",
     "text": [
      "Recalcing pool.calc.driven.visually: OA26 170412 \n",
      "Recalcing pool.calc.driven.visually: OA26 170412 \n",
      "Recalcing pool.calc.driven.visually: OA26 170412 \n",
      "Trace parameters hashed for df: dual\n",
      "Recalcing pool.calc.behavior.dprime: OA26 170412 \n",
      "Recalcing pool.calc.behavior.correct_count: OA26 170412 2\n",
      "Recalcing pool.calc.behavior.trial_count: OA26 170412 2\n",
      "Recalcing pool.calc.behavior.incorrect_count: OA26 170412 2\n",
      "Recalcing pool.calc.behavior.trial_count: OA26 170412 2\n",
      "Recalcing pool.calc.behavior.incorrect_count: OA26 170412 2\n",
      "Recalcing pool.calc.behavior.trial_count: OA26 170412 2\n",
      "old bias:  0.5574218952468324\n",
      "new bias:  0.3500290951380564\n",
      "Recalcing pool.calc.driven.visually: OA26 170424 \n"
     ]
    },
    {
     "name": "stderr",
     "output_type": "stream",
     "text": [
      "/Users/kelly_mcguire/Documents/Code/cascade/cascade/bias.py:159: RuntimeWarning: All-NaN axis encountered\n",
      "  max_response = np.array([np.nanmax(s) for s in zip(*responses)])\n"
     ]
    },
    {
     "name": "stdout",
     "output_type": "stream",
     "text": [
      "Recalcing pool.calc.driven.visually: OA26 170424 \n",
      "Recalcing pool.calc.driven.visually: OA26 170424 \n",
      "Trace parameters hashed for df: dual\n",
      "Recalcing pool.calc.behavior.dprime: OA26 170424 \n",
      "Recalcing pool.calc.behavior.correct_count: OA26 170424 1\n",
      "Recalcing pool.calc.behavior.trial_count: OA26 170424 1\n",
      "Recalcing pool.calc.behavior.incorrect_count: OA26 170424 1\n",
      "Recalcing pool.calc.behavior.trial_count: OA26 170424 1\n",
      "Recalcing pool.calc.behavior.incorrect_count: OA26 170424 1\n",
      "Recalcing pool.calc.behavior.trial_count: OA26 170424 1\n",
      "Recalcing pool.calc.behavior.correct_count: OA26 170424 2\n",
      "Recalcing pool.calc.behavior.trial_count: OA26 170424 2\n",
      "Recalcing pool.calc.behavior.incorrect_count: OA26 170424 2\n",
      "Recalcing pool.calc.behavior.trial_count: OA26 170424 2\n",
      "Recalcing pool.calc.behavior.incorrect_count: OA26 170424 2\n",
      "Recalcing pool.calc.behavior.trial_count: OA26 170424 2\n",
      "old bias:  0.6802610610687356\n",
      "new bias:  0.44350202887762014\n"
     ]
    },
    {
     "name": "stderr",
     "output_type": "stream",
     "text": [
      "/Users/kelly_mcguire/Documents/Code/cascade/cascade/bias.py:159: RuntimeWarning: All-NaN axis encountered\n",
      "  max_response = np.array([np.nanmax(s) for s in zip(*responses)])\n"
     ]
    },
    {
     "name": "stdout",
     "output_type": "stream",
     "text": [
      "Recalcing pool.calc.driven.visually: OA26 170425 \n",
      "Recalcing pool.calc.driven.visually: OA26 170425 \n",
      "Recalcing pool.calc.driven.visually: OA26 170425 \n",
      "Trace parameters hashed for df: dual\n",
      "Recalcing pool.calc.behavior.dprime: OA26 170425 \n",
      "Recalcing pool.calc.behavior.correct_count: OA26 170425 1\n",
      "Recalcing pool.calc.behavior.trial_count: OA26 170425 1\n",
      "Recalcing pool.calc.behavior.incorrect_count: OA26 170425 1\n",
      "Recalcing pool.calc.behavior.trial_count: OA26 170425 1\n",
      "Recalcing pool.calc.behavior.incorrect_count: OA26 170425 1\n",
      "Recalcing pool.calc.behavior.trial_count: OA26 170425 1\n",
      "Recalcing pool.calc.behavior.correct_count: OA26 170425 2\n",
      "Recalcing pool.calc.behavior.trial_count: OA26 170425 2\n",
      "Recalcing pool.calc.behavior.incorrect_count: OA26 170425 2\n",
      "Recalcing pool.calc.behavior.trial_count: OA26 170425 2\n",
      "Recalcing pool.calc.behavior.incorrect_count: OA26 170425 2\n",
      "Recalcing pool.calc.behavior.trial_count: OA26 170425 2\n",
      "Recalcing pool.calc.behavior.correct_count: OA26 170425 3\n",
      "Recalcing pool.calc.behavior.trial_count: OA26 170425 3\n",
      "Recalcing pool.calc.behavior.incorrect_count: OA26 170425 3\n",
      "Recalcing pool.calc.behavior.trial_count: OA26 170425 3\n",
      "Recalcing pool.calc.behavior.incorrect_count: OA26 170425 3\n",
      "Recalcing pool.calc.behavior.trial_count: OA26 170425 3\n",
      "Recalcing pool.calc.behavior.correct_count: OA26 170425 4\n",
      "Recalcing pool.calc.behavior.trial_count: OA26 170425 4\n",
      "Recalcing pool.calc.behavior.incorrect_count: OA26 170425 4\n",
      "Recalcing pool.calc.behavior.trial_count: OA26 170425 4\n",
      "Recalcing pool.calc.behavior.incorrect_count: OA26 170425 4\n",
      "Recalcing pool.calc.behavior.trial_count: OA26 170425 4\n",
      "Recalcing pool.calc.behavior.correct_count: OA26 170425 5\n",
      "Recalcing pool.calc.behavior.trial_count: OA26 170425 5\n",
      "Recalcing pool.calc.behavior.incorrect_count: OA26 170425 5\n",
      "Recalcing pool.calc.behavior.trial_count: OA26 170425 5\n",
      "Recalcing pool.calc.behavior.incorrect_count: OA26 170425 5\n",
      "Recalcing pool.calc.behavior.trial_count: OA26 170425 5\n",
      "Recalcing pool.calc.behavior.correct_count: OA26 170425 6\n",
      "Recalcing pool.calc.behavior.trial_count: OA26 170425 6\n",
      "Recalcing pool.calc.behavior.incorrect_count: OA26 170425 6\n",
      "Recalcing pool.calc.behavior.trial_count: OA26 170425 6\n",
      "Recalcing pool.calc.behavior.incorrect_count: OA26 170425 6\n",
      "Recalcing pool.calc.behavior.trial_count: OA26 170425 6\n",
      "old bias:  0.5709123415914784\n",
      "new bias:  0.36884269489133054\n"
     ]
    },
    {
     "name": "stderr",
     "output_type": "stream",
     "text": [
      "/Users/kelly_mcguire/Documents/Code/cascade/cascade/bias.py:159: RuntimeWarning: All-NaN axis encountered\n",
      "  max_response = np.array([np.nanmax(s) for s in zip(*responses)])\n"
     ]
    },
    {
     "name": "stdout",
     "output_type": "stream",
     "text": [
      "Recalcing pool.calc.driven.visually: OA26 170426 \n",
      "Recalcing pool.calc.driven.visually: OA26 170426 \n",
      "Recalcing pool.calc.driven.visually: OA26 170426 \n",
      "Trace parameters hashed for df: dual\n",
      "Recalcing pool.calc.behavior.dprime: OA26 170426 \n",
      "Recalcing pool.calc.behavior.correct_count: OA26 170426 2\n",
      "Recalcing pool.calc.behavior.trial_count: OA26 170426 2\n",
      "Recalcing pool.calc.behavior.incorrect_count: OA26 170426 2\n",
      "Recalcing pool.calc.behavior.trial_count: OA26 170426 2\n",
      "Recalcing pool.calc.behavior.incorrect_count: OA26 170426 2\n",
      "Recalcing pool.calc.behavior.trial_count: OA26 170426 2\n",
      "Recalcing pool.calc.behavior.correct_count: OA26 170426 3\n",
      "Recalcing pool.calc.behavior.trial_count: OA26 170426 3\n",
      "Recalcing pool.calc.behavior.incorrect_count: OA26 170426 3\n",
      "Recalcing pool.calc.behavior.trial_count: OA26 170426 3\n",
      "Recalcing pool.calc.behavior.incorrect_count: OA26 170426 3\n",
      "Recalcing pool.calc.behavior.trial_count: OA26 170426 3\n",
      "Recalcing pool.calc.behavior.correct_count: OA26 170426 4\n",
      "Recalcing pool.calc.behavior.trial_count: OA26 170426 4\n",
      "Recalcing pool.calc.behavior.incorrect_count: OA26 170426 4\n",
      "Recalcing pool.calc.behavior.trial_count: OA26 170426 4\n",
      "Recalcing pool.calc.behavior.incorrect_count: OA26 170426 4\n",
      "Recalcing pool.calc.behavior.trial_count: OA26 170426 4\n",
      "Recalcing pool.calc.behavior.correct_count: OA26 170426 5\n",
      "Recalcing pool.calc.behavior.trial_count: OA26 170426 5\n",
      "Recalcing pool.calc.behavior.incorrect_count: OA26 170426 5\n",
      "Recalcing pool.calc.behavior.trial_count: OA26 170426 5\n",
      "Recalcing pool.calc.behavior.incorrect_count: OA26 170426 5\n",
      "Recalcing pool.calc.behavior.trial_count: OA26 170426 5\n",
      "old bias:  0.4317488656897623\n",
      "new bias:  0.3079319070988045\n"
     ]
    },
    {
     "name": "stderr",
     "output_type": "stream",
     "text": [
      "/Users/kelly_mcguire/Documents/Code/cascade/cascade/bias.py:159: RuntimeWarning: All-NaN axis encountered\n",
      "  max_response = np.array([np.nanmax(s) for s in zip(*responses)])\n"
     ]
    },
    {
     "name": "stdout",
     "output_type": "stream",
     "text": [
      "Recalcing pool.calc.driven.visually: OA26 170427 \n",
      "Recalcing pool.calc.driven.visually: OA26 170427 \n",
      "Recalcing pool.calc.driven.visually: OA26 170427 \n",
      "Trace parameters hashed for df: dual\n",
      "Recalcing pool.calc.behavior.dprime: OA26 170427 \n",
      "Recalcing pool.calc.behavior.correct_count: OA26 170427 1\n",
      "Recalcing pool.calc.behavior.trial_count: OA26 170427 1\n",
      "Recalcing pool.calc.behavior.incorrect_count: OA26 170427 1\n",
      "Recalcing pool.calc.behavior.trial_count: OA26 170427 1\n",
      "Recalcing pool.calc.behavior.incorrect_count: OA26 170427 1\n",
      "Recalcing pool.calc.behavior.trial_count: OA26 170427 1\n",
      "Recalcing pool.calc.behavior.correct_count: OA26 170427 2\n",
      "Recalcing pool.calc.behavior.trial_count: OA26 170427 2\n",
      "Recalcing pool.calc.behavior.incorrect_count: OA26 170427 2\n",
      "Recalcing pool.calc.behavior.trial_count: OA26 170427 2\n",
      "Recalcing pool.calc.behavior.incorrect_count: OA26 170427 2\n",
      "Recalcing pool.calc.behavior.trial_count: OA26 170427 2\n",
      "Recalcing pool.calc.behavior.correct_count: OA26 170427 3\n",
      "Recalcing pool.calc.behavior.trial_count: OA26 170427 3\n",
      "Recalcing pool.calc.behavior.incorrect_count: OA26 170427 3\n",
      "Recalcing pool.calc.behavior.trial_count: OA26 170427 3\n",
      "Recalcing pool.calc.behavior.incorrect_count: OA26 170427 3\n",
      "Recalcing pool.calc.behavior.trial_count: OA26 170427 3\n",
      "Recalcing pool.calc.behavior.correct_count: OA26 170427 4\n",
      "Recalcing pool.calc.behavior.trial_count: OA26 170427 4\n",
      "Recalcing pool.calc.behavior.incorrect_count: OA26 170427 4\n",
      "Recalcing pool.calc.behavior.trial_count: OA26 170427 4\n",
      "Recalcing pool.calc.behavior.incorrect_count: OA26 170427 4\n",
      "Recalcing pool.calc.behavior.trial_count: OA26 170427 4\n",
      "Recalcing pool.calc.behavior.correct_count: OA26 170427 5\n",
      "Recalcing pool.calc.behavior.trial_count: OA26 170427 5\n",
      "Recalcing pool.calc.behavior.incorrect_count: OA26 170427 5\n",
      "Recalcing pool.calc.behavior.trial_count: OA26 170427 5\n",
      "Recalcing pool.calc.behavior.incorrect_count: OA26 170427 5\n",
      "Recalcing pool.calc.behavior.trial_count: OA26 170427 5\n",
      "old bias:  0.5352319845130202\n",
      "new bias:  0.39501776522701715\n"
     ]
    },
    {
     "name": "stderr",
     "output_type": "stream",
     "text": [
      "/Users/kelly_mcguire/Documents/Code/cascade/cascade/bias.py:159: RuntimeWarning: All-NaN axis encountered\n",
      "  max_response = np.array([np.nanmax(s) for s in zip(*responses)])\n"
     ]
    },
    {
     "name": "stdout",
     "output_type": "stream",
     "text": [
      "Recalcing pool.calc.driven.visually: OA26 170428 \n",
      "Recalcing pool.calc.driven.visually: OA26 170428 \n",
      "Recalcing pool.calc.driven.visually: OA26 170428 \n",
      "Trace parameters hashed for df: dual\n",
      "Recalcing pool.calc.behavior.dprime: OA26 170428 \n",
      "Recalcing pool.calc.behavior.correct_count: OA26 170428 1\n",
      "Recalcing pool.calc.behavior.trial_count: OA26 170428 1\n",
      "Recalcing pool.calc.behavior.incorrect_count: OA26 170428 1\n",
      "Recalcing pool.calc.behavior.trial_count: OA26 170428 1\n",
      "Recalcing pool.calc.behavior.incorrect_count: OA26 170428 1\n",
      "Recalcing pool.calc.behavior.trial_count: OA26 170428 1\n",
      "Recalcing pool.calc.behavior.correct_count: OA26 170428 2\n",
      "Recalcing pool.calc.behavior.trial_count: OA26 170428 2\n",
      "Recalcing pool.calc.behavior.incorrect_count: OA26 170428 2\n",
      "Recalcing pool.calc.behavior.trial_count: OA26 170428 2\n",
      "Recalcing pool.calc.behavior.incorrect_count: OA26 170428 2\n",
      "Recalcing pool.calc.behavior.trial_count: OA26 170428 2\n",
      "Recalcing pool.calc.behavior.correct_count: OA26 170428 3\n",
      "Recalcing pool.calc.behavior.trial_count: OA26 170428 3\n",
      "Recalcing pool.calc.behavior.incorrect_count: OA26 170428 3\n",
      "Recalcing pool.calc.behavior.trial_count: OA26 170428 3\n",
      "Recalcing pool.calc.behavior.incorrect_count: OA26 170428 3\n",
      "Recalcing pool.calc.behavior.trial_count: OA26 170428 3\n",
      "old bias:  0.565066140236593\n",
      "new bias:  0.3676585873933895\n"
     ]
    },
    {
     "name": "stderr",
     "output_type": "stream",
     "text": [
      "/Users/kelly_mcguire/Documents/Code/cascade/cascade/bias.py:159: RuntimeWarning: All-NaN axis encountered\n",
      "  max_response = np.array([np.nanmax(s) for s in zip(*responses)])\n"
     ]
    },
    {
     "name": "stdout",
     "output_type": "stream",
     "text": [
      "Recalcing pool.calc.driven.visually: OA26 170501 \n",
      "Recalcing pool.calc.driven.visually: OA26 170501 \n",
      "Recalcing pool.calc.driven.visually: OA26 170501 \n",
      "Trace parameters hashed for df: dual\n",
      "Recalcing pool.calc.behavior.dprime: OA26 170501 \n",
      "Recalcing pool.calc.behavior.correct_count: OA26 170501 1\n",
      "Recalcing pool.calc.behavior.trial_count: OA26 170501 1\n",
      "Recalcing pool.calc.behavior.incorrect_count: OA26 170501 1\n",
      "Recalcing pool.calc.behavior.trial_count: OA26 170501 1\n",
      "Recalcing pool.calc.behavior.incorrect_count: OA26 170501 1\n",
      "Recalcing pool.calc.behavior.trial_count: OA26 170501 1\n",
      "Recalcing pool.calc.behavior.correct_count: OA26 170501 2\n",
      "Recalcing pool.calc.behavior.trial_count: OA26 170501 2\n",
      "Recalcing pool.calc.behavior.incorrect_count: OA26 170501 2\n",
      "Recalcing pool.calc.behavior.trial_count: OA26 170501 2\n",
      "Recalcing pool.calc.behavior.incorrect_count: OA26 170501 2\n",
      "Recalcing pool.calc.behavior.trial_count: OA26 170501 2\n",
      "old bias:  0.6027020313808056\n",
      "new bias:  0.4465033729546297\n",
      "Recalcing pool.calc.driven.visually: OA26 170502 \n"
     ]
    },
    {
     "name": "stderr",
     "output_type": "stream",
     "text": [
      "/Users/kelly_mcguire/Documents/Code/cascade/cascade/bias.py:159: RuntimeWarning: All-NaN axis encountered\n",
      "  max_response = np.array([np.nanmax(s) for s in zip(*responses)])\n"
     ]
    },
    {
     "name": "stdout",
     "output_type": "stream",
     "text": [
      "Recalcing pool.calc.driven.visually: OA26 170502 \n",
      "Recalcing pool.calc.driven.visually: OA26 170502 \n",
      "Trace parameters hashed for df: dual\n",
      "Recalcing pool.calc.behavior.dprime: OA26 170502 \n",
      "Recalcing pool.calc.behavior.correct_count: OA26 170502 2\n",
      "Recalcing pool.calc.behavior.trial_count: OA26 170502 2\n",
      "Recalcing pool.calc.behavior.incorrect_count: OA26 170502 2\n",
      "Recalcing pool.calc.behavior.trial_count: OA26 170502 2\n",
      "Recalcing pool.calc.behavior.incorrect_count: OA26 170502 2\n",
      "Recalcing pool.calc.behavior.trial_count: OA26 170502 2\n",
      "Recalcing pool.calc.behavior.correct_count: OA26 170502 3\n",
      "Recalcing pool.calc.behavior.trial_count: OA26 170502 3\n",
      "Recalcing pool.calc.behavior.incorrect_count: OA26 170502 3\n",
      "Recalcing pool.calc.behavior.trial_count: OA26 170502 3\n",
      "Recalcing pool.calc.behavior.incorrect_count: OA26 170502 3\n",
      "Recalcing pool.calc.behavior.trial_count: OA26 170502 3\n",
      "Recalcing pool.calc.behavior.correct_count: OA26 170502 4\n",
      "Recalcing pool.calc.behavior.trial_count: OA26 170502 4\n",
      "Recalcing pool.calc.behavior.incorrect_count: OA26 170502 4\n",
      "Recalcing pool.calc.behavior.trial_count: OA26 170502 4\n",
      "Recalcing pool.calc.behavior.incorrect_count: OA26 170502 4\n",
      "Recalcing pool.calc.behavior.trial_count: OA26 170502 4\n",
      "Recalcing pool.calc.behavior.correct_count: OA26 170502 5\n",
      "Recalcing pool.calc.behavior.trial_count: OA26 170502 5\n",
      "Recalcing pool.calc.behavior.incorrect_count: OA26 170502 5\n",
      "Recalcing pool.calc.behavior.trial_count: OA26 170502 5\n",
      "Recalcing pool.calc.behavior.incorrect_count: OA26 170502 5\n",
      "Recalcing pool.calc.behavior.trial_count: OA26 170502 5\n",
      "old bias:  0.5809743556474826\n",
      "new bias:  0.4274512886701129\n"
     ]
    },
    {
     "name": "stderr",
     "output_type": "stream",
     "text": [
      "/Users/kelly_mcguire/Documents/Code/cascade/cascade/bias.py:159: RuntimeWarning: All-NaN axis encountered\n",
      "  max_response = np.array([np.nanmax(s) for s in zip(*responses)])\n"
     ]
    },
    {
     "name": "stdout",
     "output_type": "stream",
     "text": [
      "Recalcing pool.calc.driven.visually: OA26 170503 \n",
      "Recalcing pool.calc.driven.visually: OA26 170503 \n",
      "Recalcing pool.calc.driven.visually: OA26 170503 \n",
      "Trace parameters hashed for df: dual\n",
      "Recalcing pool.calc.behavior.dprime: OA26 170503 \n",
      "Recalcing pool.calc.behavior.correct_count: OA26 170503 4\n",
      "Recalcing pool.calc.behavior.trial_count: OA26 170503 4\n",
      "Recalcing pool.calc.behavior.incorrect_count: OA26 170503 4\n",
      "Recalcing pool.calc.behavior.trial_count: OA26 170503 4\n",
      "Recalcing pool.calc.behavior.incorrect_count: OA26 170503 4\n",
      "Recalcing pool.calc.behavior.trial_count: OA26 170503 4\n",
      "Recalcing pool.calc.behavior.correct_count: OA26 170503 5\n",
      "Recalcing pool.calc.behavior.trial_count: OA26 170503 5\n",
      "Recalcing pool.calc.behavior.incorrect_count: OA26 170503 5\n",
      "Recalcing pool.calc.behavior.trial_count: OA26 170503 5\n",
      "Recalcing pool.calc.behavior.incorrect_count: OA26 170503 5\n",
      "Recalcing pool.calc.behavior.trial_count: OA26 170503 5\n",
      "Recalcing pool.calc.behavior.correct_count: OA26 170503 6\n",
      "Recalcing pool.calc.behavior.trial_count: OA26 170503 6\n",
      "Recalcing pool.calc.behavior.incorrect_count: OA26 170503 6\n",
      "Recalcing pool.calc.behavior.trial_count: OA26 170503 6\n",
      "Recalcing pool.calc.behavior.incorrect_count: OA26 170503 6\n",
      "Recalcing pool.calc.behavior.trial_count: OA26 170503 6\n",
      "old bias:  0.5543931818488145\n",
      "new bias:  0.3104522881487693\n"
     ]
    },
    {
     "name": "stderr",
     "output_type": "stream",
     "text": [
      "/Users/kelly_mcguire/Documents/Code/cascade/cascade/bias.py:159: RuntimeWarning: All-NaN axis encountered\n",
      "  max_response = np.array([np.nanmax(s) for s in zip(*responses)])\n"
     ]
    },
    {
     "name": "stdout",
     "output_type": "stream",
     "text": [
      "Recalcing pool.calc.driven.visually: OA26 170505 \n",
      "Recalcing pool.calc.driven.visually: OA26 170505 \n",
      "Recalcing pool.calc.driven.visually: OA26 170505 \n",
      "Trace parameters hashed for df: dual\n",
      "Recalcing pool.calc.behavior.dprime: OA26 170505 \n",
      "Recalcing pool.calc.behavior.correct_count: OA26 170505 1\n",
      "Recalcing pool.calc.behavior.trial_count: OA26 170505 1\n",
      "Recalcing pool.calc.behavior.incorrect_count: OA26 170505 1\n",
      "Recalcing pool.calc.behavior.trial_count: OA26 170505 1\n",
      "Recalcing pool.calc.behavior.incorrect_count: OA26 170505 1\n",
      "Recalcing pool.calc.behavior.trial_count: OA26 170505 1\n",
      "Recalcing pool.calc.behavior.correct_count: OA26 170505 3\n",
      "Recalcing pool.calc.behavior.trial_count: OA26 170505 3\n",
      "Recalcing pool.calc.behavior.incorrect_count: OA26 170505 3\n",
      "Recalcing pool.calc.behavior.trial_count: OA26 170505 3\n",
      "Recalcing pool.calc.behavior.incorrect_count: OA26 170505 3\n",
      "Recalcing pool.calc.behavior.trial_count: OA26 170505 3\n",
      "Recalcing pool.calc.behavior.correct_count: OA26 170505 4\n",
      "Recalcing pool.calc.behavior.trial_count: OA26 170505 4\n",
      "Recalcing pool.calc.behavior.incorrect_count: OA26 170505 4\n",
      "Recalcing pool.calc.behavior.trial_count: OA26 170505 4\n",
      "Recalcing pool.calc.behavior.incorrect_count: OA26 170505 4\n",
      "Recalcing pool.calc.behavior.trial_count: OA26 170505 4\n",
      "old bias:  0.47694533111263426\n",
      "new bias:  0.35767495028188007\n"
     ]
    },
    {
     "name": "stderr",
     "output_type": "stream",
     "text": [
      "/Users/kelly_mcguire/Documents/Code/cascade/cascade/bias.py:159: RuntimeWarning: All-NaN axis encountered\n",
      "  max_response = np.array([np.nanmax(s) for s in zip(*responses)])\n"
     ]
    },
    {
     "name": "stdout",
     "output_type": "stream",
     "text": [
      "Recalcing pool.calc.driven.visually: OA26 170506 \n",
      "Recalcing pool.calc.driven.visually: OA26 170506 \n",
      "Recalcing pool.calc.driven.visually: OA26 170506 \n",
      "Trace parameters hashed for df: dual\n",
      "Recalcing pool.calc.behavior.dprime: OA26 170506 \n",
      "Recalcing pool.calc.behavior.correct_count: OA26 170506 1\n",
      "Recalcing pool.calc.behavior.trial_count: OA26 170506 1\n",
      "Recalcing pool.calc.behavior.incorrect_count: OA26 170506 1\n",
      "Recalcing pool.calc.behavior.trial_count: OA26 170506 1\n",
      "Recalcing pool.calc.behavior.incorrect_count: OA26 170506 1\n",
      "Recalcing pool.calc.behavior.trial_count: OA26 170506 1\n",
      "Recalcing pool.calc.behavior.correct_count: OA26 170506 2\n",
      "Recalcing pool.calc.behavior.trial_count: OA26 170506 2\n",
      "Recalcing pool.calc.behavior.incorrect_count: OA26 170506 2\n",
      "Recalcing pool.calc.behavior.trial_count: OA26 170506 2\n",
      "Recalcing pool.calc.behavior.incorrect_count: OA26 170506 2\n",
      "Recalcing pool.calc.behavior.trial_count: OA26 170506 2\n",
      "old bias:  0.5021384116463748\n",
      "new bias:  0.356403758995701\n",
      "Recalcing pool.calc.driven.visually: OA26 170507 \n"
     ]
    },
    {
     "name": "stderr",
     "output_type": "stream",
     "text": [
      "/Users/kelly_mcguire/Documents/Code/cascade/cascade/bias.py:159: RuntimeWarning: All-NaN axis encountered\n",
      "  max_response = np.array([np.nanmax(s) for s in zip(*responses)])\n"
     ]
    },
    {
     "name": "stdout",
     "output_type": "stream",
     "text": [
      "Recalcing pool.calc.driven.visually: OA26 170507 \n",
      "Recalcing pool.calc.driven.visually: OA26 170507 \n",
      "Trace parameters hashed for df: dual\n",
      "Recalcing pool.calc.behavior.dprime: OA26 170507 \n",
      "Recalcing pool.calc.behavior.correct_count: OA26 170507 1\n",
      "Recalcing pool.calc.behavior.trial_count: OA26 170507 1\n",
      "Recalcing pool.calc.behavior.incorrect_count: OA26 170507 1\n",
      "Recalcing pool.calc.behavior.trial_count: OA26 170507 1\n",
      "Recalcing pool.calc.behavior.incorrect_count: OA26 170507 1\n",
      "Recalcing pool.calc.behavior.trial_count: OA26 170507 1\n",
      "Recalcing pool.calc.behavior.correct_count: OA26 170507 2\n",
      "Recalcing pool.calc.behavior.trial_count: OA26 170507 2\n",
      "Recalcing pool.calc.behavior.incorrect_count: OA26 170507 2\n",
      "Recalcing pool.calc.behavior.trial_count: OA26 170507 2\n",
      "Recalcing pool.calc.behavior.incorrect_count: OA26 170507 2\n",
      "Recalcing pool.calc.behavior.trial_count: OA26 170507 2\n",
      "old bias:  0.5866604807827872\n",
      "new bias:  0.3756167994288616\n"
     ]
    },
    {
     "name": "stderr",
     "output_type": "stream",
     "text": [
      "/Users/kelly_mcguire/Documents/Code/cascade/cascade/bias.py:159: RuntimeWarning: All-NaN axis encountered\n",
      "  max_response = np.array([np.nanmax(s) for s in zip(*responses)])\n"
     ]
    },
    {
     "name": "stdout",
     "output_type": "stream",
     "text": [
      "Recalcing pool.calc.driven.visually: OA26 170508 \n",
      "Recalcing pool.calc.driven.visually: OA26 170508 \n",
      "Recalcing pool.calc.driven.visually: OA26 170508 \n",
      "Trace parameters hashed for df: dual\n",
      "Recalcing pool.calc.behavior.dprime: OA26 170508 \n",
      "Recalcing pool.calc.behavior.correct_count: OA26 170508 2\n",
      "Recalcing pool.calc.behavior.trial_count: OA26 170508 2\n",
      "Recalcing pool.calc.behavior.incorrect_count: OA26 170508 2\n",
      "Recalcing pool.calc.behavior.trial_count: OA26 170508 2\n",
      "Recalcing pool.calc.behavior.incorrect_count: OA26 170508 2\n",
      "Recalcing pool.calc.behavior.trial_count: OA26 170508 2\n",
      "Recalcing pool.calc.behavior.correct_count: OA26 170508 3\n",
      "Recalcing pool.calc.behavior.trial_count: OA26 170508 3\n",
      "Recalcing pool.calc.behavior.incorrect_count: OA26 170508 3\n",
      "Recalcing pool.calc.behavior.trial_count: OA26 170508 3\n",
      "Recalcing pool.calc.behavior.incorrect_count: OA26 170508 3\n",
      "Recalcing pool.calc.behavior.trial_count: OA26 170508 3\n",
      "Recalcing pool.calc.behavior.correct_count: OA26 170508 4\n",
      "Recalcing pool.calc.behavior.trial_count: OA26 170508 4\n",
      "Recalcing pool.calc.behavior.incorrect_count: OA26 170508 4\n",
      "Recalcing pool.calc.behavior.trial_count: OA26 170508 4\n",
      "Recalcing pool.calc.behavior.incorrect_count: OA26 170508 4\n",
      "Recalcing pool.calc.behavior.trial_count: OA26 170508 4\n",
      "old bias:  0.6601854026636822\n",
      "new bias:  0.37798700989348655\n"
     ]
    },
    {
     "name": "stderr",
     "output_type": "stream",
     "text": [
      "/Users/kelly_mcguire/Documents/Code/cascade/cascade/bias.py:159: RuntimeWarning: All-NaN axis encountered\n",
      "  max_response = np.array([np.nanmax(s) for s in zip(*responses)])\n"
     ]
    },
    {
     "name": "stdout",
     "output_type": "stream",
     "text": [
      "Recalcing pool.calc.driven.visually: OA26 170510 \n",
      "Recalcing pool.calc.driven.visually: OA26 170510 \n",
      "Recalcing pool.calc.driven.visually: OA26 170510 \n",
      "Trace parameters hashed for df: dual\n",
      "Recalcing pool.calc.behavior.dprime: OA26 170510 \n",
      "Recalcing pool.calc.behavior.correct_count: OA26 170510 1\n",
      "Recalcing pool.calc.behavior.trial_count: OA26 170510 1\n",
      "Recalcing pool.calc.behavior.incorrect_count: OA26 170510 1\n",
      "Recalcing pool.calc.behavior.trial_count: OA26 170510 1\n",
      "Recalcing pool.calc.behavior.incorrect_count: OA26 170510 1\n",
      "Recalcing pool.calc.behavior.trial_count: OA26 170510 1\n",
      "Recalcing pool.calc.behavior.correct_count: OA26 170510 2\n",
      "Recalcing pool.calc.behavior.trial_count: OA26 170510 2\n",
      "Recalcing pool.calc.behavior.incorrect_count: OA26 170510 2\n",
      "Recalcing pool.calc.behavior.trial_count: OA26 170510 2\n",
      "Recalcing pool.calc.behavior.incorrect_count: OA26 170510 2\n",
      "Recalcing pool.calc.behavior.trial_count: OA26 170510 2\n",
      "Recalcing pool.calc.behavior.correct_count: OA26 170510 3\n",
      "Recalcing pool.calc.behavior.trial_count: OA26 170510 3\n",
      "Recalcing pool.calc.behavior.incorrect_count: OA26 170510 3\n",
      "Recalcing pool.calc.behavior.trial_count: OA26 170510 3\n",
      "Recalcing pool.calc.behavior.incorrect_count: OA26 170510 3\n",
      "Recalcing pool.calc.behavior.trial_count: OA26 170510 3\n",
      "Recalcing pool.calc.behavior.correct_count: OA26 170510 4\n",
      "Recalcing pool.calc.behavior.trial_count: OA26 170510 4\n",
      "Recalcing pool.calc.behavior.incorrect_count: OA26 170510 4\n",
      "Recalcing pool.calc.behavior.trial_count: OA26 170510 4\n",
      "Recalcing pool.calc.behavior.incorrect_count: OA26 170510 4\n",
      "Recalcing pool.calc.behavior.trial_count: OA26 170510 4\n",
      "old bias:  0.6587224479471676\n",
      "new bias:  0.4628879455803668\n"
     ]
    },
    {
     "name": "stderr",
     "output_type": "stream",
     "text": [
      "/Users/kelly_mcguire/Documents/Code/cascade/cascade/bias.py:159: RuntimeWarning: All-NaN axis encountered\n",
      "  max_response = np.array([np.nanmax(s) for s in zip(*responses)])\n"
     ]
    },
    {
     "name": "stdout",
     "output_type": "stream",
     "text": [
      "Recalcing pool.calc.driven.visually: OA26 170511 \n",
      "Recalcing pool.calc.driven.visually: OA26 170511 \n",
      "Recalcing pool.calc.driven.visually: OA26 170511 \n",
      "Trace parameters hashed for df: dual\n",
      "Recalcing pool.calc.behavior.dprime: OA26 170511 \n",
      "Recalcing pool.calc.behavior.correct_count: OA26 170511 1\n",
      "Recalcing pool.calc.behavior.trial_count: OA26 170511 1\n",
      "Recalcing pool.calc.behavior.incorrect_count: OA26 170511 1\n",
      "Recalcing pool.calc.behavior.trial_count: OA26 170511 1\n",
      "Recalcing pool.calc.behavior.incorrect_count: OA26 170511 1\n",
      "Recalcing pool.calc.behavior.trial_count: OA26 170511 1\n",
      "Recalcing pool.calc.behavior.correct_count: OA26 170511 2\n",
      "Recalcing pool.calc.behavior.trial_count: OA26 170511 2\n",
      "Recalcing pool.calc.behavior.incorrect_count: OA26 170511 2\n",
      "Recalcing pool.calc.behavior.trial_count: OA26 170511 2\n",
      "Recalcing pool.calc.behavior.incorrect_count: OA26 170511 2\n",
      "Recalcing pool.calc.behavior.trial_count: OA26 170511 2\n",
      "Recalcing pool.calc.behavior.correct_count: OA26 170511 3\n",
      "Recalcing pool.calc.behavior.trial_count: OA26 170511 3\n",
      "Recalcing pool.calc.behavior.incorrect_count: OA26 170511 3\n",
      "Recalcing pool.calc.behavior.trial_count: OA26 170511 3\n",
      "Recalcing pool.calc.behavior.incorrect_count: OA26 170511 3\n",
      "Recalcing pool.calc.behavior.trial_count: OA26 170511 3\n",
      "Recalcing pool.calc.behavior.correct_count: OA26 170511 4\n",
      "Recalcing pool.calc.behavior.trial_count: OA26 170511 4\n",
      "Recalcing pool.calc.behavior.incorrect_count: OA26 170511 4\n",
      "Recalcing pool.calc.behavior.trial_count: OA26 170511 4\n",
      "Recalcing pool.calc.behavior.incorrect_count: OA26 170511 4\n",
      "Recalcing pool.calc.behavior.trial_count: OA26 170511 4\n",
      "old bias:  0.6591183945072625\n",
      "new bias:  0.4553389791731274\n"
     ]
    },
    {
     "name": "stderr",
     "output_type": "stream",
     "text": [
      "/Users/kelly_mcguire/Documents/Code/cascade/cascade/bias.py:159: RuntimeWarning: All-NaN axis encountered\n",
      "  max_response = np.array([np.nanmax(s) for s in zip(*responses)])\n"
     ]
    },
    {
     "name": "stdout",
     "output_type": "stream",
     "text": [
      "Recalcing pool.calc.driven.visually: OA26 170512 \n",
      "Recalcing pool.calc.driven.visually: OA26 170512 \n",
      "Recalcing pool.calc.driven.visually: OA26 170512 \n",
      "Trace parameters hashed for df: dual\n",
      "Recalcing pool.calc.behavior.dprime: OA26 170512 \n",
      "Recalcing pool.calc.behavior.correct_count: OA26 170512 1\n",
      "Recalcing pool.calc.behavior.trial_count: OA26 170512 1\n",
      "Recalcing pool.calc.behavior.incorrect_count: OA26 170512 1\n",
      "Recalcing pool.calc.behavior.trial_count: OA26 170512 1\n",
      "Recalcing pool.calc.behavior.incorrect_count: OA26 170512 1\n",
      "Recalcing pool.calc.behavior.trial_count: OA26 170512 1\n",
      "Recalcing pool.calc.behavior.correct_count: OA26 170512 2\n",
      "Recalcing pool.calc.behavior.trial_count: OA26 170512 2\n",
      "Recalcing pool.calc.behavior.incorrect_count: OA26 170512 2\n",
      "Recalcing pool.calc.behavior.trial_count: OA26 170512 2\n",
      "Recalcing pool.calc.behavior.incorrect_count: OA26 170512 2\n",
      "Recalcing pool.calc.behavior.trial_count: OA26 170512 2\n",
      "Recalcing pool.calc.behavior.correct_count: OA26 170512 3\n",
      "Recalcing pool.calc.behavior.trial_count: OA26 170512 3\n",
      "Recalcing pool.calc.behavior.incorrect_count: OA26 170512 3\n",
      "Recalcing pool.calc.behavior.trial_count: OA26 170512 3\n",
      "Recalcing pool.calc.behavior.incorrect_count: OA26 170512 3\n",
      "Recalcing pool.calc.behavior.trial_count: OA26 170512 3\n",
      "old bias:  0.7009878270883335\n",
      "new bias:  0.5320167064603606\n"
     ]
    },
    {
     "name": "stderr",
     "output_type": "stream",
     "text": [
      "/Users/kelly_mcguire/Documents/Code/cascade/cascade/bias.py:159: RuntimeWarning: All-NaN axis encountered\n",
      "  max_response = np.array([np.nanmax(s) for s in zip(*responses)])\n"
     ]
    },
    {
     "name": "stdout",
     "output_type": "stream",
     "text": [
      "Recalcing pool.calc.driven.visually: OA26 170514 \n",
      "Recalcing pool.calc.driven.visually: OA26 170514 \n",
      "Recalcing pool.calc.driven.visually: OA26 170514 \n",
      "Trace parameters hashed for df: dual\n",
      "Recalcing pool.calc.behavior.dprime: OA26 170514 \n",
      "Recalcing pool.calc.behavior.correct_count: OA26 170514 1\n",
      "Recalcing pool.calc.behavior.trial_count: OA26 170514 1\n",
      "Recalcing pool.calc.behavior.incorrect_count: OA26 170514 1\n",
      "Recalcing pool.calc.behavior.trial_count: OA26 170514 1\n",
      "Recalcing pool.calc.behavior.incorrect_count: OA26 170514 1\n",
      "Recalcing pool.calc.behavior.trial_count: OA26 170514 1\n",
      "Recalcing pool.calc.behavior.correct_count: OA26 170514 2\n",
      "Recalcing pool.calc.behavior.trial_count: OA26 170514 2\n",
      "Recalcing pool.calc.behavior.incorrect_count: OA26 170514 2\n",
      "Recalcing pool.calc.behavior.trial_count: OA26 170514 2\n",
      "Recalcing pool.calc.behavior.incorrect_count: OA26 170514 2\n",
      "Recalcing pool.calc.behavior.trial_count: OA26 170514 2\n",
      "Recalcing pool.calc.behavior.correct_count: OA26 170514 3\n",
      "Recalcing pool.calc.behavior.trial_count: OA26 170514 3\n",
      "Recalcing pool.calc.behavior.incorrect_count: OA26 170514 3\n",
      "Recalcing pool.calc.behavior.trial_count: OA26 170514 3\n",
      "Recalcing pool.calc.behavior.incorrect_count: OA26 170514 3\n",
      "Recalcing pool.calc.behavior.trial_count: OA26 170514 3\n",
      "Recalcing pool.calc.behavior.correct_count: OA26 170514 5\n",
      "Recalcing pool.calc.behavior.trial_count: OA26 170514 5\n",
      "Recalcing pool.calc.behavior.incorrect_count: OA26 170514 5\n",
      "Recalcing pool.calc.behavior.trial_count: OA26 170514 5\n",
      "Recalcing pool.calc.behavior.incorrect_count: OA26 170514 5\n",
      "Recalcing pool.calc.behavior.trial_count: OA26 170514 5\n",
      "old bias:  0.6015295538607638\n",
      "new bias:  0.4159359661146581\n"
     ]
    },
    {
     "name": "stderr",
     "output_type": "stream",
     "text": [
      "/Users/kelly_mcguire/Documents/Code/cascade/cascade/bias.py:159: RuntimeWarning: All-NaN axis encountered\n",
      "  max_response = np.array([np.nanmax(s) for s in zip(*responses)])\n"
     ]
    },
    {
     "name": "stdout",
     "output_type": "stream",
     "text": [
      "Recalcing pool.calc.driven.visually: OA26 170518 \n",
      "Recalcing pool.calc.driven.visually: OA26 170518 \n",
      "Recalcing pool.calc.driven.visually: OA26 170518 \n",
      "Trace parameters hashed for df: dual\n",
      "Recalcing pool.calc.behavior.dprime: OA26 170518 \n",
      "Recalcing pool.calc.behavior.correct_count: OA26 170518 1\n",
      "Recalcing pool.calc.behavior.trial_count: OA26 170518 1\n",
      "Recalcing pool.calc.behavior.incorrect_count: OA26 170518 1\n",
      "Recalcing pool.calc.behavior.trial_count: OA26 170518 1\n",
      "Recalcing pool.calc.behavior.incorrect_count: OA26 170518 1\n",
      "Recalcing pool.calc.behavior.trial_count: OA26 170518 1\n",
      "Recalcing pool.calc.behavior.correct_count: OA26 170518 2\n",
      "Recalcing pool.calc.behavior.trial_count: OA26 170518 2\n",
      "Recalcing pool.calc.behavior.incorrect_count: OA26 170518 2\n",
      "Recalcing pool.calc.behavior.trial_count: OA26 170518 2\n",
      "Recalcing pool.calc.behavior.incorrect_count: OA26 170518 2\n",
      "Recalcing pool.calc.behavior.trial_count: OA26 170518 2\n",
      "old bias:  0.6547610205334053\n",
      "new bias:  0.44797292061252597\n"
     ]
    },
    {
     "name": "stderr",
     "output_type": "stream",
     "text": [
      "/Users/kelly_mcguire/Documents/Code/cascade/cascade/bias.py:159: RuntimeWarning: All-NaN axis encountered\n",
      "  max_response = np.array([np.nanmax(s) for s in zip(*responses)])\n"
     ]
    },
    {
     "name": "stdout",
     "output_type": "stream",
     "text": [
      "Recalcing pool.calc.driven.visually: OA26 170525 \n",
      "Recalcing pool.calc.driven.visually: OA26 170525 \n",
      "Recalcing pool.calc.driven.visually: OA26 170525 \n",
      "Trace parameters hashed for df: dual\n",
      "Recalcing pool.calc.behavior.dprime: OA26 170525 \n",
      "Recalcing pool.calc.behavior.correct_count: OA26 170525 2\n",
      "Recalcing pool.calc.behavior.trial_count: OA26 170525 2\n",
      "Recalcing pool.calc.behavior.incorrect_count: OA26 170525 2\n",
      "Recalcing pool.calc.behavior.trial_count: OA26 170525 2\n",
      "Recalcing pool.calc.behavior.incorrect_count: OA26 170525 2\n",
      "Recalcing pool.calc.behavior.trial_count: OA26 170525 2\n",
      "old bias:  0.5266615303010455\n",
      "new bias:  0.3908139996514193\n",
      "Recalcing pool.calc.driven.visually: VF226 180117 \n"
     ]
    },
    {
     "name": "stderr",
     "output_type": "stream",
     "text": [
      "/Users/kelly_mcguire/Documents/Code/cascade/cascade/bias.py:159: RuntimeWarning: All-NaN axis encountered\n",
      "  max_response = np.array([np.nanmax(s) for s in zip(*responses)])\n"
     ]
    },
    {
     "name": "stdout",
     "output_type": "stream",
     "text": [
      "Recalcing pool.calc.driven.visually: VF226 180117 \n",
      "Recalcing pool.calc.driven.visually: VF226 180117 \n",
      "Trace parameters hashed for df: dual\n"
     ]
    },
    {
     "ename": "FileNotFoundError",
     "evalue": "[Errno 2] No such file or directory: '/Users/kelly_mcguire/Documents/Data/output/VF226/dfs-zscore_day-dual/VF226_180117_df_zscore_day.pkl'",
     "output_type": "error",
     "traceback": [
      "\u001b[0;31m---------------------------------------------------------------------------\u001b[0m",
      "\u001b[0;31mFileNotFoundError\u001b[0m                         Traceback (most recent call last)",
      "\u001b[0;32m~/anaconda3/lib/python3.6/site-packages/pandas/io/pickle.py\u001b[0m in \u001b[0;36mtry_read\u001b[0;34m(path, encoding)\u001b[0m\n\u001b[1;32m    165\u001b[0m                 \u001b[0mwarnings\u001b[0m\u001b[0;34m.\u001b[0m\u001b[0msimplefilter\u001b[0m\u001b[0;34m(\u001b[0m\u001b[0;34m\"ignore\"\u001b[0m\u001b[0;34m,\u001b[0m \u001b[0mWarning\u001b[0m\u001b[0;34m)\u001b[0m\u001b[0;34m\u001b[0m\u001b[0;34m\u001b[0m\u001b[0m\n\u001b[0;32m--> 166\u001b[0;31m                 \u001b[0;32mreturn\u001b[0m \u001b[0mread_wrapper\u001b[0m\u001b[0;34m(\u001b[0m\u001b[0;32mlambda\u001b[0m \u001b[0mf\u001b[0m\u001b[0;34m:\u001b[0m \u001b[0mpkl\u001b[0m\u001b[0;34m.\u001b[0m\u001b[0mload\u001b[0m\u001b[0;34m(\u001b[0m\u001b[0mf\u001b[0m\u001b[0;34m)\u001b[0m\u001b[0;34m)\u001b[0m\u001b[0;34m\u001b[0m\u001b[0;34m\u001b[0m\u001b[0m\n\u001b[0m\u001b[1;32m    167\u001b[0m         \u001b[0;32mexcept\u001b[0m \u001b[0mException\u001b[0m\u001b[0;34m:\u001b[0m  \u001b[0;31m# noqa: E722\u001b[0m\u001b[0;34m\u001b[0m\u001b[0;34m\u001b[0m\u001b[0m\n",
      "\u001b[0;32m~/anaconda3/lib/python3.6/site-packages/pandas/io/pickle.py\u001b[0m in \u001b[0;36mread_wrapper\u001b[0;34m(func)\u001b[0m\n\u001b[1;32m    145\u001b[0m                             \u001b[0mcompression\u001b[0m\u001b[0;34m=\u001b[0m\u001b[0mcompression\u001b[0m\u001b[0;34m,\u001b[0m\u001b[0;34m\u001b[0m\u001b[0;34m\u001b[0m\u001b[0m\n\u001b[0;32m--> 146\u001b[0;31m                             is_text=False)\n\u001b[0m\u001b[1;32m    147\u001b[0m         \u001b[0;32mtry\u001b[0m\u001b[0;34m:\u001b[0m\u001b[0;34m\u001b[0m\u001b[0;34m\u001b[0m\u001b[0m\n",
      "\u001b[0;32m~/anaconda3/lib/python3.6/site-packages/pandas/io/common.py\u001b[0m in \u001b[0;36m_get_handle\u001b[0;34m(path_or_buf, mode, encoding, compression, memory_map, is_text)\u001b[0m\n\u001b[1;32m    429\u001b[0m             \u001b[0;31m# Python 3 and binary mode\u001b[0m\u001b[0;34m\u001b[0m\u001b[0;34m\u001b[0m\u001b[0;34m\u001b[0m\u001b[0m\n\u001b[0;32m--> 430\u001b[0;31m             \u001b[0mf\u001b[0m \u001b[0;34m=\u001b[0m \u001b[0mopen\u001b[0m\u001b[0;34m(\u001b[0m\u001b[0mpath_or_buf\u001b[0m\u001b[0;34m,\u001b[0m \u001b[0mmode\u001b[0m\u001b[0;34m)\u001b[0m\u001b[0;34m\u001b[0m\u001b[0;34m\u001b[0m\u001b[0m\n\u001b[0m\u001b[1;32m    431\u001b[0m         \u001b[0mhandles\u001b[0m\u001b[0;34m.\u001b[0m\u001b[0mappend\u001b[0m\u001b[0;34m(\u001b[0m\u001b[0mf\u001b[0m\u001b[0;34m)\u001b[0m\u001b[0;34m\u001b[0m\u001b[0;34m\u001b[0m\u001b[0m\n",
      "\u001b[0;31mFileNotFoundError\u001b[0m: [Errno 2] No such file or directory: '/Users/kelly_mcguire/Documents/Data/output/VF226/dfs-zscore_day-dual/VF226_180117_df_zscore_day.pkl'",
      "\nDuring handling of the above exception, another exception occurred:\n",
      "\u001b[0;31mFileNotFoundError\u001b[0m                         Traceback (most recent call last)",
      "\u001b[0;32m~/anaconda3/lib/python3.6/site-packages/pandas/io/pickle.py\u001b[0m in \u001b[0;36mtry_read\u001b[0;34m(path, encoding)\u001b[0m\n\u001b[1;32m    172\u001b[0m                 return read_wrapper(\n\u001b[0;32m--> 173\u001b[0;31m                     lambda f: pc.load(f, encoding=encoding, compat=False))\n\u001b[0m\u001b[1;32m    174\u001b[0m             \u001b[0;31m# compat pickle\u001b[0m\u001b[0;34m\u001b[0m\u001b[0;34m\u001b[0m\u001b[0;34m\u001b[0m\u001b[0m\n",
      "\u001b[0;32m~/anaconda3/lib/python3.6/site-packages/pandas/io/pickle.py\u001b[0m in \u001b[0;36mread_wrapper\u001b[0;34m(func)\u001b[0m\n\u001b[1;32m    145\u001b[0m                             \u001b[0mcompression\u001b[0m\u001b[0;34m=\u001b[0m\u001b[0mcompression\u001b[0m\u001b[0;34m,\u001b[0m\u001b[0;34m\u001b[0m\u001b[0;34m\u001b[0m\u001b[0m\n\u001b[0;32m--> 146\u001b[0;31m                             is_text=False)\n\u001b[0m\u001b[1;32m    147\u001b[0m         \u001b[0;32mtry\u001b[0m\u001b[0;34m:\u001b[0m\u001b[0;34m\u001b[0m\u001b[0;34m\u001b[0m\u001b[0m\n",
      "\u001b[0;32m~/anaconda3/lib/python3.6/site-packages/pandas/io/common.py\u001b[0m in \u001b[0;36m_get_handle\u001b[0;34m(path_or_buf, mode, encoding, compression, memory_map, is_text)\u001b[0m\n\u001b[1;32m    429\u001b[0m             \u001b[0;31m# Python 3 and binary mode\u001b[0m\u001b[0;34m\u001b[0m\u001b[0;34m\u001b[0m\u001b[0;34m\u001b[0m\u001b[0m\n\u001b[0;32m--> 430\u001b[0;31m             \u001b[0mf\u001b[0m \u001b[0;34m=\u001b[0m \u001b[0mopen\u001b[0m\u001b[0;34m(\u001b[0m\u001b[0mpath_or_buf\u001b[0m\u001b[0;34m,\u001b[0m \u001b[0mmode\u001b[0m\u001b[0;34m)\u001b[0m\u001b[0;34m\u001b[0m\u001b[0;34m\u001b[0m\u001b[0m\n\u001b[0m\u001b[1;32m    431\u001b[0m         \u001b[0mhandles\u001b[0m\u001b[0;34m.\u001b[0m\u001b[0mappend\u001b[0m\u001b[0;34m(\u001b[0m\u001b[0mf\u001b[0m\u001b[0;34m)\u001b[0m\u001b[0;34m\u001b[0m\u001b[0;34m\u001b[0m\u001b[0m\n",
      "\u001b[0;31mFileNotFoundError\u001b[0m: [Errno 2] No such file or directory: '/Users/kelly_mcguire/Documents/Data/output/VF226/dfs-zscore_day-dual/VF226_180117_df_zscore_day.pkl'",
      "\nDuring handling of the above exception, another exception occurred:\n",
      "\u001b[0;31mFileNotFoundError\u001b[0m                         Traceback (most recent call last)",
      "\u001b[0;32m~/anaconda3/lib/python3.6/site-packages/pandas/io/pickle.py\u001b[0m in \u001b[0;36mread_pickle\u001b[0;34m(path, compression)\u001b[0m\n\u001b[1;32m    178\u001b[0m     \u001b[0;32mtry\u001b[0m\u001b[0;34m:\u001b[0m\u001b[0;34m\u001b[0m\u001b[0;34m\u001b[0m\u001b[0m\n\u001b[0;32m--> 179\u001b[0;31m         \u001b[0;32mreturn\u001b[0m \u001b[0mtry_read\u001b[0m\u001b[0;34m(\u001b[0m\u001b[0mpath\u001b[0m\u001b[0;34m)\u001b[0m\u001b[0;34m\u001b[0m\u001b[0;34m\u001b[0m\u001b[0m\n\u001b[0m\u001b[1;32m    180\u001b[0m     \u001b[0;32mexcept\u001b[0m \u001b[0mException\u001b[0m\u001b[0;34m:\u001b[0m  \u001b[0;31m# noqa: E722\u001b[0m\u001b[0;34m\u001b[0m\u001b[0;34m\u001b[0m\u001b[0m\n",
      "\u001b[0;32m~/anaconda3/lib/python3.6/site-packages/pandas/io/pickle.py\u001b[0m in \u001b[0;36mtry_read\u001b[0;34m(path, encoding)\u001b[0m\n\u001b[1;32m    176\u001b[0m                 return read_wrapper(\n\u001b[0;32m--> 177\u001b[0;31m                     lambda f: pc.load(f, encoding=encoding, compat=True))\n\u001b[0m\u001b[1;32m    178\u001b[0m     \u001b[0;32mtry\u001b[0m\u001b[0;34m:\u001b[0m\u001b[0;34m\u001b[0m\u001b[0;34m\u001b[0m\u001b[0m\n",
      "\u001b[0;32m~/anaconda3/lib/python3.6/site-packages/pandas/io/pickle.py\u001b[0m in \u001b[0;36mread_wrapper\u001b[0;34m(func)\u001b[0m\n\u001b[1;32m    145\u001b[0m                             \u001b[0mcompression\u001b[0m\u001b[0;34m=\u001b[0m\u001b[0mcompression\u001b[0m\u001b[0;34m,\u001b[0m\u001b[0;34m\u001b[0m\u001b[0;34m\u001b[0m\u001b[0m\n\u001b[0;32m--> 146\u001b[0;31m                             is_text=False)\n\u001b[0m\u001b[1;32m    147\u001b[0m         \u001b[0;32mtry\u001b[0m\u001b[0;34m:\u001b[0m\u001b[0;34m\u001b[0m\u001b[0;34m\u001b[0m\u001b[0m\n",
      "\u001b[0;32m~/anaconda3/lib/python3.6/site-packages/pandas/io/common.py\u001b[0m in \u001b[0;36m_get_handle\u001b[0;34m(path_or_buf, mode, encoding, compression, memory_map, is_text)\u001b[0m\n\u001b[1;32m    429\u001b[0m             \u001b[0;31m# Python 3 and binary mode\u001b[0m\u001b[0;34m\u001b[0m\u001b[0;34m\u001b[0m\u001b[0;34m\u001b[0m\u001b[0m\n\u001b[0;32m--> 430\u001b[0;31m             \u001b[0mf\u001b[0m \u001b[0;34m=\u001b[0m \u001b[0mopen\u001b[0m\u001b[0;34m(\u001b[0m\u001b[0mpath_or_buf\u001b[0m\u001b[0;34m,\u001b[0m \u001b[0mmode\u001b[0m\u001b[0;34m)\u001b[0m\u001b[0;34m\u001b[0m\u001b[0;34m\u001b[0m\u001b[0m\n\u001b[0m\u001b[1;32m    431\u001b[0m         \u001b[0mhandles\u001b[0m\u001b[0;34m.\u001b[0m\u001b[0mappend\u001b[0m\u001b[0;34m(\u001b[0m\u001b[0mf\u001b[0m\u001b[0;34m)\u001b[0m\u001b[0;34m\u001b[0m\u001b[0;34m\u001b[0m\u001b[0m\n",
      "\u001b[0;31mFileNotFoundError\u001b[0m: [Errno 2] No such file or directory: '/Users/kelly_mcguire/Documents/Data/output/VF226/dfs-zscore_day-dual/VF226_180117_df_zscore_day.pkl'",
      "\nDuring handling of the above exception, another exception occurred:\n",
      "\u001b[0;31mFileNotFoundError\u001b[0m                         Traceback (most recent call last)",
      "\u001b[0;32m~/anaconda3/lib/python3.6/site-packages/pandas/io/pickle.py\u001b[0m in \u001b[0;36mtry_read\u001b[0;34m(path, encoding)\u001b[0m\n\u001b[1;32m    165\u001b[0m                 \u001b[0mwarnings\u001b[0m\u001b[0;34m.\u001b[0m\u001b[0msimplefilter\u001b[0m\u001b[0;34m(\u001b[0m\u001b[0;34m\"ignore\"\u001b[0m\u001b[0;34m,\u001b[0m \u001b[0mWarning\u001b[0m\u001b[0;34m)\u001b[0m\u001b[0;34m\u001b[0m\u001b[0;34m\u001b[0m\u001b[0m\n\u001b[0;32m--> 166\u001b[0;31m                 \u001b[0;32mreturn\u001b[0m \u001b[0mread_wrapper\u001b[0m\u001b[0;34m(\u001b[0m\u001b[0;32mlambda\u001b[0m \u001b[0mf\u001b[0m\u001b[0;34m:\u001b[0m \u001b[0mpkl\u001b[0m\u001b[0;34m.\u001b[0m\u001b[0mload\u001b[0m\u001b[0;34m(\u001b[0m\u001b[0mf\u001b[0m\u001b[0;34m)\u001b[0m\u001b[0;34m)\u001b[0m\u001b[0;34m\u001b[0m\u001b[0;34m\u001b[0m\u001b[0m\n\u001b[0m\u001b[1;32m    167\u001b[0m         \u001b[0;32mexcept\u001b[0m \u001b[0mException\u001b[0m\u001b[0;34m:\u001b[0m  \u001b[0;31m# noqa: E722\u001b[0m\u001b[0;34m\u001b[0m\u001b[0;34m\u001b[0m\u001b[0m\n",
      "\u001b[0;32m~/anaconda3/lib/python3.6/site-packages/pandas/io/pickle.py\u001b[0m in \u001b[0;36mread_wrapper\u001b[0;34m(func)\u001b[0m\n\u001b[1;32m    145\u001b[0m                             \u001b[0mcompression\u001b[0m\u001b[0;34m=\u001b[0m\u001b[0mcompression\u001b[0m\u001b[0;34m,\u001b[0m\u001b[0;34m\u001b[0m\u001b[0;34m\u001b[0m\u001b[0m\n\u001b[0;32m--> 146\u001b[0;31m                             is_text=False)\n\u001b[0m\u001b[1;32m    147\u001b[0m         \u001b[0;32mtry\u001b[0m\u001b[0;34m:\u001b[0m\u001b[0;34m\u001b[0m\u001b[0;34m\u001b[0m\u001b[0m\n",
      "\u001b[0;32m~/anaconda3/lib/python3.6/site-packages/pandas/io/common.py\u001b[0m in \u001b[0;36m_get_handle\u001b[0;34m(path_or_buf, mode, encoding, compression, memory_map, is_text)\u001b[0m\n\u001b[1;32m    429\u001b[0m             \u001b[0;31m# Python 3 and binary mode\u001b[0m\u001b[0;34m\u001b[0m\u001b[0;34m\u001b[0m\u001b[0;34m\u001b[0m\u001b[0m\n\u001b[0;32m--> 430\u001b[0;31m             \u001b[0mf\u001b[0m \u001b[0;34m=\u001b[0m \u001b[0mopen\u001b[0m\u001b[0;34m(\u001b[0m\u001b[0mpath_or_buf\u001b[0m\u001b[0;34m,\u001b[0m \u001b[0mmode\u001b[0m\u001b[0;34m)\u001b[0m\u001b[0;34m\u001b[0m\u001b[0;34m\u001b[0m\u001b[0m\n\u001b[0m\u001b[1;32m    431\u001b[0m         \u001b[0mhandles\u001b[0m\u001b[0;34m.\u001b[0m\u001b[0mappend\u001b[0m\u001b[0;34m(\u001b[0m\u001b[0mf\u001b[0m\u001b[0;34m)\u001b[0m\u001b[0;34m\u001b[0m\u001b[0;34m\u001b[0m\u001b[0m\n",
      "\u001b[0;31mFileNotFoundError\u001b[0m: [Errno 2] No such file or directory: '/Users/kelly_mcguire/Documents/Data/output/VF226/dfs-zscore_day-dual/VF226_180117_df_zscore_day.pkl'",
      "\nDuring handling of the above exception, another exception occurred:\n",
      "\u001b[0;31mFileNotFoundError\u001b[0m                         Traceback (most recent call last)",
      "\u001b[0;32m~/anaconda3/lib/python3.6/site-packages/pandas/io/pickle.py\u001b[0m in \u001b[0;36mtry_read\u001b[0;34m(path, encoding)\u001b[0m\n\u001b[1;32m    172\u001b[0m                 return read_wrapper(\n\u001b[0;32m--> 173\u001b[0;31m                     lambda f: pc.load(f, encoding=encoding, compat=False))\n\u001b[0m\u001b[1;32m    174\u001b[0m             \u001b[0;31m# compat pickle\u001b[0m\u001b[0;34m\u001b[0m\u001b[0;34m\u001b[0m\u001b[0;34m\u001b[0m\u001b[0m\n",
      "\u001b[0;32m~/anaconda3/lib/python3.6/site-packages/pandas/io/pickle.py\u001b[0m in \u001b[0;36mread_wrapper\u001b[0;34m(func)\u001b[0m\n\u001b[1;32m    145\u001b[0m                             \u001b[0mcompression\u001b[0m\u001b[0;34m=\u001b[0m\u001b[0mcompression\u001b[0m\u001b[0;34m,\u001b[0m\u001b[0;34m\u001b[0m\u001b[0;34m\u001b[0m\u001b[0m\n\u001b[0;32m--> 146\u001b[0;31m                             is_text=False)\n\u001b[0m\u001b[1;32m    147\u001b[0m         \u001b[0;32mtry\u001b[0m\u001b[0;34m:\u001b[0m\u001b[0;34m\u001b[0m\u001b[0;34m\u001b[0m\u001b[0m\n",
      "\u001b[0;32m~/anaconda3/lib/python3.6/site-packages/pandas/io/common.py\u001b[0m in \u001b[0;36m_get_handle\u001b[0;34m(path_or_buf, mode, encoding, compression, memory_map, is_text)\u001b[0m\n\u001b[1;32m    429\u001b[0m             \u001b[0;31m# Python 3 and binary mode\u001b[0m\u001b[0;34m\u001b[0m\u001b[0;34m\u001b[0m\u001b[0;34m\u001b[0m\u001b[0m\n\u001b[0;32m--> 430\u001b[0;31m             \u001b[0mf\u001b[0m \u001b[0;34m=\u001b[0m \u001b[0mopen\u001b[0m\u001b[0;34m(\u001b[0m\u001b[0mpath_or_buf\u001b[0m\u001b[0;34m,\u001b[0m \u001b[0mmode\u001b[0m\u001b[0;34m)\u001b[0m\u001b[0;34m\u001b[0m\u001b[0;34m\u001b[0m\u001b[0m\n\u001b[0m\u001b[1;32m    431\u001b[0m         \u001b[0mhandles\u001b[0m\u001b[0;34m.\u001b[0m\u001b[0mappend\u001b[0m\u001b[0;34m(\u001b[0m\u001b[0mf\u001b[0m\u001b[0;34m)\u001b[0m\u001b[0;34m\u001b[0m\u001b[0;34m\u001b[0m\u001b[0m\n",
      "\u001b[0;31mFileNotFoundError\u001b[0m: [Errno 2] No such file or directory: '/Users/kelly_mcguire/Documents/Data/output/VF226/dfs-zscore_day-dual/VF226_180117_df_zscore_day.pkl'",
      "\nDuring handling of the above exception, another exception occurred:\n",
      "\u001b[0;31mFileNotFoundError\u001b[0m                         Traceback (most recent call last)",
      "\u001b[0;32m<ipython-input-2-853db2488443>\u001b[0m in \u001b[0;36m<module>\u001b[0;34m\u001b[0m\n\u001b[0;32m----> 1\u001b[0;31m \u001b[0mcas\u001b[0m\u001b[0;34m.\u001b[0m\u001b[0mbias\u001b[0m\u001b[0;34m.\u001b[0m\u001b[0mbias_df\u001b[0m\u001b[0;34m(\u001b[0m\u001b[0;34m)\u001b[0m\u001b[0;34m\u001b[0m\u001b[0;34m\u001b[0m\u001b[0m\n\u001b[0m",
      "\u001b[0;32m~/Documents/Code/cascade/cascade/bias.py\u001b[0m in \u001b[0;36mbias_df\u001b[0;34m(mice, trace_type, cs, downsample, start_time, end_time, clean_artifacts, thresh, warp, smooth, smooth_win, driven, drive_css, stim_offset, drive_thresh)\u001b[0m\n\u001b[1;32m     76\u001b[0m \u001b[0;34m\u001b[0m\u001b[0m\n\u001b[1;32m     77\u001b[0m             \u001b[0;31m# get traces for the day\u001b[0m\u001b[0;34m\u001b[0m\u001b[0;34m\u001b[0m\u001b[0;34m\u001b[0m\u001b[0m\n\u001b[0;32m---> 78\u001b[0;31m             \u001b[0mdft\u001b[0m \u001b[0;34m=\u001b[0m \u001b[0m_singleday\u001b[0m\u001b[0;34m(\u001b[0m\u001b[0mDaySorter\u001b[0m\u001b[0;34m,\u001b[0m \u001b[0mpars\u001b[0m\u001b[0;34m)\u001b[0m\u001b[0;34m\u001b[0m\u001b[0;34m\u001b[0m\u001b[0m\n\u001b[0m\u001b[1;32m     79\u001b[0m             \u001b[0mdft\u001b[0m \u001b[0;34m=\u001b[0m \u001b[0mdft\u001b[0m\u001b[0;34m.\u001b[0m\u001b[0mreset_index\u001b[0m\u001b[0;34m(\u001b[0m\u001b[0mlevel\u001b[0m\u001b[0;34m=\u001b[0m\u001b[0;34m[\u001b[0m\u001b[0;34m'cell_idx'\u001b[0m\u001b[0;34m,\u001b[0m \u001b[0;34m'timestamp'\u001b[0m\u001b[0;34m]\u001b[0m\u001b[0;34m)\u001b[0m\u001b[0;34m\u001b[0m\u001b[0;34m\u001b[0m\u001b[0m\n\u001b[1;32m     80\u001b[0m \u001b[0;34m\u001b[0m\u001b[0m\n",
      "\u001b[0;32m~/Documents/Code/cascade/cascade/bias.py\u001b[0m in \u001b[0;36m_singleday\u001b[0;34m(DaySorter, pars)\u001b[0m\n\u001b[1;32m    333\u001b[0m         \u001b[0msave_dir\u001b[0m\u001b[0;34m,\u001b[0m \u001b[0mstr\u001b[0m\u001b[0;34m(\u001b[0m\u001b[0mDaySorter\u001b[0m\u001b[0;34m.\u001b[0m\u001b[0mmouse\u001b[0m\u001b[0;34m)\u001b[0m \u001b[0;34m+\u001b[0m \u001b[0;34m'_'\u001b[0m \u001b[0;34m+\u001b[0m \u001b[0mstr\u001b[0m\u001b[0;34m(\u001b[0m\u001b[0mDaySorter\u001b[0m\u001b[0;34m.\u001b[0m\u001b[0mdate\u001b[0m\u001b[0;34m)\u001b[0m \u001b[0;34m+\u001b[0m \u001b[0;34m'_df_'\u001b[0m \u001b[0;34m+\u001b[0m\u001b[0;34m\u001b[0m\u001b[0;34m\u001b[0m\u001b[0m\n\u001b[1;32m    334\u001b[0m         pars['trace_type'] + '.pkl')\n\u001b[0;32m--> 335\u001b[0;31m     \u001b[0mdft\u001b[0m \u001b[0;34m=\u001b[0m \u001b[0mpd\u001b[0m\u001b[0;34m.\u001b[0m\u001b[0mread_pickle\u001b[0m\u001b[0;34m(\u001b[0m\u001b[0mpath\u001b[0m\u001b[0;34m)\u001b[0m\u001b[0;34m\u001b[0m\u001b[0;34m\u001b[0m\u001b[0m\n\u001b[0m\u001b[1;32m    336\u001b[0m \u001b[0;34m\u001b[0m\u001b[0m\n\u001b[1;32m    337\u001b[0m     \u001b[0;31m# slice out your day of interest\u001b[0m\u001b[0;34m\u001b[0m\u001b[0;34m\u001b[0m\u001b[0;34m\u001b[0m\u001b[0m\n",
      "\u001b[0;32m~/anaconda3/lib/python3.6/site-packages/pandas/io/pickle.py\u001b[0m in \u001b[0;36mread_pickle\u001b[0;34m(path, compression)\u001b[0m\n\u001b[1;32m    180\u001b[0m     \u001b[0;32mexcept\u001b[0m \u001b[0mException\u001b[0m\u001b[0;34m:\u001b[0m  \u001b[0;31m# noqa: E722\u001b[0m\u001b[0;34m\u001b[0m\u001b[0;34m\u001b[0m\u001b[0m\n\u001b[1;32m    181\u001b[0m         \u001b[0;32mif\u001b[0m \u001b[0mPY3\u001b[0m\u001b[0;34m:\u001b[0m\u001b[0;34m\u001b[0m\u001b[0;34m\u001b[0m\u001b[0m\n\u001b[0;32m--> 182\u001b[0;31m             \u001b[0;32mreturn\u001b[0m \u001b[0mtry_read\u001b[0m\u001b[0;34m(\u001b[0m\u001b[0mpath\u001b[0m\u001b[0;34m,\u001b[0m \u001b[0mencoding\u001b[0m\u001b[0;34m=\u001b[0m\u001b[0;34m'latin1'\u001b[0m\u001b[0;34m)\u001b[0m\u001b[0;34m\u001b[0m\u001b[0;34m\u001b[0m\u001b[0m\n\u001b[0m\u001b[1;32m    183\u001b[0m         \u001b[0;32mraise\u001b[0m\u001b[0;34m\u001b[0m\u001b[0;34m\u001b[0m\u001b[0m\n\u001b[1;32m    184\u001b[0m \u001b[0;34m\u001b[0m\u001b[0m\n",
      "\u001b[0;32m~/anaconda3/lib/python3.6/site-packages/pandas/io/pickle.py\u001b[0m in \u001b[0;36mtry_read\u001b[0;34m(path, encoding)\u001b[0m\n\u001b[1;32m    175\u001b[0m             \u001b[0;32mexcept\u001b[0m \u001b[0mException\u001b[0m\u001b[0;34m:\u001b[0m  \u001b[0;31m# noqa: E722\u001b[0m\u001b[0;34m\u001b[0m\u001b[0;34m\u001b[0m\u001b[0m\n\u001b[1;32m    176\u001b[0m                 return read_wrapper(\n\u001b[0;32m--> 177\u001b[0;31m                     lambda f: pc.load(f, encoding=encoding, compat=True))\n\u001b[0m\u001b[1;32m    178\u001b[0m     \u001b[0;32mtry\u001b[0m\u001b[0;34m:\u001b[0m\u001b[0;34m\u001b[0m\u001b[0;34m\u001b[0m\u001b[0m\n\u001b[1;32m    179\u001b[0m         \u001b[0;32mreturn\u001b[0m \u001b[0mtry_read\u001b[0m\u001b[0;34m(\u001b[0m\u001b[0mpath\u001b[0m\u001b[0;34m)\u001b[0m\u001b[0;34m\u001b[0m\u001b[0;34m\u001b[0m\u001b[0m\n",
      "\u001b[0;32m~/anaconda3/lib/python3.6/site-packages/pandas/io/pickle.py\u001b[0m in \u001b[0;36mread_wrapper\u001b[0;34m(func)\u001b[0m\n\u001b[1;32m    144\u001b[0m         f, fh = _get_handle(path, 'rb',\n\u001b[1;32m    145\u001b[0m                             \u001b[0mcompression\u001b[0m\u001b[0;34m=\u001b[0m\u001b[0mcompression\u001b[0m\u001b[0;34m,\u001b[0m\u001b[0;34m\u001b[0m\u001b[0;34m\u001b[0m\u001b[0m\n\u001b[0;32m--> 146\u001b[0;31m                             is_text=False)\n\u001b[0m\u001b[1;32m    147\u001b[0m         \u001b[0;32mtry\u001b[0m\u001b[0;34m:\u001b[0m\u001b[0;34m\u001b[0m\u001b[0;34m\u001b[0m\u001b[0m\n\u001b[1;32m    148\u001b[0m             \u001b[0;32mreturn\u001b[0m \u001b[0mfunc\u001b[0m\u001b[0;34m(\u001b[0m\u001b[0mf\u001b[0m\u001b[0;34m)\u001b[0m\u001b[0;34m\u001b[0m\u001b[0;34m\u001b[0m\u001b[0m\n",
      "\u001b[0;32m~/anaconda3/lib/python3.6/site-packages/pandas/io/common.py\u001b[0m in \u001b[0;36m_get_handle\u001b[0;34m(path_or_buf, mode, encoding, compression, memory_map, is_text)\u001b[0m\n\u001b[1;32m    428\u001b[0m         \u001b[0;32melse\u001b[0m\u001b[0;34m:\u001b[0m\u001b[0;34m\u001b[0m\u001b[0;34m\u001b[0m\u001b[0m\n\u001b[1;32m    429\u001b[0m             \u001b[0;31m# Python 3 and binary mode\u001b[0m\u001b[0;34m\u001b[0m\u001b[0;34m\u001b[0m\u001b[0;34m\u001b[0m\u001b[0m\n\u001b[0;32m--> 430\u001b[0;31m             \u001b[0mf\u001b[0m \u001b[0;34m=\u001b[0m \u001b[0mopen\u001b[0m\u001b[0;34m(\u001b[0m\u001b[0mpath_or_buf\u001b[0m\u001b[0;34m,\u001b[0m \u001b[0mmode\u001b[0m\u001b[0;34m)\u001b[0m\u001b[0;34m\u001b[0m\u001b[0;34m\u001b[0m\u001b[0m\n\u001b[0m\u001b[1;32m    431\u001b[0m         \u001b[0mhandles\u001b[0m\u001b[0;34m.\u001b[0m\u001b[0mappend\u001b[0m\u001b[0;34m(\u001b[0m\u001b[0mf\u001b[0m\u001b[0;34m)\u001b[0m\u001b[0;34m\u001b[0m\u001b[0;34m\u001b[0m\u001b[0m\n\u001b[1;32m    432\u001b[0m \u001b[0;34m\u001b[0m\u001b[0m\n",
      "\u001b[0;31mFileNotFoundError\u001b[0m: [Errno 2] No such file or directory: '/Users/kelly_mcguire/Documents/Data/output/VF226/dfs-zscore_day-dual/VF226_180117_df_zscore_day.pkl'"
     ]
    }
   ],
   "source": [
    "cas.bias.bias_df()"
   ]
  },
  {
   "cell_type": "code",
   "execution_count": null,
   "metadata": {},
   "outputs": [
    {
     "name": "stdout",
     "output_type": "stream",
     "text": [
      "> \u001b[0;32m/Users/kelly_mcguire/Documents/Code/cascade/cascade/bias.py\u001b[0m(157)\u001b[0;36mbias_df\u001b[0;34m()\u001b[0m\n",
      "\u001b[0;32m    155 \u001b[0;31m                \u001b[0mxday_dprime\u001b[0m\u001b[0;34m.\u001b[0m\u001b[0mappend\u001b[0m\u001b[0;34m(\u001b[0m\u001b[0mnp\u001b[0m\u001b[0;34m.\u001b[0m\u001b[0mnan\u001b[0m\u001b[0;34m)\u001b[0m\u001b[0;34m\u001b[0m\u001b[0;34m\u001b[0m\u001b[0m\n",
      "\u001b[0m\u001b[0;32m    156 \u001b[0;31m\u001b[0;34m\u001b[0m\u001b[0m\n",
      "\u001b[0m\u001b[0;32m--> 157 \u001b[0;31m            \u001b[0mtest\u001b[0m \u001b[0;34m=\u001b[0m \u001b[0mresponses\u001b[0m\u001b[0;34m[\u001b[0m\u001b[0;36m0\u001b[0m\u001b[0;34m]\u001b[0m\u001b[0;34m/\u001b[0m\u001b[0;34m(\u001b[0m\u001b[0mresponses\u001b[0m\u001b[0;34m[\u001b[0m\u001b[0;36m0\u001b[0m\u001b[0;34m]\u001b[0m \u001b[0;34m+\u001b[0m \u001b[0mresponses\u001b[0m\u001b[0;34m[\u001b[0m\u001b[0;36m1\u001b[0m\u001b[0;34m]\u001b[0m \u001b[0;34m+\u001b[0m \u001b[0mresponses\u001b[0m\u001b[0;34m[\u001b[0m\u001b[0;36m2\u001b[0m\u001b[0;34m]\u001b[0m\u001b[0;34m)\u001b[0m\u001b[0;34m\u001b[0m\u001b[0;34m\u001b[0m\u001b[0m\n",
      "\u001b[0m\u001b[0;32m    158 \u001b[0;31m            \u001b[0mmax_response\u001b[0m \u001b[0;34m=\u001b[0m \u001b[0mnp\u001b[0m\u001b[0;34m.\u001b[0m\u001b[0marray\u001b[0m\u001b[0;34m(\u001b[0m\u001b[0;34m[\u001b[0m\u001b[0mnp\u001b[0m\u001b[0;34m.\u001b[0m\u001b[0mnanmax\u001b[0m\u001b[0;34m(\u001b[0m\u001b[0ms\u001b[0m\u001b[0;34m)\u001b[0m \u001b[0;32mfor\u001b[0m \u001b[0ms\u001b[0m \u001b[0;32min\u001b[0m \u001b[0mzip\u001b[0m\u001b[0;34m(\u001b[0m\u001b[0;34m*\u001b[0m\u001b[0mresponses\u001b[0m\u001b[0;34m)\u001b[0m\u001b[0;34m]\u001b[0m\u001b[0;34m)\u001b[0m\u001b[0;34m\u001b[0m\u001b[0;34m\u001b[0m\u001b[0m\n",
      "\u001b[0m\u001b[0;32m    159 \u001b[0;31m            \u001b[0mmin_response\u001b[0m \u001b[0;34m=\u001b[0m \u001b[0;36m0\u001b[0m\u001b[0;34m\u001b[0m\u001b[0;34m\u001b[0m\u001b[0m\n",
      "\u001b[0m\n"
     ]
    },
    {
     "name": "stdin",
     "output_type": "stream",
     "text": [
      "ipdb>  responses\n"
     ]
    },
    {
     "name": "stdout",
     "output_type": "stream",
     "text": [
      "[[nan, nan, nan], [nan, nan, nan], [nan, nan, nan]]\n"
     ]
    },
    {
     "name": "stdin",
     "output_type": "stream",
     "text": [
      "ipdb>  responses[0]\n"
     ]
    },
    {
     "name": "stdout",
     "output_type": "stream",
     "text": [
      "[nan, nan, nan]\n"
     ]
    },
    {
     "name": "stdin",
     "output_type": "stream",
     "text": [
      "ipdb>  (responses[0] + responses[1] + responses[2])\n"
     ]
    },
    {
     "name": "stdout",
     "output_type": "stream",
     "text": [
      "[nan, nan, nan, nan, nan, nan, nan, nan, nan]\n"
     ]
    },
    {
     "name": "stdin",
     "output_type": "stream",
     "text": [
      "ipdb>  cell_mean\n"
     ]
    },
    {
     "name": "stdout",
     "output_type": "stream",
     "text": [
      "array([           nan, 4.61935188e-02, 2.82579329e-02, 1.36659761e-02,\n",
      "                  nan,            nan, 3.77990436e-01, 4.94481664e-01,\n",
      "       5.31566789e-01, 4.02209766e-02,            nan, 4.87544344e-01,\n",
      "       7.82000591e-02, 4.21383193e-02, 1.44101962e-01, 9.30941465e-02,\n",
      "       5.23322992e-02, 7.85585324e-02, 1.40282764e-01,            nan,\n",
      "       8.05877848e-01,            nan,            nan, 5.34589165e-02,\n",
      "       7.30054010e-01, 7.65903465e-01,            nan, 2.45295660e-01,\n",
      "       6.44978894e-02, 7.51818156e-02, 1.71403581e-01, 2.93649084e-02,\n",
      "       6.17387873e-01, 2.54410747e-02, 4.22352163e-01, 2.33571102e-01,\n",
      "       1.87342057e-01, 6.87551662e-02,            nan, 2.20497873e-01,\n",
      "       9.32539255e-01,            nan, 4.67123264e-02,            nan,\n",
      "       3.07365455e-01, 6.98912186e-01, 2.83810406e-01, 9.01803224e-02,\n",
      "                  nan, 4.96542419e-02,            nan, 7.59106920e-02,\n",
      "       1.35896362e-01, 2.58436585e-01, 3.76313878e-02,            nan,\n",
      "                  nan, 6.20042929e-01, 1.81550251e-01, 1.11198129e+00,\n",
      "       4.49846792e-02, 4.45015480e-02, 5.02575212e-02,            nan,\n",
      "       9.89678200e-02, 1.29421824e+00, 1.69576585e-01, 2.47811943e-01,\n",
      "       3.33477450e-02, 1.58402236e-01, 8.71179432e-02, 6.31586023e-02,\n",
      "       6.64800131e-02,            nan, 8.09150694e-02,            nan,\n",
      "       5.81469555e-01, 1.22642784e-01, 7.81769359e-02, 1.22672103e-02,\n",
      "                  nan,            nan, 4.30644073e-02,            nan,\n",
      "                  nan,            nan,            nan, 1.29257194e-01,\n",
      "       2.00704863e-01,            nan, 6.30834177e-01, 4.31145578e-01,\n",
      "                  nan, 4.36542877e-02, 1.13463144e+00,            nan,\n",
      "       7.18696749e-02, 1.36220417e-01, 1.26569838e-01,            nan,\n",
      "                  nan,            nan, 2.35787800e-01, 1.39378796e-02,\n",
      "       1.85159517e-01, 4.48694220e-01, 4.58848587e-02, 2.10529793e-02,\n",
      "       7.66574402e-02, 3.33018859e-02, 1.74599472e-01,            nan,\n",
      "       2.76273671e-02, 1.15900527e-01,            nan, 1.72333392e-01,\n",
      "                  nan,            nan,            nan,            nan,\n",
      "       2.82166907e-02, 2.21537691e-02, 2.60840115e-01,            nan,\n",
      "       2.47980199e-02,            nan, 1.15239517e-02, 5.49054583e-02,\n",
      "       1.42722013e-02,            nan, 2.47258687e-02, 2.13794254e-01,\n",
      "                  nan, 6.46957603e-02, 9.09666150e-02, 2.91475501e-02,\n",
      "                  nan, 1.94284225e-01, 2.40204303e-02, 7.26859617e-02,\n",
      "                  nan,            nan, 1.85120142e-02, 3.50560527e-02,\n",
      "       4.56599672e-02, 1.24931433e-03,            nan, 1.04601985e-02,\n",
      "       2.74173502e-02, 5.29420788e-02, 5.37847064e-02, 1.54967267e-01,\n",
      "                  nan, 7.57621425e-02,            nan, 1.10476512e-01,\n",
      "                  nan, 6.13299555e-02,            nan, 1.16299042e-01,\n",
      "       1.28837611e-01, 7.70237054e-02,            nan,            nan,\n",
      "                  nan, 3.24037400e-02, 6.30156903e-03, 2.11692861e-02,\n",
      "       5.67067646e-01])\n"
     ]
    },
    {
     "name": "stdin",
     "output_type": "stream",
     "text": [
      "ipdb>  np.shape(cell_mean)\n"
     ]
    },
    {
     "name": "stdout",
     "output_type": "stream",
     "text": [
      "(169,)\n"
     ]
    },
    {
     "name": "stdin",
     "output_type": "stream",
     "text": [
      "ipdb>  np.shape(np.array(responses))\n"
     ]
    },
    {
     "name": "stdout",
     "output_type": "stream",
     "text": [
      "(3, 3)\n"
     ]
    },
    {
     "name": "stdin",
     "output_type": "stream",
     "text": [
      "ipdb>                      responses = [[np.nan, np.nan, np.nan],                                  [np.nan, np.nan, np.nan]]\n",
      "ipdb>  np.shape(np.array(responses))\n"
     ]
    },
    {
     "name": "stdout",
     "output_type": "stream",
     "text": [
      "(2, 3)\n"
     ]
    },
    {
     "name": "stdin",
     "output_type": "stream",
     "text": [
      "ipdb>  quit\n"
     ]
    }
   ],
   "source": [
    "debug"
   ]
  }
 ],
 "metadata": {
  "kernelspec": {
   "display_name": "Python 3",
   "language": "python",
   "name": "python3"
  },
  "language_info": {
   "codemirror_mode": {
    "name": "ipython",
    "version": 3
   },
   "file_extension": ".py",
   "mimetype": "text/x-python",
   "name": "python",
   "nbconvert_exporter": "python",
   "pygments_lexer": "ipython3",
   "version": "3.6.7"
  }
 },
 "nbformat": 4,
 "nbformat_minor": 2
}
