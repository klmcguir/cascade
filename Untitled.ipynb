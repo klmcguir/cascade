{
 "cells": [
  {
   "cell_type": "code",
   "execution_count": null,
   "metadata": {},
   "outputs": [],
   "source": []
  },
  {
   "cell_type": "code",
   "execution_count": null,
   "metadata": {},
   "outputs": [],
   "source": []
  },
  {
   "cell_type": "code",
   "execution_count": null,
   "metadata": {},
   "outputs": [],
   "source": [
    "xmouse_bias = []\n",
    "# xmouse_norm_response = []\n",
    "xmouse_dprime = []\n",
    "xmouse_lstate = []\n",
    "for mouse in ['OA27', 'OA26', 'VF226', 'OA67', 'CC175']:\n",
    "# mouse='OA27'\n",
    "    trace_type='dff'\n",
    "    driven=True\n",
    "    drive_css=['plus', 'minus', 'neutral']\n",
    "    stim_offset=1\n",
    "    smooth=False\n",
    "    drive_thresh = 5\n",
    "    \"\"\"\n",
    "    Get mean repsonse per cell.\n",
    "    \"\"\"\n",
    "\n",
    "    # get all days for a mouse\n",
    "    learning_state = []\n",
    "    xday_bias = []\n",
    "    xday_norm_response = []\n",
    "    xday_dprime = []\n",
    "    days = flow.metadata.DateSorter.frommeta(mice=[mouse])\n",
    "    for DaySorter in days:\n",
    "\n",
    "        # get all cell ids\n",
    "        d1_ids = flow.xday._read_crossday_ids(DaySorter.mouse, DaySorter.date)\n",
    "        d1_ids = np.array([int(s) for s in d1_ids])\n",
    "\n",
    "        # filter cells based on visual drive across all cs, prevent\n",
    "        # breaking when only pavs are shown\n",
    "        if driven:\n",
    "            d1_drive = []\n",
    "            for dcs in drive_css:\n",
    "                try:\n",
    "                    d1_drive.append(pool.calc.driven.visually(DaySorter, dcs))\n",
    "                except KeyError:\n",
    "                    print(str(DaySorter) + ' requested ' + dcs +\n",
    "                          ': no match to what was shown (probably pav only).')\n",
    "            d1_drive = np.max(d1_drive, axis=0) > drive_thresh\n",
    "            cells = d1_ids[d1_drive]\n",
    "            cells_not_driven = d1_ids[d1_drive == false]\n",
    "        else:\n",
    "            cells = d1_ids\n"
   ]
  }
 ],
 "metadata": {
  "kernelspec": {
   "display_name": "Python 3",
   "language": "python",
   "name": "python3"
  },
  "language_info": {
   "codemirror_mode": {
    "name": "ipython",
    "version": 3
   },
   "file_extension": ".py",
   "mimetype": "text/x-python",
   "name": "python",
   "nbconvert_exporter": "python",
   "pygments_lexer": "ipython3",
   "version": "3.6.7"
  }
 },
 "nbformat": 4,
 "nbformat_minor": 2
}
