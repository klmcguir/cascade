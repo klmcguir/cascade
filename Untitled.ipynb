{
 "cells": [
  {
   "cell_type": "code",
   "execution_count": 1,
   "metadata": {},
   "outputs": [],
   "source": [
    "from flow.misc import wordhash\n",
    "import json"
   ]
  },
  {
   "cell_type": "code",
   "execution_count": 16,
   "metadata": {},
   "outputs": [],
   "source": [
    "tags=None\n",
    "\n",
    "# TCA params\n",
    "rank=20\n",
    "method=('ncp_bcd',)\n",
    "replicates=3\n",
    "fit_options=dict(tol=1e-4)\n",
    "\n",
    "# tensor params\n",
    "trace_type='zscore_iti'\n",
    "cs=''\n",
    "downsample=True\n",
    "start_time=-1\n",
    "end_time=6\n",
    "clean_artifacts='interp'\n",
    "thresh=20\n",
    "warp=False\n",
    "smooth=True\n",
    "smooth_win=5\n",
    "verbose=True\n",
    "\n",
    "# filtering params\n",
    "exclude_tags=['disengaged', 'orientation_mapping', 'contrast', 'retinotopy']\n",
    "driven=True\n",
    "drive_css=['0', '135', '270']\n",
    "drive_threshold=15\n",
    "\n",
    "\n",
    "pars = {'tags': tags, 'rank': rank, 'method': method, 'replicates': replicates,\n",
    "        'fit_options': fit_options, 'trace_type': trace_type, 'cs': cs,\n",
    "        'downsample': downsample, 'start_time': start_time,\n",
    "        'end_time': end_time, 'clean_artifacts': clean_artifacts,\n",
    "        'thresh': thresh, 'warp': warp, 'smooth': smooth, 'smooth_win': smooth_win,\n",
    "        'exclude_tags': exclude_tags, 'driven': driven, 'drive_css': drive_css,\n",
    "        'drive_threshold': drive_threshold}\n",
    "\n",
    "def tca_path(mouse, grouping, pars=None, word=None)\n",
    "    \n",
    "    # check inputs\n",
    "    if (grouping != 'single') | (grouping != 'pair'):\n",
    "        print('Unacceptable grouping: try: single or pair.')\n",
    "        return\n",
    "    \n",
    "    # get word\n",
    "    if pars and not word:\n",
    "        pars_word = wordhash.word(pars)\n",
    "        print('TCA parameters hashed: ' + pars_word)\n",
    "    elif pars and word:\n",
    "        pars_word = word\n",
    "    else:\n",
    "        print('ERROR: Neither pars or word were passed to tca_path.')\n",
    "        return\n",
    "\n",
    "    # create folder structure and save dir\n",
    "    cs_tag = '' if len(pars['cs']) == 0 else '-' + str(pars['cs'])\n",
    "    warp_tag = '' if pars['warp'] is False else '-warp'\n",
    "    trace_tag = '-' + pars['trace_type']\n",
    "    pars_tag = '-' + pars_word\n",
    "    tca_tag = 'tensors-' + crowd + '-'\n",
    "    folder_name = 'tensors single ' + trace_tag + cs_tag + warp_tag +\n",
    "    save_dir = os.path.join(flow.paths.outd, mouse)\n",
    "    if not os.path.isdir(save_dir): os.mkdir(save_dir)\n",
    "    save_dir = os.path.join(save_dir, folder_name)\n",
    "    if not os.path.isdir(save_dir): os.mkdir(save_dir)\n",
    "\n",
    "    # save your parameters into a text file\n",
    "    pars_path = os.path.join(save_dir, 'tca_params.txt')\n",
    "    if pars and not word:\n",
    "        with open(pars_path, 'w') as file:\n",
    "             file.write(json.dumps(pars)) # use 'json.loads' to do the reverse\n",
    "\n",
    "    return save_dir\n",
    "\n",
    "# concatenate and save df for the day\n",
    "meta_path = os.path.join(save_dir, str(day1.mouse) + '_' + str(day1.date)\n",
    "                         + '_df_single_meta.pkl')\n",
    "input_tensor_path = os.path.join(save_dir, str(day1.mouse) + '_' + str(day1.date)\n",
    "                                 + '_single_tensor_' + str(trace_type) + '.npy')\n",
    "output_tensor_path = os.path.join(save_dir, str(day1.mouse) + '_' + str(day1.date)\n",
    "                                  + '_single_decomp_' + str(trace_type) + '.npy')\n",
    "meta.to_pickle(meta_path)\n",
    "np.save(input_tensor_path, tensor, ids)"
   ]
  },
  {
   "cell_type": "code",
   "execution_count": 17,
   "metadata": {},
   "outputs": [
    {
     "data": {
      "text/plain": [
       "'reuters'"
      ]
     },
     "execution_count": 17,
     "metadata": {},
     "output_type": "execute_result"
    }
   ],
   "source": [
    "word"
   ]
  }
 ],
 "metadata": {
  "kernelspec": {
   "display_name": "Python 3",
   "language": "python",
   "name": "python3"
  },
  "language_info": {
   "codemirror_mode": {
    "name": "ipython",
    "version": 3
   },
   "file_extension": ".py",
   "mimetype": "text/x-python",
   "name": "python",
   "nbconvert_exporter": "python",
   "pygments_lexer": "ipython3",
   "version": "3.6.7"
  }
 },
 "nbformat": 4,
 "nbformat_minor": 2
}
